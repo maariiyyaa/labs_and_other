{
  "cells": [
    {
      "cell_type": "code",
      "execution_count": 4,
      "metadata": {
        "id": "aoSsk9w4Wrub"
      },
      "outputs": [],
      "source": [
        "import pandas as pd\n",
        "from functools import reduce\n",
        "import re\n",
        "import string\n",
        "import nltk\n",
        "from nltk.corpus import stopwords\n",
        "import zipfile\n",
        "\n",
        "from sklearn.utils import shuffle\n",
        "from keras.layers import Input, LSTM, Embedding, Dense\n",
        "from keras.models import Model\n",
        "\n",
        "import numpy as np\n",
        "import matplotlib.pyplot as plt\n",
        "from sklearn.model_selection import train_test_split\n",
        "from sklearn.metrics import confusion_matrix, accuracy_score\n"
      ]
    },
    {
      "cell_type": "code",
      "execution_count": 5,
      "metadata": {
        "colab": {
          "base_uri": "https://localhost:8080/",
          "height": 411
        },
        "id": "e19I_0X2WYB7",
        "outputId": "4868c4bf-b702-4d40-a921-e368c76f282f"
      },
      "outputs": [
        {
          "output_type": "execute_result",
          "data": {
            "text/html": [
              "\n",
              "  <div id=\"df-a8e6b950-b1ab-4d6a-9e8e-a1d8325b120c\">\n",
              "    <div class=\"colab-df-container\">\n",
              "      <div>\n",
              "<style scoped>\n",
              "    .dataframe tbody tr th:only-of-type {\n",
              "        vertical-align: middle;\n",
              "    }\n",
              "\n",
              "    .dataframe tbody tr th {\n",
              "        vertical-align: top;\n",
              "    }\n",
              "\n",
              "    .dataframe thead th {\n",
              "        text-align: right;\n",
              "    }\n",
              "</style>\n",
              "<table border=\"1\" class=\"dataframe\">\n",
              "  <thead>\n",
              "    <tr style=\"text-align: right;\">\n",
              "      <th></th>\n",
              "      <th>eng</th>\n",
              "      <th>rus</th>\n",
              "    </tr>\n",
              "  </thead>\n",
              "  <tbody>\n",
              "    <tr>\n",
              "      <th>0</th>\n",
              "      <td>Go.</td>\n",
              "      <td>Марш!</td>\n",
              "    </tr>\n",
              "    <tr>\n",
              "      <th>1</th>\n",
              "      <td>Go.</td>\n",
              "      <td>Иди.</td>\n",
              "    </tr>\n",
              "    <tr>\n",
              "      <th>2</th>\n",
              "      <td>Go.</td>\n",
              "      <td>Идите.</td>\n",
              "    </tr>\n",
              "    <tr>\n",
              "      <th>3</th>\n",
              "      <td>Hi.</td>\n",
              "      <td>Здравствуйте.</td>\n",
              "    </tr>\n",
              "    <tr>\n",
              "      <th>4</th>\n",
              "      <td>Hi.</td>\n",
              "      <td>Привет!</td>\n",
              "    </tr>\n",
              "    <tr>\n",
              "      <th>...</th>\n",
              "      <td>...</td>\n",
              "      <td>...</td>\n",
              "    </tr>\n",
              "    <tr>\n",
              "      <th>117523</th>\n",
              "      <td>My mother has been dead these ten years.</td>\n",
              "      <td>Вот уже десять лет, как моя мать умерла.</td>\n",
              "    </tr>\n",
              "    <tr>\n",
              "      <th>117524</th>\n",
              "      <td>My mother made a beautiful dress for me.</td>\n",
              "      <td>Мама сшила мне красивое платье.</td>\n",
              "    </tr>\n",
              "    <tr>\n",
              "      <th>117525</th>\n",
              "      <td>My mother often bakes apple pies for us.</td>\n",
              "      <td>Моя мать часто печёт для нас яблочные пироги.</td>\n",
              "    </tr>\n",
              "    <tr>\n",
              "      <th>117526</th>\n",
              "      <td>My mother put a large vase on the shelf.</td>\n",
              "      <td>Мама поставила на полку большую вазу.</td>\n",
              "    </tr>\n",
              "    <tr>\n",
              "      <th>117527</th>\n",
              "      <td>My mother tried to reconcile the couple.</td>\n",
              "      <td>Моя мама пыталась помирить пару.</td>\n",
              "    </tr>\n",
              "  </tbody>\n",
              "</table>\n",
              "<p>117528 rows × 2 columns</p>\n",
              "</div>\n",
              "      <button class=\"colab-df-convert\" onclick=\"convertToInteractive('df-a8e6b950-b1ab-4d6a-9e8e-a1d8325b120c')\"\n",
              "              title=\"Convert this dataframe to an interactive table.\"\n",
              "              style=\"display:none;\">\n",
              "        \n",
              "  <svg xmlns=\"http://www.w3.org/2000/svg\" height=\"24px\"viewBox=\"0 0 24 24\"\n",
              "       width=\"24px\">\n",
              "    <path d=\"M0 0h24v24H0V0z\" fill=\"none\"/>\n",
              "    <path d=\"M18.56 5.44l.94 2.06.94-2.06 2.06-.94-2.06-.94-.94-2.06-.94 2.06-2.06.94zm-11 1L8.5 8.5l.94-2.06 2.06-.94-2.06-.94L8.5 2.5l-.94 2.06-2.06.94zm10 10l.94 2.06.94-2.06 2.06-.94-2.06-.94-.94-2.06-.94 2.06-2.06.94z\"/><path d=\"M17.41 7.96l-1.37-1.37c-.4-.4-.92-.59-1.43-.59-.52 0-1.04.2-1.43.59L10.3 9.45l-7.72 7.72c-.78.78-.78 2.05 0 2.83L4 21.41c.39.39.9.59 1.41.59.51 0 1.02-.2 1.41-.59l7.78-7.78 2.81-2.81c.8-.78.8-2.07 0-2.86zM5.41 20L4 18.59l7.72-7.72 1.47 1.35L5.41 20z\"/>\n",
              "  </svg>\n",
              "      </button>\n",
              "      \n",
              "  <style>\n",
              "    .colab-df-container {\n",
              "      display:flex;\n",
              "      flex-wrap:wrap;\n",
              "      gap: 12px;\n",
              "    }\n",
              "\n",
              "    .colab-df-convert {\n",
              "      background-color: #E8F0FE;\n",
              "      border: none;\n",
              "      border-radius: 50%;\n",
              "      cursor: pointer;\n",
              "      display: none;\n",
              "      fill: #1967D2;\n",
              "      height: 32px;\n",
              "      padding: 0 0 0 0;\n",
              "      width: 32px;\n",
              "    }\n",
              "\n",
              "    .colab-df-convert:hover {\n",
              "      background-color: #E2EBFA;\n",
              "      box-shadow: 0px 1px 2px rgba(60, 64, 67, 0.3), 0px 1px 3px 1px rgba(60, 64, 67, 0.15);\n",
              "      fill: #174EA6;\n",
              "    }\n",
              "\n",
              "    [theme=dark] .colab-df-convert {\n",
              "      background-color: #3B4455;\n",
              "      fill: #D2E3FC;\n",
              "    }\n",
              "\n",
              "    [theme=dark] .colab-df-convert:hover {\n",
              "      background-color: #434B5C;\n",
              "      box-shadow: 0px 1px 3px 1px rgba(0, 0, 0, 0.15);\n",
              "      filter: drop-shadow(0px 1px 2px rgba(0, 0, 0, 0.3));\n",
              "      fill: #FFFFFF;\n",
              "    }\n",
              "  </style>\n",
              "\n",
              "      <script>\n",
              "        const buttonEl =\n",
              "          document.querySelector('#df-a8e6b950-b1ab-4d6a-9e8e-a1d8325b120c button.colab-df-convert');\n",
              "        buttonEl.style.display =\n",
              "          google.colab.kernel.accessAllowed ? 'block' : 'none';\n",
              "\n",
              "        async function convertToInteractive(key) {\n",
              "          const element = document.querySelector('#df-a8e6b950-b1ab-4d6a-9e8e-a1d8325b120c');\n",
              "          const dataTable =\n",
              "            await google.colab.kernel.invokeFunction('convertToInteractive',\n",
              "                                                     [key], {});\n",
              "          if (!dataTable) return;\n",
              "\n",
              "          const docLinkHtml = 'Like what you see? Visit the ' +\n",
              "            '<a target=\"_blank\" href=https://colab.research.google.com/notebooks/data_table.ipynb>data table notebook</a>'\n",
              "            + ' to learn more about interactive tables.';\n",
              "          element.innerHTML = '';\n",
              "          dataTable['output_type'] = 'display_data';\n",
              "          await google.colab.output.renderOutput(dataTable, element);\n",
              "          const docLink = document.createElement('div');\n",
              "          docLink.innerHTML = docLinkHtml;\n",
              "          element.appendChild(docLink);\n",
              "        }\n",
              "      </script>\n",
              "    </div>\n",
              "  </div>\n",
              "  "
            ],
            "text/plain": [
              "                                             eng                                            rus\n",
              "0                                            Go.                                          Марш!\n",
              "1                                            Go.                                           Иди.\n",
              "2                                            Go.                                         Идите.\n",
              "3                                            Hi.                                  Здравствуйте.\n",
              "4                                            Hi.                                        Привет!\n",
              "...                                          ...                                            ...\n",
              "117523  My mother has been dead these ten years.       Вот уже десять лет, как моя мать умерла.\n",
              "117524  My mother made a beautiful dress for me.                Мама сшила мне красивое платье.\n",
              "117525  My mother often bakes apple pies for us.  Моя мать часто печёт для нас яблочные пироги.\n",
              "117526  My mother put a large vase on the shelf.          Мама поставила на полку большую вазу.\n",
              "117527  My mother tried to reconcile the couple.               Моя мама пыталась помирить пару.\n",
              "\n",
              "[117528 rows x 2 columns]"
            ]
          },
          "metadata": {},
          "execution_count": 5
        }
      ],
      "source": [
        "path = '/content/rus.txt'\n",
        "df= pd.read_csv(path, sep='\\t', names =['eng', 'rus', 'meta'])[['eng', 'rus']]\n",
        "df"
      ]
    },
    {
      "cell_type": "code",
      "execution_count": 6,
      "metadata": {
        "id": "z3iADHFrZZ4V"
      },
      "outputs": [],
      "source": [
        "# nltk.download('stopwords')\n",
        "# eng_stop_words = set(stopwords.words('english'))\n",
        "# rus_stop_words = set(stopwords.words('russian'))"
      ]
    },
    {
      "cell_type": "code",
      "execution_count": 7,
      "metadata": {
        "colab": {
          "base_uri": "https://localhost:8080/",
          "height": 411
        },
        "id": "wzjBH-flYk2l",
        "outputId": "ed736922-7896-492a-e713-13be03717ddb"
      },
      "outputs": [
        {
          "output_type": "execute_result",
          "data": {
            "text/html": [
              "\n",
              "  <div id=\"df-58ee003d-c9f1-4b7f-ba5f-bd5b48279a96\">\n",
              "    <div class=\"colab-df-container\">\n",
              "      <div>\n",
              "<style scoped>\n",
              "    .dataframe tbody tr th:only-of-type {\n",
              "        vertical-align: middle;\n",
              "    }\n",
              "\n",
              "    .dataframe tbody tr th {\n",
              "        vertical-align: top;\n",
              "    }\n",
              "\n",
              "    .dataframe thead th {\n",
              "        text-align: right;\n",
              "    }\n",
              "</style>\n",
              "<table border=\"1\" class=\"dataframe\">\n",
              "  <thead>\n",
              "    <tr style=\"text-align: right;\">\n",
              "      <th></th>\n",
              "      <th>eng</th>\n",
              "      <th>rus</th>\n",
              "    </tr>\n",
              "  </thead>\n",
              "  <tbody>\n",
              "    <tr>\n",
              "      <th>0</th>\n",
              "      <td>[go]</td>\n",
              "      <td>[\\t, марш, \\n]</td>\n",
              "    </tr>\n",
              "    <tr>\n",
              "      <th>1</th>\n",
              "      <td>[go]</td>\n",
              "      <td>[\\t, иди, \\n]</td>\n",
              "    </tr>\n",
              "    <tr>\n",
              "      <th>2</th>\n",
              "      <td>[go]</td>\n",
              "      <td>[\\t, идите, \\n]</td>\n",
              "    </tr>\n",
              "    <tr>\n",
              "      <th>3</th>\n",
              "      <td>[hi]</td>\n",
              "      <td>[\\t, здравствуйте, \\n]</td>\n",
              "    </tr>\n",
              "    <tr>\n",
              "      <th>4</th>\n",
              "      <td>[hi]</td>\n",
              "      <td>[\\t, привет, \\n]</td>\n",
              "    </tr>\n",
              "    <tr>\n",
              "      <th>...</th>\n",
              "      <td>...</td>\n",
              "      <td>...</td>\n",
              "    </tr>\n",
              "    <tr>\n",
              "      <th>117523</th>\n",
              "      <td>[my, mother, has, been, dead, these, ten, years]</td>\n",
              "      <td>[\\t, вот, уже, десять, лет, как, моя, мать, ум...</td>\n",
              "    </tr>\n",
              "    <tr>\n",
              "      <th>117524</th>\n",
              "      <td>[my, mother, made, a, beautiful, dress, for, me]</td>\n",
              "      <td>[\\t, мама, сшила, мне, красивое, платье, \\n]</td>\n",
              "    </tr>\n",
              "    <tr>\n",
              "      <th>117525</th>\n",
              "      <td>[my, mother, often, bakes, apple, pies, for, us]</td>\n",
              "      <td>[\\t, моя, мать, часто, печёт, для, нас, яблочн...</td>\n",
              "    </tr>\n",
              "    <tr>\n",
              "      <th>117526</th>\n",
              "      <td>[my, mother, put, a, large, vase, on, the, shelf]</td>\n",
              "      <td>[\\t, мама, поставила, на, полку, большую, вазу...</td>\n",
              "    </tr>\n",
              "    <tr>\n",
              "      <th>117527</th>\n",
              "      <td>[my, mother, tried, to, reconcile, the, couple]</td>\n",
              "      <td>[\\t, моя, мама, пыталась, помирить, пару, \\n]</td>\n",
              "    </tr>\n",
              "  </tbody>\n",
              "</table>\n",
              "<p>117528 rows × 2 columns</p>\n",
              "</div>\n",
              "      <button class=\"colab-df-convert\" onclick=\"convertToInteractive('df-58ee003d-c9f1-4b7f-ba5f-bd5b48279a96')\"\n",
              "              title=\"Convert this dataframe to an interactive table.\"\n",
              "              style=\"display:none;\">\n",
              "        \n",
              "  <svg xmlns=\"http://www.w3.org/2000/svg\" height=\"24px\"viewBox=\"0 0 24 24\"\n",
              "       width=\"24px\">\n",
              "    <path d=\"M0 0h24v24H0V0z\" fill=\"none\"/>\n",
              "    <path d=\"M18.56 5.44l.94 2.06.94-2.06 2.06-.94-2.06-.94-.94-2.06-.94 2.06-2.06.94zm-11 1L8.5 8.5l.94-2.06 2.06-.94-2.06-.94L8.5 2.5l-.94 2.06-2.06.94zm10 10l.94 2.06.94-2.06 2.06-.94-2.06-.94-.94-2.06-.94 2.06-2.06.94z\"/><path d=\"M17.41 7.96l-1.37-1.37c-.4-.4-.92-.59-1.43-.59-.52 0-1.04.2-1.43.59L10.3 9.45l-7.72 7.72c-.78.78-.78 2.05 0 2.83L4 21.41c.39.39.9.59 1.41.59.51 0 1.02-.2 1.41-.59l7.78-7.78 2.81-2.81c.8-.78.8-2.07 0-2.86zM5.41 20L4 18.59l7.72-7.72 1.47 1.35L5.41 20z\"/>\n",
              "  </svg>\n",
              "      </button>\n",
              "      \n",
              "  <style>\n",
              "    .colab-df-container {\n",
              "      display:flex;\n",
              "      flex-wrap:wrap;\n",
              "      gap: 12px;\n",
              "    }\n",
              "\n",
              "    .colab-df-convert {\n",
              "      background-color: #E8F0FE;\n",
              "      border: none;\n",
              "      border-radius: 50%;\n",
              "      cursor: pointer;\n",
              "      display: none;\n",
              "      fill: #1967D2;\n",
              "      height: 32px;\n",
              "      padding: 0 0 0 0;\n",
              "      width: 32px;\n",
              "    }\n",
              "\n",
              "    .colab-df-convert:hover {\n",
              "      background-color: #E2EBFA;\n",
              "      box-shadow: 0px 1px 2px rgba(60, 64, 67, 0.3), 0px 1px 3px 1px rgba(60, 64, 67, 0.15);\n",
              "      fill: #174EA6;\n",
              "    }\n",
              "\n",
              "    [theme=dark] .colab-df-convert {\n",
              "      background-color: #3B4455;\n",
              "      fill: #D2E3FC;\n",
              "    }\n",
              "\n",
              "    [theme=dark] .colab-df-convert:hover {\n",
              "      background-color: #434B5C;\n",
              "      box-shadow: 0px 1px 3px 1px rgba(0, 0, 0, 0.15);\n",
              "      filter: drop-shadow(0px 1px 2px rgba(0, 0, 0, 0.3));\n",
              "      fill: #FFFFFF;\n",
              "    }\n",
              "  </style>\n",
              "\n",
              "      <script>\n",
              "        const buttonEl =\n",
              "          document.querySelector('#df-58ee003d-c9f1-4b7f-ba5f-bd5b48279a96 button.colab-df-convert');\n",
              "        buttonEl.style.display =\n",
              "          google.colab.kernel.accessAllowed ? 'block' : 'none';\n",
              "\n",
              "        async function convertToInteractive(key) {\n",
              "          const element = document.querySelector('#df-58ee003d-c9f1-4b7f-ba5f-bd5b48279a96');\n",
              "          const dataTable =\n",
              "            await google.colab.kernel.invokeFunction('convertToInteractive',\n",
              "                                                     [key], {});\n",
              "          if (!dataTable) return;\n",
              "\n",
              "          const docLinkHtml = 'Like what you see? Visit the ' +\n",
              "            '<a target=\"_blank\" href=https://colab.research.google.com/notebooks/data_table.ipynb>data table notebook</a>'\n",
              "            + ' to learn more about interactive tables.';\n",
              "          element.innerHTML = '';\n",
              "          dataTable['output_type'] = 'display_data';\n",
              "          await google.colab.output.renderOutput(dataTable, element);\n",
              "          const docLink = document.createElement('div');\n",
              "          docLink.innerHTML = docLinkHtml;\n",
              "          element.appendChild(docLink);\n",
              "        }\n",
              "      </script>\n",
              "    </div>\n",
              "  </div>\n",
              "  "
            ],
            "text/plain": [
              "                                                      eng                                                rus\n",
              "0                                                    [go]                                     [\\t, марш, \\n]\n",
              "1                                                    [go]                                      [\\t, иди, \\n]\n",
              "2                                                    [go]                                    [\\t, идите, \\n]\n",
              "3                                                    [hi]                             [\\t, здравствуйте, \\n]\n",
              "4                                                    [hi]                                   [\\t, привет, \\n]\n",
              "...                                                   ...                                                ...\n",
              "117523   [my, mother, has, been, dead, these, ten, years]  [\\t, вот, уже, десять, лет, как, моя, мать, ум...\n",
              "117524   [my, mother, made, a, beautiful, dress, for, me]       [\\t, мама, сшила, мне, красивое, платье, \\n]\n",
              "117525   [my, mother, often, bakes, apple, pies, for, us]  [\\t, моя, мать, часто, печёт, для, нас, яблочн...\n",
              "117526  [my, mother, put, a, large, vase, on, the, shelf]  [\\t, мама, поставила, на, полку, большую, вазу...\n",
              "117527    [my, mother, tried, to, reconcile, the, couple]      [\\t, моя, мама, пыталась, помирить, пару, \\n]\n",
              "\n",
              "[117528 rows x 2 columns]"
            ]
          },
          "metadata": {},
          "execution_count": 7
        }
      ],
      "source": [
        "from nltk.corpus.reader import xmldocs\n",
        "def remove_punctuation(text_str):\n",
        "    result = \"\"\n",
        "    for c in text_str:\n",
        "        # If char is not punctuation, add it to the result.\n",
        "        if c not in string.punctuation and c!='':\n",
        "            result += c\n",
        "    return result\n",
        "\n",
        "def remove_stopwrds(list_str, stop_words):\n",
        "    filtered_list = []\n",
        "    for w in list_str:\n",
        "        # If a word is not in stopwords, add it to the result.\n",
        "        if w not in stop_words:\n",
        "            filtered_list.append(w)\n",
        "    return ' '.join([str(elem) for elem in filtered_list])\n",
        "\n",
        "\n",
        "def process_text(df, col):\n",
        "  df[col] = df[col].apply(lambda x: x.lower())\n",
        "  df[col] = df[col].apply(lambda x: re.sub(\"'\", '', x)) \n",
        "  df[col] = df[col].apply(remove_punctuation)\n",
        "  # df[col] = df[col].apply(lambda x: remove_stopwrds(x.split(' '), stop_words))\n",
        "  df[col] = df[col].apply(lambda x: x.strip())\n",
        "  df[col] = df[col].apply(lambda x: re.sub(\" +\", \" \", x))\n",
        "  df[col] = df[col].apply(lambda x: ''.join(i for i in x if not i.isdigit()))\n",
        "  if col == 'rus':\n",
        "    df[col] = df[col].apply(lambda x : '\\t '+ x + ' \\n')\n",
        "  df[col] = df[col].apply(lambda x : x.split(' '))\n",
        "  df[col] = df[col].apply(lambda x : list(filter(None, x)))\n",
        "\n",
        "  return df\n",
        "\n",
        "df = process_text(df, 'eng')\n",
        "df = process_text(df, 'rus')\n",
        "df"
      ]
    },
    {
      "cell_type": "code",
      "execution_count": 8,
      "metadata": {
        "colab": {
          "base_uri": "https://localhost:8080/"
        },
        "id": "MnesaoYCbhp9",
        "outputId": "dbc496dd-07af-429c-d12f-c80fa3a54e2e"
      },
      "outputs": [
        {
          "output_type": "stream",
          "name": "stdout",
          "text": [
            "eng bag size:  7912\n",
            "rus bag size:  22845\n"
          ]
        }
      ],
      "source": [
        "rus_w_set = set(df.explode('rus').rus)\n",
        "eng_w_set = set(df.explode('eng').eng)\n",
        "eng_words= sorted(list(eng_w_set))\n",
        "rus_words=sorted(list(rus_w_set))\n",
        "num_encoder_tokens = len(eng_words)\n",
        "num_decoder_tokens = len(rus_words) #improved, was len(rus_words)+1\n",
        "\n",
        "print(f'eng bag size:  {num_encoder_tokens}')\n",
        "print(f'rus bag size:  {num_decoder_tokens}')"
      ]
    },
    {
      "cell_type": "code",
      "execution_count": 9,
      "metadata": {
        "colab": {
          "base_uri": "https://localhost:8080/"
        },
        "id": "h0bk_t68gO5K",
        "outputId": "4aa2ef24-cfed-404f-8338-f6dc3a9243d4"
      },
      "outputs": [
        {
          "output_type": "stream",
          "name": "stdout",
          "text": [
            " Max length of the eng sentence   9\n",
            " Max length of the rus sentence   13\n"
          ]
        }
      ],
      "source": [
        "def get_max_lenght(df, col):\n",
        "  return df[col].apply(len).max()\n",
        "  \n",
        "max_eng_len = get_max_lenght(df, 'eng')\n",
        "print(\" Max length of the eng sentence  \", max_eng_len)\n",
        "max_rus_len = get_max_lenght(df, 'rus')\n",
        "print(\" Max length of the rus sentence  \", max_rus_len)"
      ]
    },
    {
      "cell_type": "code",
      "execution_count": 11,
      "metadata": {
        "colab": {
          "base_uri": "https://localhost:8080/"
        },
        "id": "E2GVn9sg91D5",
        "outputId": "e07f7b64-1156-479f-f637-314816167661"
      },
      "outputs": [
        {
          "output_type": "stream",
          "name": "stdout",
          "text": [
            "{0: 'a', 1: 'aah', 2: 'aback', 3: 'abandon', 4: 'abandoned', 5: 'abated', 6: 'abc', 7: 'abilities', 8: 'able', 9: 'aboard', 10: 'about', 11: 'above', 12: 'abroad', 13: 'abruptly', 14: 'absent', 15: 'absentminded', 16: 'absolute', 17: 'absolutely', 18: 'absorb', 19: 'absorbs', 20: 'abstained', 21: 'absurd', 22: 'abused', 23: 'abusive', 24: 'accelerated', 25: 'accent', 26: 'accept', 27: 'acceptable', 28: 'accepted', 29: 'accident', 30: 'accompanied', 31: 'accompany', 32: 'accomplished', 33: 'accordion', 34: 'account', 35: 'accountant', 36: 'accurate', 37: 'accused', 38: 'accusing', 39: 'aces', 40: 'acetone', 41: 'ache', 42: 'ached', 43: 'aches', 44: 'achieved', 45: 'aching', 46: 'acid', 47: 'acids', 48: 'acne', 49: 'acorns', 50: 'acquainted', 51: 'acquitted', 52: 'acrobat', 53: 'across', 54: 'acrylic', 55: 'act', 56: 'acted', 57: 'acting', 58: 'action', 59: 'active', 60: 'actor', 61: 'actors', 62: 'actress', 63: 'actresses', 64: 'acts', 65: 'actually', 66: 'ad', 67: 'adaptable', 68: 'adapters', 69: 'add', 70: 'added', 71: 'addict', 72: 'addicted', 73: 'addictive', 74: 'address', 75: 'adequate', 76: 'adjective', 77: 'adjoin', 78: 'adjourned', 79: 'adjust', 80: 'adjusted', 81: 'admire', 82: 'admired', 83: 'admires', 84: 'admiringly', 85: 'admission', 86: 'admit', 87: 'admitted', 88: 'adopt', 89: 'adopted', 90: 'adorable', 91: 'adore', 92: 'adored', 93: 'adores', 94: 'ads', 95: 'adult', 96: 'adults', 97: 'advance', 98: 'advantage', 99: 'adventure', 100: 'adventures', 101: 'adventurous', 102: 'adverb', 103: 'advertise', 104: 'advertisements', 105: 'advertising', 106: 'advice', 107: 'advisable', 108: 'advise', 109: 'advised', 110: 'advisers', 111: 'affably', 112: 'affair', 113: 'affect', 114: 'affected', 115: 'affection', 116: 'affects', 117: 'afford', 118: 'afraid', 119: 'africa', 120: 'after', 121: 'afternoon', 122: 'afternoons', 123: 'aftershave', 124: 'afterwards', 125: 'again', 126: 'against', 127: 'age', 128: 'aged', 129: 'agent', 130: 'ages', 131: 'aggressive', 132: 'agile', 133: 'agitated', 134: 'agnostic', 135: 'ago', 136: 'agonizing', 137: 'agony', 138: 'agree', 139: 'agreeable', 140: 'agreed', 141: 'agreement', 142: 'agrees', 143: 'aground', 144: 'ah', 145: 'ahead', 146: 'aid', 147: 'ails', 148: 'aim', 149: 'aimed', 150: 'aint', 151: 'air', 152: 'airmail', 153: 'airplane', 154: 'airport', 155: 'ajar', 156: 'alarm', 157: 'alarmed', 158: 'alarms', 159: 'album', 160: 'albums', 161: 'alcohol', 162: 'alcoholic', 163: 'alert', 164: 'alerted', 165: 'alibi', 166: 'alien', 167: 'aliens', 168: 'alike', 169: 'alive', 170: 'all', 171: 'allergic', 172: 'allergies', 173: 'allies', 174: 'alligators', 175: 'allow', 176: 'allowance', 177: 'allowed', 178: 'almond', 179: 'almonds', 180: 'almost', 181: 'alone', 182: 'along', 183: 'aloud', 184: 'alphabetize', 185: 'already', 186: 'alright', 187: 'also', 188: 'altered', 189: 'alternative', 190: 'altruistic', 191: 'alumnus', 192: 'always', 193: 'alzheimers', 194: 'am', 195: 'amateur', 196: 'amateurs', 197: 'amazes', 198: 'amazing', 199: 'amazingly', 200: 'amazon', 201: 'ambidextrous', 202: 'ambition', 203: 'ambitions', 204: 'ambitious', 205: 'ambulance', 206: 'ambush', 207: 'ambushed', 208: 'amends', 209: 'america', 210: 'american', 211: 'americans', 212: 'amiably', 213: 'amish', 214: 'ammo', 215: 'amnesia', 216: 'amoeba', 217: 'among', 218: 'amount', 219: 'amphibians', 220: 'amputate', 221: 'amputated', 222: 'amputation', 223: 'amuse', 224: 'amused', 225: 'amusing', 226: 'an', 227: 'analgesic', 228: 'analyst', 229: 'analytical', 230: 'analyzed', 231: 'anarchist', 232: 'anchovies', 233: 'and', 234: 'anemic', 235: 'angel', 236: 'anger', 237: 'angered', 238: 'angrier', 239: 'angrily', 240: 'angry', 241: 'animal', 242: 'animals', 243: 'animated', 244: 'anime', 245: 'ankle', 246: 'anniversary', 247: 'announcers', 248: 'annoy', 249: 'annoyed', 250: 'annoying', 251: 'annoys', 252: 'anomaly', 253: 'anorexic', 254: 'another', 255: 'answer', 256: 'answered', 257: 'answering', 258: 'answers', 259: 'antelope', 260: 'anticipate', 261: 'anticipated', 262: 'antidote', 263: 'antiques', 264: 'antlers', 265: 'ants', 266: 'anxious', 267: 'anxiously', 268: 'any', 269: 'anybody', 270: 'anyhow', 271: 'anymore', 272: 'anyone', 273: 'anyones', 274: 'anything', 275: 'anythings', 276: 'anytime', 277: 'anyway', 278: 'anywhere', 279: 'apart', 280: 'apartment', 281: 'apes', 282: 'apologize', 283: 'apologized', 284: 'apologizing', 285: 'apology', 286: 'app', 287: 'appalled', 288: 'apparently', 289: 'appealed', 290: 'appeals', 291: 'appear', 292: 'appeared', 293: 'appears', 294: 'appendicitis', 295: 'appetite', 296: 'appetizing', 297: 'applauded', 298: 'applause', 299: 'apple', 300: 'apples', 301: 'apply', 302: 'appointed', 303: 'appointment', 304: 'appreciate', 305: 'appreciates', 306: 'approach', 307: 'approached', 308: 'approaching', 309: 'appropriate', 310: 'approval', 311: 'approve', 312: 'approved', 313: 'apricots', 314: 'april', 315: 'apron', 316: 'apt', 317: 'aquarius', 318: 'arabic', 319: 'arabs', 320: 'arch', 321: 'archaeologist', 322: 'architect', 323: 'architects', 324: 'are', 325: 'area', 326: 'arent', 327: 'argue', 328: 'argued', 329: 'arguing', 330: 'argument', 331: 'arise', 332: 'aristocrat', 333: 'arithmetic', 334: 'ark', 335: 'arm', 336: 'armchair', 337: 'armed', 338: 'arms', 339: 'army', 340: 'around', 341: 'arrange', 342: 'arranged', 343: 'arrest', 344: 'arrested', 345: 'arresting', 346: 'arrests', 347: 'arrival', 348: 'arrive', 349: 'arrived', 350: 'arrives', 351: 'arriving', 352: 'arrogant', 353: 'arrows', 354: 'arsenic', 355: 'art', 356: 'arthritis', 357: 'article', 358: 'artist', 359: 'artistic', 360: 'artists', 361: 'as', 362: 'ascended', 363: 'ashamed', 364: 'ashore', 365: 'ashtray', 366: 'asia', 367: 'asian', 368: 'asianamerican', 369: 'asians', 370: 'aside', 371: 'ask', 372: 'asked', 373: 'asking', 374: 'asks', 375: 'asleep', 376: 'asparagus', 377: 'aspirin', 378: 'assaulted', 379: 'assertive', 380: 'assignment', 381: 'assist', 382: 'assistance', 383: 'assistant', 384: 'assume', 385: 'assumed', 386: 'asthma', 387: 'astounded', 388: 'astounding', 389: 'astrologer', 390: 'astrology', 391: 'astronaut', 392: 'astronomer', 393: 'astronomers', 394: 'astronomy', 395: 'astute', 396: 'at', 397: 'ate', 398: 'atheist', 399: 'atheists', 400: 'athens', 401: 'athlete', 402: 'athletic', 403: 'atlantis', 404: 'atm', 405: 'attack', 406: 'attacked', 407: 'attacker', 408: 'attacking', 409: 'attacks', 410: 'attained', 411: 'attempt', 412: 'attempted', 413: 'attend', 414: 'attendance', 415: 'attended', 416: 'attention', 417: 'attentive', 418: 'attic', 419: 'attitude', 420: 'attorney', 421: 'attorneys', 422: 'attract', 423: 'attracted', 424: 'attractive', 425: 'attracts', 426: 'audience', 427: 'aunt', 428: 'aunts', 429: 'australia', 430: 'austrian', 431: 'author', 432: 'authorized', 433: 'autism', 434: 'autistic', 435: 'autograph', 436: 'autopsy', 437: 'autumn', 438: 'available', 439: 'avatar', 440: 'avenged', 441: 'average', 442: 'avid', 443: 'avocados', 444: 'avoid', 445: 'avoidable', 446: 'avoided', 447: 'avoiding', 448: 'avoids', 449: 'await', 450: 'awake', 451: 'award', 452: 'aware', 453: 'away', 454: 'awesome', 455: 'awful', 456: 'awfully', 457: 'awkward', 458: 'awkwardly', 459: 'awoke', 460: 'awol', 461: 'ax', 462: 'axle', 463: 'azerbaijani', 464: 'b', 465: 'babbling', 466: 'babe', 467: 'babies', 468: 'baby', 469: 'babys', 470: 'babysitter', 471: 'bach', 472: 'bachelor', 473: 'bachelors', 474: 'back', 475: 'backache', 476: 'backed', 477: 'backing', 478: 'backpack', 479: 'backs', 480: 'backstage', 481: 'backup', 482: 'backward', 483: 'backwards', 484: 'backyard', 485: 'bacon', 486: 'bad', 487: 'badge', 488: 'badger', 489: 'badgers', 490: 'badly', 491: 'baffled', 492: 'bag', 493: 'baggage', 494: 'bagpipes', 495: 'bags', 496: 'bait', 497: 'baited', 498: 'bake', 499: 'baked', 500: 'baker', 501: 'bakery', 502: 'bakes', 503: 'baking', 504: 'balance', 505: 'balcony', 506: 'bald', 507: 'balding', 508: 'ball', 509: 'ballet', 510: 'balls', 511: 'balmy', 512: 'bamboo', 513: 'banana', 514: 'bananas', 515: 'band', 516: 'bandage', 517: 'bandaid', 518: 'bang', 519: 'banged', 520: 'bank', 521: 'banker', 522: 'bankrupt', 523: 'banks', 524: 'banned', 525: 'banner', 526: 'baptized', 527: 'bar', 528: 'barbarian', 529: 'barbarians', 530: 'barbaric', 531: 'barber', 532: 'barbers', 533: 'barbershop', 534: 'barcelona', 535: 'barcoded', 536: 'bare', 537: 'barefoot', 538: 'barely', 539: 'bargain', 540: 'bargaining', 541: 'bark', 542: 'barked', 543: 'barking', 544: 'barks', 545: 'barley', 546: 'barn', 547: 'bars', 548: 'bartender', 549: 'base', 550: 'baseball', 551: 'basement', 552: 'bashful', 553: 'basically', 554: 'basics', 555: 'basked', 556: 'basket', 557: 'basketball', 558: 'basque', 559: 'bass', 560: 'bat', 561: 'bath', 562: 'bathe', 563: 'bathrobe', 564: 'bathroom', 565: 'bathtub', 566: 'bats', 567: 'batteries', 568: 'battery', 569: 'battle', 570: 'be', 571: 'beach', 572: 'beans', 573: 'bear', 574: 'beard', 575: 'bearded', 576: 'beardless', 577: 'bears', 578: 'beat', 579: 'beaten', 580: 'beats', 581: 'beautiful', 582: 'beautifully', 583: 'beauty', 584: 'beavers', 585: 'became', 586: 'because', 587: 'beckoned', 588: 'become', 589: 'bed', 590: 'bedbugs', 591: 'bedding', 592: 'bedridden', 593: 'bedroom', 594: 'beds', 595: 'bedtime', 596: 'bee', 597: 'beef', 598: 'beekeeper', 599: 'been', 600: 'beep', 601: 'beeped', 602: 'beer', 603: 'beers', 604: 'bees', 605: 'beets', 606: 'before', 607: 'beg', 608: 'began', 609: 'beget', 610: 'beggars', 611: 'begged', 612: 'begging', 613: 'begin', 614: 'beginner', 615: 'beginning', 616: 'begins', 617: 'begun', 618: 'behave', 619: 'behaved', 620: 'behaving', 621: 'behind', 622: 'being', 623: 'belch', 624: 'believable', 625: 'believe', 626: 'believed', 627: 'believer', 628: 'believes', 629: 'believing', 630: 'bell', 631: 'belligerent', 632: 'bells', 633: 'belly', 634: 'bellyaching', 635: 'belong', 636: 'belonged', 637: 'belongs', 638: 'below', 639: 'belt', 640: 'belts', 641: 'bench', 642: 'bend', 643: 'bends', 644: 'benefits', 645: 'benign', 646: 'bent', 647: 'berated', 648: 'berlin', 649: 'berries', 650: 'berserk', 651: 'beside', 652: 'best', 653: 'bet', 654: 'betray', 655: 'betrayed', 656: 'bets', 657: 'better', 658: 'between', 659: 'beware', 660: 'bewildered', 661: 'beyond', 662: 'biased', 663: 'bible', 664: 'biceps', 665: 'bicycle', 666: 'bid', 667: 'bifocals', 668: 'big', 669: 'bigger', 670: 'biggest', 671: 'bigot', 672: 'bike', 673: 'biker', 674: 'bikes', 675: 'bilingual', 676: 'bill', 677: 'billionaire', 678: 'bills', 679: 'bin', 680: 'bind', 681: 'biochemist', 682: 'biologist', 683: 'biology', 684: 'bipolar', 685: 'biracial', 686: 'birch', 687: 'bird', 688: 'birdhouse', 689: 'birds', 690: 'birth', 691: 'birthday', 692: 'birthdays', 693: 'bit', 694: 'bite', 695: 'bites', 696: 'biting', 697: 'bitten', 698: 'bitter', 699: 'bitterly', 700: 'biwa', 701: 'bizarre', 702: 'blabbermouth', 703: 'black', 704: 'blackberries', 705: 'blacked', 706: 'blacklisted', 707: 'blackmail', 708: 'blackmailed', 709: 'blackmailer', 710: 'bladder', 711: 'blame', 712: 'blamed', 713: 'blameless', 714: 'blames', 715: 'blaming', 716: 'bland', 717: 'blank', 718: 'blanket', 719: 'blankets', 720: 'blanks', 721: 'blast', 722: 'blatant', 723: 'bleached', 724: 'bled', 725: 'bleed', 726: 'bleeding', 727: 'bless', 728: 'blessed', 729: 'blessing', 730: 'blew', 731: 'blind', 732: 'blinded', 733: 'blindfolded', 734: 'blinding', 735: 'blindly', 736: 'blinds', 737: 'blinked', 738: 'blinking', 739: 'bliss', 740: 'blocked', 741: 'blog', 742: 'blogger', 743: 'blond', 744: 'blonde', 745: 'blondes', 746: 'blood', 747: 'bloom', 748: 'bloomer', 749: 'blossomed', 750: 'blouse', 751: 'blow', 752: 'blowing', 753: 'blown', 754: 'blue', 755: 'blues', 756: 'bluff', 757: 'bluffing', 758: 'blush', 759: 'blushed', 760: 'blushing', 761: 'bmw', 762: 'board', 763: 'boarded', 764: 'boat', 765: 'boats', 766: 'bob', 767: 'body', 768: 'bodybuilder', 769: 'bodyguard', 770: 'bodyguards', 771: 'boil', 772: 'boiled', 773: 'boiling', 774: 'bolt', 775: 'bolted', 776: 'bolts', 777: 'bomb', 778: 'bone', 779: 'bones', 780: 'bonkers', 781: 'bonus', 782: 'book', 783: 'bookcase', 784: 'bookkeeper', 785: 'bookmark', 786: 'bookmarked', 787: 'books', 788: 'bookstore', 789: 'bookworm', 790: 'boomerang', 791: 'booming', 792: 'boost', 793: 'boots', 794: 'border', 795: 'borders', 796: 'bore', 797: 'bored', 798: 'bores', 799: 'boring', 800: 'born', 801: 'borrow', 802: 'borrowed', 803: 'bosom', 804: 'boss', 805: 'bosses', 806: 'bossy', 807: 'boston', 808: 'botanist', 809: 'botched', 810: 'both', 811: 'bother', 812: 'bothered', 813: 'bothering', 814: 'bothers', 815: 'bottle', 816: 'bottles', 817: 'bottom', 818: 'bottoms', 819: 'bought', 820: 'bounce', 821: 'bounced', 822: 'bound', 823: 'bow', 824: 'bowed', 825: 'bowl', 826: 'bowling', 827: 'box', 828: 'boxer', 829: 'boxers', 830: 'boxes', 831: 'boxing', 832: 'boy', 833: 'boyfriend', 834: 'boys', 835: 'brace', 836: 'braced', 837: 'bracelet', 838: 'braces', 839: 'bragged', 840: 'bragging', 841: 'brags', 842: 'braille', 843: 'brain', 844: 'brainchild', 845: 'brake', 846: 'braked', 847: 'brakes', 848: 'brand', 849: 'branded', 850: 'brandy', 851: 'brass', 852: 'brat', 853: 'brave', 854: 'bravely', 855: 'braver', 856: 'bravery', 857: 'braying', 858: 'brazil', 859: 'brazilian', 860: 'bread', 861: 'breads', 862: 'break', 863: 'breakable', 864: 'breakdown', 865: 'breakfast', 866: 'breakfasted', 867: 'breaking', 868: 'breaks', 869: 'breastfeeding', 870: 'breath', 871: 'breathe', 872: 'breathed', 873: 'breather', 874: 'breathing', 875: 'breaths', 876: 'breathtaking', 877: 'breed', 878: 'breeds', 879: 'breeze', 880: 'brewed', 881: 'brewing', 882: 'brews', 883: 'bribe', 884: 'bribed', 885: 'bribes', 886: 'bride', 887: 'bridge', 888: 'brief', 889: 'briefcase', 890: 'briefly', 891: 'bright', 892: 'brightened', 893: 'brilliant', 894: 'bring', 895: 'brings', 896: 'britain', 897: 'british', 898: 'broad', 899: 'broadminded', 900: 'broccoli', 901: 'brochure', 902: 'broke', 903: 'broken', 904: 'brokenhearted', 905: 'bronze', 906: 'broom', 907: 'brother', 908: 'brothers', 909: 'brought', 910: 'brown', 911: 'brownies', 912: 'brr', 913: 'bruise', 914: 'bruised', 915: 'brunettes', 916: 'brush', 917: 'brushed', 918: 'brushes', 919: 'brushing', 920: 'brute', 921: 'bubble', 922: 'bubbles', 923: 'buck', 924: 'bucket', 925: 'buckle', 926: 'buckled', 927: 'bucks', 928: 'buddhist', 929: 'buddies', 930: 'buddy', 931: 'budge', 932: 'budget', 933: 'buff', 934: 'bug', 935: 'bugging', 936: 'bugs', 937: 'build', 938: 'building', 939: 'built', 940: 'bulb', 941: 'bullet', 942: 'bullfighting', 943: 'bullied', 944: 'bullseye', 945: 'bully', 946: 'bum', 947: 'bummer', 948: 'bumped', 949: 'bumps', 950: 'bunch', 951: 'bunnies', 952: 'bunny', 953: 'bureaucrat', 954: 'burglar', 955: 'burgled', 956: 'buried', 957: 'burn', 958: 'burned', 959: 'burning', 960: 'burns', 961: 'burnt', 962: 'burp', 963: 'burped', 964: 'burst', 965: 'bury', 966: 'bus', 967: 'busboy', 968: 'buses', 969: 'bush', 970: 'bushed', 971: 'bushes', 972: 'business', 973: 'businessman', 974: 'busy', 975: 'busybody', 976: 'but', 977: 'butcher', 978: 'butchers', 979: 'butler', 980: 'butt', 981: 'butter', 982: 'butterflies', 983: 'button', 984: 'buttoned', 985: 'buy', 986: 'buyer', 987: 'buying', 988: 'buys', 989: 'buzz', 990: 'buzzed', 991: 'buzzer', 992: 'by', 993: 'bye', 994: 'c', 995: 'cab', 996: 'cabbage', 997: 'cabin', 998: 'cabinet', 999: 'cable', 1000: 'cactus', 1001: 'caesar', 1002: 'cafeteria', 1003: 'caffeine', 1004: 'cage', 1005: 'caged', 1006: 'cages', 1007: 'cake', 1008: 'cakes', 1009: 'calculator', 1010: 'calendar', 1011: 'calf', 1012: 'call', 1013: 'called', 1014: 'calling', 1015: 'calls', 1016: 'calm', 1017: 'calmed', 1018: 'calmer', 1019: 'calming', 1020: 'calmly', 1021: 'calories', 1022: 'came', 1023: 'camel', 1024: 'camels', 1025: 'camera', 1026: 'cameraman', 1027: 'cameras', 1028: 'camp', 1029: 'camping', 1030: 'can', 1031: 'canada', 1032: 'canadian', 1033: 'canadians', 1034: 'canary', 1035: 'cancel', 1036: 'canceled', 1037: 'cancer', 1038: 'candid', 1039: 'candidate', 1040: 'candle', 1041: 'candlelight', 1042: 'candles', 1043: 'candor', 1044: 'candy', 1045: 'cane', 1046: 'canned', 1047: 'cannibals', 1048: 'cannot', 1049: 'canoe', 1050: 'cant', 1051: 'cap', 1052: 'capable', 1053: 'capitalist', 1054: 'capricorn', 1055: 'caps', 1056: 'capsized', 1057: 'captain', 1058: 'capture', 1059: 'captured', 1060: 'car', 1061: 'carcinogenic', 1062: 'card', 1063: 'carded', 1064: 'cardiff', 1065: 'cardiologist', 1066: 'cardiologists', 1067: 'cards', 1068: 'care', 1069: 'cared', 1070: 'career', 1071: 'carefree', 1072: 'careful', 1073: 'carefully', 1074: 'careless', 1075: 'cares', 1076: 'cargo', 1077: 'caring', 1078: 'carnivores', 1079: 'carpenter', 1080: 'carpet', 1081: 'carpool', 1082: 'carried', 1083: 'carrot', 1084: 'carrots', 1085: 'carry', 1086: 'carrying', 1087: 'cars', 1088: 'cartoon', 1089: 'cartoonist', 1090: 'cartoons', 1091: 'cartwheel', 1092: 'carved', 1093: 'case', 1094: 'cases', 1095: 'cash', 1096: 'cashier', 1097: 'casino', 1098: 'cast', 1099: 'castaway', 1100: 'castle', 1101: 'castles', 1102: 'cat', 1103: 'catalog', 1104: 'catastrophe', 1105: 'catch', 1106: 'catcher', 1107: 'catching', 1108: 'catchy', 1109: 'category', 1110: 'catholic', 1111: 'cats', 1112: 'cattle', 1113: 'caucasian', 1114: 'caught', 1115: 'cause', 1116: 'caused', 1117: 'causes', 1118: 'caution', 1119: 'cautious', 1120: 'cautiously', 1121: 'cavalry', 1122: 'cave', 1123: 'caves', 1124: 'caviar', 1125: 'cavities', 1126: 'cawed', 1127: 'cd', 1128: 'cds', 1129: 'celebrate', 1130: 'celebrating', 1131: 'celebrity', 1132: 'celery', 1133: 'cell', 1134: 'cellar', 1135: 'cellmate', 1136: 'cello', 1137: 'cellphone', 1138: 'cemetery', 1139: 'cent', 1140: 'ceo', 1141: 'cereal', 1142: 'ceremonies', 1143: 'certain', 1144: 'certainly', 1145: 'chain', 1146: 'chained', 1147: 'chair', 1148: 'chairs', 1149: 'challenge', 1150: 'challenged', 1151: 'challenges', 1152: 'champagne', 1153: 'champion', 1154: 'champions', 1155: 'chance', 1156: 'chances', 1157: 'change', 1158: 'changed', 1159: 'changes', 1160: 'changing', 1161: 'channel', 1162: 'chanting', 1163: 'chaperone', 1164: 'chapped', 1165: 'character', 1166: 'charge', 1167: 'charged', 1168: 'charger', 1169: 'charging', 1170: 'charisma', 1171: 'charismatic', 1172: 'charity', 1173: 'charm', 1174: 'charming', 1175: 'chart', 1176: 'chase', 1177: 'chased', 1178: 'chasing', 1179: 'chat', 1180: 'chatted', 1181: 'chatterbox', 1182: 'chatty', 1183: 'chauffeur', 1184: 'cheap', 1185: 'cheaper', 1186: 'cheapskate', 1187: 'cheat', 1188: 'cheated', 1189: 'cheating', 1190: 'cheats', 1191: 'check', 1192: 'checked', 1193: 'checking', 1194: 'checks', 1195: 'cheek', 1196: 'cheer', 1197: 'cheered', 1198: 'cheerleader', 1199: 'cheers', 1200: 'cheese', 1201: 'cheeseburger', 1202: 'chef', 1203: 'chemistry', 1204: 'cherish', 1205: 'cherries', 1206: 'chess', 1207: 'chest', 1208: 'chew', 1209: 'chewing', 1210: 'chews', 1211: 'chicken', 1212: 'chickened', 1213: 'chickens', 1214: 'child', 1215: 'childish', 1216: 'childless', 1217: 'children', 1218: 'childs', 1219: 'chili', 1220: 'chill', 1221: 'chilly', 1222: 'chin', 1223: 'china', 1224: 'chinese', 1225: 'chirp', 1226: 'chirping', 1227: 'chocolate', 1228: 'choice', 1229: 'choices', 1230: 'choir', 1231: 'choke', 1232: 'choked', 1233: 'choking', 1234: 'choose', 1235: 'choosy', 1236: 'chop', 1237: 'chopin', 1238: 'chopped', 1239: 'chopping', 1240: 'chord', 1241: 'chore', 1242: 'chorus', 1243: 'chose', 1244: 'chosen', 1245: 'christian', 1246: 'christians', 1247: 'christmas', 1248: 'chubby', 1249: 'chuckled', 1250: 'chuckling', 1251: 'church', 1252: 'cia', 1253: 'cicada', 1254: 'cicadas', 1255: 'cider', 1256: 'cigar', 1257: 'cigarette', 1258: 'cigarettes', 1259: 'cigars', 1260: 'circle', 1261: 'circus', 1262: 'cities', 1263: 'citizen', 1264: 'city', 1265: 'civic', 1266: 'civilian', 1267: 'civilians', 1268: 'clad', 1269: 'claimed', 1270: 'claims', 1271: 'clap', 1272: 'clapped', 1273: 'clapping', 1274: 'claps', 1275: 'clarinetist', 1276: 'clashed', 1277: 'class', 1278: 'classes', 1279: 'classical', 1280: 'classified', 1281: 'classmate', 1282: 'classmates', 1283: 'classroom', 1284: 'classy', 1285: 'claus', 1286: 'claustrophobic', 1287: 'clean', 1288: 'cleaned', 1289: 'cleaning', 1290: 'cleanshaven', 1291: 'clear', 1292: 'cleared', 1293: 'clearing', 1294: 'clearly', 1295: 'cleft', 1296: 'clenched', 1297: 'clerk', 1298: 'clever', 1299: 'clichés', 1300: 'click', 1301: 'clicked', 1302: 'client', 1303: 'clients', 1304: 'climb', 1305: 'climbed', 1306: 'climbing', 1307: 'climbs', 1308: 'clinic', 1309: 'clinked', 1310: 'clip', 1311: 'clipped', 1312: 'clock', 1313: 'clocks', 1314: 'clogged', 1315: 'clogs', 1316: 'close', 1317: 'closed', 1318: 'closely', 1319: 'closer', 1320: 'closet', 1321: 'closing', 1322: 'clothed', 1323: 'clothes', 1324: 'cloud', 1325: 'cloudy', 1326: 'cloves', 1327: 'clown', 1328: 'clowning', 1329: 'club', 1330: 'clue', 1331: 'clueless', 1332: 'clumsiness', 1333: 'clumsy', 1334: 'clunker', 1335: 'clunky', 1336: 'clutch', 1337: 'cnn', 1338: 'coach', 1339: 'coaches', 1340: 'coal', 1341: 'coast', 1342: 'coat', 1343: 'coats', 1344: 'cobra', 1345: 'cocaine', 1346: 'cockroaches', 1347: 'cocktail', 1348: 'cocky', 1349: 'coconut', 1350: 'code', 1351: 'coerced', 1352: 'coffee', 1353: 'coffees', 1354: 'coffin', 1355: 'coin', 1356: 'coincidence', 1357: 'coins', 1358: 'coke', 1359: 'cola', 1360: 'cold', 1361: 'coldblooded', 1362: 'colder', 1363: 'colds', 1364: 'collaborator', 1365: 'collapsed', 1366: 'colleague', 1367: 'collect', 1368: 'collected', 1369: 'collection', 1370: 'collector', 1371: 'collects', 1372: 'college', 1373: 'colonel', 1374: 'colonize', 1375: 'colonized', 1376: 'color', 1377: 'colorblind', 1378: 'colored', 1379: 'colors', 1380: 'columbia', 1381: 'coma', 1382: 'comb', 1383: 'combat', 1384: 'combed', 1385: 'combine', 1386: 'come', 1387: 'comedian', 1388: 'comedians', 1389: 'comedies', 1390: 'comedy', 1391: 'comes', 1392: 'comfort', 1393: 'comfortable', 1394: 'comfortably', 1395: 'comforted', 1396: 'comic', 1397: 'comics', 1398: 'coming', 1399: 'comma', 1400: 'command', 1401: 'comment', 1402: 'commercial', 1403: 'commercials', 1404: 'committed', 1405: 'common', 1406: 'commotion', 1407: 'communist', 1408: 'company', 1409: 'compare', 1410: 'compete', 1411: 'competition', 1412: 'competitive', 1413: 'complain', 1414: 'complained', 1415: 'complaining', 1416: 'complains', 1417: 'complaint', 1418: 'complaints', 1419: 'complete', 1420: 'completed', 1421: 'completely', 1422: 'complex', 1423: 'complicate', 1424: 'complicated', 1425: 'compliment', 1426: 'complimented', 1427: 'comply', 1428: 'composed', 1429: 'composure', 1430: 'compromise', 1431: 'compromised', 1432: 'computer', 1433: 'computers', 1434: 'comrades', 1435: 'con', 1436: 'conceited', 1437: 'concentrate', 1438: 'concentrated', 1439: 'concentrating', 1440: 'concern', 1441: 'concerned', 1442: 'concerns', 1443: 'concert', 1444: 'concerts', 1445: 'concussion', 1446: 'condescending', 1447: 'condition', 1448: 'conditions', 1449: 'condone', 1450: 'confess', 1451: 'confessed', 1452: 'confession', 1453: 'confided', 1454: 'confidence', 1455: 'confident', 1456: 'confidential', 1457: 'confirm', 1458: 'confirmed', 1459: 'confiscated', 1460: 'conflict', 1461: 'conformist', 1462: 'confronted', 1463: 'confuse', 1464: 'confused', 1465: 'confusing', 1466: 'congratulated', 1467: 'congratulations', 1468: 'connect', 1469: 'connected', 1470: 'connection', 1471: 'connoisseur', 1472: 'conquer', 1473: 'conquers', 1474: 'conscience', 1475: 'conscientious', 1476: 'conscious', 1477: 'consciousness', 1478: 'consented', 1479: 'conservative', 1480: 'consider', 1481: 'considered', 1482: 'consistent', 1483: 'consoling', 1484: 'conspicuous', 1485: 'conspiracy', 1486: 'constantly', 1487: 'consult', 1488: 'consultant', 1489: 'consulted', 1490: 'contact', 1491: 'contacted', 1492: 'contacts', 1493: 'contagious', 1494: 'container', 1495: 'contains', 1496: 'content', 1497: 'contented', 1498: 'contest', 1499: 'context', 1500: 'continent', 1501: 'continue', 1502: 'continued', 1503: 'continues', 1504: 'contract', 1505: 'contradict', 1506: 'contribute', 1507: 'contributed', 1508: 'contributing', 1509: 'contrite', 1510: 'control', 1511: 'convenient', 1512: 'convention', 1513: 'convict', 1514: 'convicted', 1515: 'convince', 1516: 'convinced', 1517: 'convincing', 1518: 'convulsions', 1519: 'cooing', 1520: 'cook', 1521: 'cooked', 1522: 'cooker', 1523: 'cookie', 1524: 'cookies', 1525: 'cooking', 1526: 'cooks', 1527: 'cool', 1528: 'cooled', 1529: 'cooler', 1530: 'cooperate', 1531: 'cooperative', 1532: 'cop', 1533: 'cope', 1534: 'copied', 1535: 'copies', 1536: 'copilot', 1537: 'copper', 1538: 'cops', 1539: 'copy', 1540: 'copycat', 1541: 'corn', 1542: 'corner', 1543: 'corners', 1544: 'correct', 1545: 'corrected', 1546: 'correcting', 1547: 'correctly', 1548: 'corrupt', 1549: 'corrupts', 1550: 'cost', 1551: 'costs', 1552: 'costume', 1553: 'cot', 1554: 'cotton', 1555: 'couch', 1556: 'cough', 1557: 'coughed', 1558: 'coughing', 1559: 'coughs', 1560: 'could', 1561: 'couldnt', 1562: 'couldve', 1563: 'counselor', 1564: 'count', 1565: 'counted', 1566: 'counter', 1567: 'counting', 1568: 'country', 1569: 'counts', 1570: 'couple', 1571: 'courage', 1572: 'courageous', 1573: 'course', 1574: 'court', 1575: 'courteous', 1576: 'courtesy', 1577: 'cousin', 1578: 'cousins', 1579: 'cover', 1580: 'covered', 1581: 'cow', 1582: 'coward', 1583: 'cowards', 1584: 'cowboy', 1585: 'cowboys', 1586: 'cows', 1587: 'coy', 1588: 'coyote', 1589: 'cpa', 1590: 'crack', 1591: 'cracked', 1592: 'crackers', 1593: 'cracking', 1594: 'crackpot', 1595: 'crafty', 1596: 'cramp', 1597: 'cranberries', 1598: 'crank', 1599: 'cranky', 1600: 'crash', 1601: 'crashed', 1602: 'crass', 1603: 'craved', 1604: 'craves', 1605: 'crawfish', 1606: 'crawled', 1607: 'crawling', 1608: 'crazy', 1609: 'creaked', 1610: 'cream', 1611: 'create', 1612: 'created', 1613: 'creationist', 1614: 'creative', 1615: 'credible', 1616: 'credit', 1617: 'creeps', 1618: 'creepy', 1619: 'cremated', 1620: 'crete', 1621: 'crew', 1622: 'cried', 1623: 'cries', 1624: 'crime', 1625: 'criminal', 1626: 'criminals', 1627: 'cringed', 1628: 'cripple', 1629: 'crisis', 1630: 'critic', 1631: 'critical', 1632: 'criticism', 1633: 'criticize', 1634: 'crocodile', 1635: 'croissant', 1636: 'crook', 1637: 'crooked', 1638: 'crops', 1639: 'cross', 1640: 'crossed', 1641: 'crosseyed', 1642: 'crow', 1643: 'crowd', 1644: 'crowded', 1645: 'crowds', 1646: 'crowed', 1647: 'crown', 1648: 'crows', 1649: 'crude', 1650: 'cruel', 1651: 'cruise', 1652: 'crusader', 1653: 'crush', 1654: 'crushed', 1655: 'crutches', 1656: 'cry', 1657: 'crybaby', 1658: 'crying', 1659: 'cuban', 1660: 'cube', 1661: 'cubes', 1662: 'cucumber', 1663: 'cucumbers', 1664: 'cuff', 1665: 'cuisine', 1666: 'cult', 1667: 'cultivate', 1668: 'cultured', 1669: 'cunning', 1670: 'cup', 1671: 'cupcakes', 1672: 'cups', 1673: 'cure', 1674: 'cured', 1675: 'curfew', 1676: 'curious', 1677: 'curiously', 1678: 'curly', 1679: 'curry', 1680: 'curse', 1681: 'cursed', 1682: 'cursing', 1683: 'curtain', 1684: 'custom', 1685: 'customer', 1686: 'customers', 1687: 'cut', 1688: 'cute', 1689: 'cutie', 1690: 'cuts', 1691: 'cycle', 1692: 'cycles', 1693: 'cynical', 1694: 'cyprus', 1695: 'd', 1696: 'dad', 1697: 'daddy', 1698: 'dads', 1699: 'daily', 1700: 'daiquiri', 1701: 'dairy', 1702: 'daisies', 1703: 'dam', 1704: 'damage', 1705: 'damaged', 1706: 'damascus', 1707: 'damp', 1708: 'dams', 1709: 'dance', 1710: 'danced', 1711: 'dancer', 1712: 'dances', 1713: 'dancing', 1714: 'dandruff', 1715: 'danger', 1716: 'dangerous', 1717: 'dare', 1718: 'dared', 1719: 'daredevil', 1720: 'dark', 1721: 'darkened', 1722: 'darkness', 1723: 'darkskinned', 1724: 'dart', 1725: 'darts', 1726: 'dashed', 1727: 'data', 1728: 'date', 1729: 'dates', 1730: 'dating', 1731: 'daughter', 1732: 'daughters', 1733: 'dawn', 1734: 'day', 1735: 'daybreak', 1736: 'daydreamed', 1737: 'daydreaming', 1738: 'days', 1739: 'dazzled', 1740: 'dead', 1741: 'deadline', 1742: 'deadtired', 1743: 'deaf', 1744: 'deal', 1745: 'dealer', 1746: 'dealing', 1747: 'deals', 1748: 'dealt', 1749: 'dear', 1750: 'dearly', 1751: 'death', 1752: 'debatable', 1753: 'debate', 1754: 'debt', 1755: 'debts', 1756: 'debut', 1757: 'decaf', 1758: 'deceitful', 1759: 'deceive', 1760: 'deceived', 1761: 'decent', 1762: 'decide', 1763: 'decided', 1764: 'decision', 1765: 'decisive', 1766: 'deck', 1767: 'declared', 1768: 'declined', 1769: 'decode', 1770: 'decoded', 1771: 'decorated', 1772: 'dedicated', 1773: 'deep', 1774: 'deepens', 1775: 'deeper', 1776: 'deeply', 1777: 'deer', 1778: 'defeat', 1779: 'defeated', 1780: 'defend', 1781: 'defendant', 1782: 'defended', 1783: 'defending', 1784: 'defense', 1785: 'defenseless', 1786: 'defensive', 1787: 'defiant', 1788: 'deficit', 1789: 'definitely', 1790: 'dehydrated', 1791: 'dejected', 1792: 'delay', 1793: 'delayed', 1794: 'delete', 1795: 'deleted', 1796: 'deliberate', 1797: 'delicately', 1798: 'delicious', 1799: 'delighted', 1800: 'delirious', 1801: 'deliver', 1802: 'delivered', 1803: 'delivers', 1804: 'delivery', 1805: 'delusional', 1806: 'demand', 1807: 'demanded', 1808: 'demanding', 1809: 'demands', 1810: 'demeaning', 1811: 'demented', 1812: 'dementia', 1813: 'democrat', 1814: 'demonstrate', 1815: 'demoted', 1816: 'denial', 1817: 'denied', 1818: 'denies', 1819: 'dent', 1820: 'dentist', 1821: 'deny', 1822: 'denying', 1823: 'deodorant', 1824: 'depend', 1825: 'dependable', 1826: 'depending', 1827: 'depends', 1828: 'deportation', 1829: 'deported', 1830: 'depressed', 1831: 'depression', 1832: 'deputy', 1833: 'describe', 1834: 'described', 1835: 'desert', 1836: 'deserted', 1837: 'deserters', 1838: 'deserve', 1839: 'deserved', 1840: 'deserves', 1841: 'design', 1842: 'designed', 1843: 'designer', 1844: 'designs', 1845: 'desire', 1846: 'desk', 1847: 'desks', 1848: 'desperate', 1849: 'despise', 1850: 'despised', 1851: 'despises', 1852: 'despondent', 1853: 'dessert', 1854: 'desserts', 1855: 'destiny', 1856: 'destroy', 1857: 'destroyed', 1858: 'detail', 1859: 'details', 1860: 'detained', 1861: 'detective', 1862: 'determine', 1863: 'detest', 1864: 'detests', 1865: 'detour', 1866: 'devastated', 1867: 'devil', 1868: 'devious', 1869: 'devoted', 1870: 'diabetes', 1871: 'diabetic', 1872: 'diagnosis', 1873: 'diagonal', 1874: 'dial', 1875: 'dialect', 1876: 'dialed', 1877: 'diamond', 1878: 'diamonds', 1879: 'diarrhea', 1880: 'diary', 1881: 'dice', 1882: 'dictatorship', 1883: 'dictionary', 1884: 'did', 1885: 'didnt', 1886: 'die', 1887: 'died', 1888: 'dies', 1889: 'diet', 1890: 'dieting', 1891: 'differ', 1892: 'difference', 1893: 'different', 1894: 'differently', 1895: 'difficult', 1896: 'dig', 1897: 'digging', 1898: 'dignified', 1899: 'dignity', 1900: 'dilemma', 1901: 'diligent', 1902: 'dill', 1903: 'dime', 1904: 'dimmed', 1905: 'dimples', 1906: 'dine', 1907: 'dinner', 1908: 'dinners', 1909: 'dinnertime', 1910: 'dinosaurs', 1911: 'diploma', 1912: 'diplomat', 1913: 'diplomatic', 1914: 'direct', 1915: 'direction', 1916: 'director', 1917: 'dirt', 1918: 'dirty', 1919: 'disable', 1920: 'disagree', 1921: 'disagreed', 1922: 'disagreeing', 1923: 'disagrees', 1924: 'disappear', 1925: 'disappeared', 1926: 'disappoint', 1927: 'disappointed', 1928: 'disappointing', 1929: 'disappointment', 1930: 'disaster', 1931: 'disc', 1932: 'discarded', 1933: 'discipline', 1934: 'disco', 1935: 'disconnected', 1936: 'discontented', 1937: 'discount', 1938: 'discouraged', 1939: 'discouraging', 1940: 'discover', 1941: 'discovered', 1942: 'discovery', 1943: 'discreet', 1944: 'discs', 1945: 'discuss', 1946: 'discussed', 1947: 'discussing', 1948: 'disease', 1949: 'disfigured', 1950: 'disgrace', 1951: 'disgraceful', 1952: 'disgust', 1953: 'disgusted', 1954: 'disgusting', 1955: 'dish', 1956: 'dishes', 1957: 'dishonest', 1958: 'dishwasher', 1959: 'disillusioned', 1960: 'disk', 1961: 'dislike', 1962: 'disliked', 1963: 'dislikes', 1964: 'dislocated', 1965: 'disobedient', 1966: 'disobeyed', 1967: 'disorganized', 1968: 'dispersed', 1969: 'disposable', 1970: 'disposal', 1971: 'dispute', 1972: 'disqualified', 1973: 'disregarded', 1974: 'disrespect', 1975: 'disrespectful', 1976: 'distract', 1977: 'distracted', 1978: 'distracting', 1979: 'disturb', 1980: 'disturbed', 1981: 'disturbing', 1982: 'ditch', 1983: 'ditched', 1984: 'dive', 1985: 'diver', 1986: 'diversity', 1987: 'divide', 1988: 'diving', 1989: 'divorce', 1990: 'divorced', 1991: 'divorcing', 1992: 'dizzy', 1993: 'dj', 1994: 'do', 1995: 'doable', 1996: 'doctor', 1997: 'doctors', 1998: 'document', 1999: 'documents', 2000: 'dodged', 2001: 'dodger', 2002: 'doe', 2003: 'does', 2004: 'doesnt', 2005: 'dog', 2006: 'dogs', 2007: 'dogsledding', 2008: 'doing', 2009: 'doll', 2010: 'dollar', 2011: 'dollars', 2012: 'dolls', 2013: 'dolphin', 2014: 'dolphins', 2015: 'domineering', 2016: 'donate', 2017: 'donating', 2018: 'donations', 2019: 'done', 2020: 'donkey', 2021: 'dont', 2022: 'donut', 2023: 'doom', 2024: 'doomed', 2025: 'door', 2026: 'doorbell', 2027: 'doorknob', 2028: 'doors', 2029: 'dope', 2030: 'dose', 2031: 'double', 2032: 'doubleclick', 2033: 'doublecrossed', 2034: 'doubt', 2035: 'doubted', 2036: 'doubtful', 2037: 'doubts', 2038: 'dough', 2039: 'doughnut', 2040: 'dove', 2041: 'down', 2042: 'downcast', 2043: 'downed', 2044: 'downloaded', 2045: 'downloading', 2046: 'downsizing', 2047: 'downstairs', 2048: 'downtown', 2049: 'dozed', 2050: 'dozen', 2051: 'dozing', 2052: 'draft', 2053: 'drag', 2054: 'dragon', 2055: 'dragons', 2056: 'drama', 2057: 'dramatic', 2058: 'dramatist', 2059: 'drank', 2060: 'drapes', 2061: 'draw', 2062: 'drawer', 2063: 'drawers', 2064: 'drawing', 2065: 'drawn', 2066: 'draws', 2067: 'dreadful', 2068: 'dreading', 2069: 'dream', 2070: 'dreamed', 2071: 'dreamer', 2072: 'dreamers', 2073: 'dreaming', 2074: 'dreams', 2075: 'dreamt', 2076: 'drenched', 2077: 'dress', 2078: 'dressed', 2079: 'dresses', 2080: 'drew', 2081: 'dried', 2082: 'drift', 2083: 'drifted', 2084: 'drifter', 2085: 'drill', 2086: 'drink', 2087: 'drinker', 2088: 'drinking', 2089: 'drinks', 2090: 'drive', 2091: 'driven', 2092: 'driver', 2093: 'drivers', 2094: 'drives', 2095: 'driving', 2096: 'drizzle', 2097: 'drizzling', 2098: 'drooling', 2099: 'drop', 2100: 'dropped', 2101: 'dropping', 2102: 'drove', 2103: 'drown', 2104: 'drowned', 2105: 'drowning', 2106: 'drowsy', 2107: 'drug', 2108: 'drugged', 2109: 'drugs', 2110: 'drum', 2111: 'drummer', 2112: 'drums', 2113: 'drunk', 2114: 'drunkard', 2115: 'dry', 2116: 'drying', 2117: 'dublin', 2118: 'duck', 2119: 'ducked', 2120: 'ducks', 2121: 'due', 2122: 'dues', 2123: 'duet', 2124: 'dug', 2125: 'dukes', 2126: 'dull', 2127: 'dumb', 2128: 'dumbfounded', 2129: 'dumbstruck', 2130: 'dummy', 2131: 'dump', 2132: 'dumped', 2133: 'dumplings', 2134: 'duped', 2135: 'duplicate', 2136: 'during', 2137: 'dust', 2138: 'dusty', 2139: 'dutch', 2140: 'duties', 2141: 'duty', 2142: 'dvd', 2143: 'dwarf', 2144: 'dweller', 2145: 'dye', 2146: 'dyed', 2147: 'dyes', 2148: 'dying', 2149: 'dynamite', 2150: 'dyslexic', 2151: 'each', 2152: 'eager', 2153: 'eagle', 2154: 'ear', 2155: 'earache', 2156: 'earlier', 2157: 'early', 2158: 'earn', 2159: 'earned', 2160: 'earning', 2161: 'earns', 2162: 'earphones', 2163: 'earring', 2164: 'earrings', 2165: 'ears', 2166: 'earth', 2167: 'earthquake', 2168: 'ease', 2169: 'easier', 2170: 'easily', 2171: 'east', 2172: 'easter', 2173: 'easy', 2174: 'easygoing', 2175: 'eat', 2176: 'eaten', 2177: 'eater', 2178: 'eating', 2179: 'eats', 2180: 'eavesdropping', 2181: 'eccentric', 2182: 'economist', 2183: 'ecstatic', 2184: 'edge', 2185: 'edible', 2186: 'educated', 2187: 'education', 2188: 'effective', 2189: 'efficient', 2190: 'effort', 2191: 'efforts', 2192: 'egg', 2193: 'eggplant', 2194: 'eggs', 2195: 'ego', 2196: 'eight', 2197: 'eighteen', 2198: 'eightthirty', 2199: 'either', 2200: 'elbow', 2201: 'elderly', 2202: 'elders', 2203: 'elected', 2204: 'election', 2205: 'electrician', 2206: 'electrocuted', 2207: 'elegant', 2208: 'elephants', 2209: 'elevator', 2210: 'elevators', 2211: 'eleven', 2212: 'eloquent', 2213: 'eloquently', 2214: 'else', 2215: 'elsewhere', 2216: 'elves', 2217: 'email', 2218: 'emailed', 2219: 'embarrass', 2220: 'embarrassed', 2221: 'embarrassing', 2222: 'embassy', 2223: 'embraced', 2224: 'embroidering', 2225: 'emergency', 2226: 'emit', 2227: 'emotional', 2228: 'emotions', 2229: 'employed', 2230: 'employee', 2231: 'employees', 2232: 'employs', 2233: 'emptied', 2234: 'empty', 2235: 'emptyhanded', 2236: 'encouraged', 2237: 'encouraging', 2238: 'end', 2239: 'ended', 2240: 'ending', 2241: 'endings', 2242: 'endless', 2243: 'endorse', 2244: 'ends', 2245: 'endured', 2246: 'enemies', 2247: 'enemy', 2248: 'energetic', 2249: 'energy', 2250: 'engaged', 2251: 'engine', 2252: 'engineer', 2253: 'england', 2254: 'english', 2255: 'englishman', 2256: 'enigma', 2257: 'enjoy', 2258: 'enjoyable', 2259: 'enjoyed', 2260: 'enjoying', 2261: 'enjoys', 2262: 'enlisted', 2263: 'enormous', 2264: 'enough', 2265: 'enter', 2266: 'entered', 2267: 'entering', 2268: 'entertained', 2269: 'entertainer', 2270: 'enthusiastic', 2271: 'entire', 2272: 'entirely', 2273: 'entrance', 2274: 'entrepreneur', 2275: 'envelope', 2276: 'envelopes', 2277: 'envied', 2278: 'envies', 2279: 'envious', 2280: 'envy', 2281: 'epidemic', 2282: 'episode', 2283: 'equal', 2284: 'equally', 2285: 'equipment', 2286: 'erase', 2287: 'eraser', 2288: 'err', 2289: 'errand', 2290: 'errands', 2291: 'error', 2292: 'errors', 2293: 'escape', 2294: 'escaped', 2295: 'escapes', 2296: 'escaping', 2297: 'escort', 2298: 'esp', 2299: 'essay', 2300: 'essential', 2301: 'estate', 2302: 'ethical', 2303: 'ethiopian', 2304: 'europe', 2305: 'european', 2306: 'euros', 2307: 'evacuate', 2308: 'evacuated', 2309: 'evaporated', 2310: 'evasive', 2311: 'even', 2312: 'evening', 2313: 'event', 2314: 'eventually', 2315: 'ever', 2316: 'every', 2317: 'everybody', 2318: 'everybodys', 2319: 'everyone', 2320: 'everyones', 2321: 'everything', 2322: 'everythings', 2323: 'everywhere', 2324: 'evicted', 2325: 'evidence', 2326: 'evident', 2327: 'evidently', 2328: 'evil', 2329: 'ex', 2330: 'exact', 2331: 'exactly', 2332: 'exaggerate', 2333: 'exaggerated', 2334: 'exaggerates', 2335: 'exaggerating', 2336: 'exam', 2337: 'examine', 2338: 'example', 2339: 'examples', 2340: 'exams', 2341: 'exasperated', 2342: 'excellent', 2343: 'exception', 2344: 'exceptional', 2345: 'exceptions', 2346: 'excess', 2347: 'exchanged', 2348: 'excited', 2349: 'exciting', 2350: 'exclude', 2351: 'excluded', 2352: 'excon', 2353: 'excruciating', 2354: 'excusable', 2355: 'excuse', 2356: 'excused', 2357: 'excuses', 2358: 'executed', 2359: 'exercise', 2360: 'exercised', 2361: 'exercises', 2362: 'exercising', 2363: 'exhale', 2364: 'exhaled', 2365: 'exhausted', 2366: 'exhausting', 2367: 'exhibits', 2368: 'exhusband', 2369: 'exist', 2370: 'existed', 2371: 'exists', 2372: 'exit', 2373: 'exotic', 2374: 'expect', 2375: 'expected', 2376: 'expecting', 2377: 'expects', 2378: 'expelled', 2379: 'expendable', 2380: 'expensive', 2381: 'experience', 2382: 'experienced', 2383: 'experiment', 2384: 'expert', 2385: 'experts', 2386: 'expired', 2387: 'expires', 2388: 'explain', 2389: 'explainable', 2390: 'explained', 2391: 'explains', 2392: 'explanation', 2393: 'explode', 2394: 'exploding', 2395: 'explosion', 2396: 'explosions', 2397: 'explosives', 2398: 'express', 2399: 'expression', 2400: 'exsoldier', 2401: 'extend', 2402: 'extended', 2403: 'extension', 2404: 'extensive', 2405: 'extortion', 2406: 'extra', 2407: 'extraordinary', 2408: 'extreme', 2409: 'extremely', 2410: 'extremes', 2411: 'extremist', 2412: 'extrovert', 2413: 'extroverted', 2414: 'exuberant', 2415: 'exwife', 2416: 'exwives', 2417: 'eye', 2418: 'eyebrows', 2419: 'eyed', 2420: 'eyepatch', 2421: 'eyes', 2422: 'eyesight', 2423: 'eyesore', 2424: 'fabulous', 2425: 'face', 2426: 'facebook', 2427: 'facelift', 2428: 'faces', 2429: 'facing', 2430: 'fact', 2431: 'factory', 2432: 'facts', 2433: 'fade', 2434: 'faded', 2435: 'fades', 2436: 'fail', 2437: 'failed', 2438: 'failing', 2439: 'fails', 2440: 'faint', 2441: 'fainted', 2442: 'faintly', 2443: 'fair', 2444: 'fairly', 2445: 'faith', 2446: 'faithful', 2447: 'fake', 2448: 'faked', 2449: 'faking', 2450: 'fall', 2451: 'fallen', 2452: 'falling', 2453: 'falls', 2454: 'false', 2455: 'falsely', 2456: 'fame', 2457: 'familiar', 2458: 'families', 2459: 'family', 2460: 'familys', 2461: 'famished', 2462: 'famous', 2463: 'fan', 2464: 'fanatic', 2465: 'fanatics', 2466: 'fancy', 2467: 'fantastic', 2468: 'faq', 2469: 'far', 2470: 'farce', 2471: 'fare', 2472: 'farfetched', 2473: 'farm', 2474: 'farmer', 2475: 'farmers', 2476: 'farms', 2477: 'fart', 2478: 'fascinate', 2479: 'fascinated', 2480: 'fascinating', 2481: 'fascist', 2482: 'fashion', 2483: 'fashionable', 2484: 'fast', 2485: 'fasted', 2486: 'fasten', 2487: 'fastened', 2488: 'faster', 2489: 'fastest', 2490: 'fasting', 2491: 'fat', 2492: 'fatal', 2493: 'fate', 2494: 'father', 2495: 'fathers', 2496: 'fatigued', 2497: 'fatter', 2498: 'fatty', 2499: 'faucet', 2500: 'fault', 2501: 'faults', 2502: 'favor', 2503: 'favorite', 2504: 'fax', 2505: 'faxed', 2506: 'fazed', 2507: 'fbi', 2508: 'fear', 2509: 'feared', 2510: 'fearless', 2511: 'fears', 2512: 'feasible', 2513: 'feathers', 2514: 'fed', 2515: 'fee', 2516: 'feed', 2517: 'feeding', 2518: 'feeds', 2519: 'feel', 2520: 'feeling', 2521: 'feelings', 2522: 'feels', 2523: 'feet', 2524: 'feigned', 2525: 'fell', 2526: 'felled', 2527: 'fellow', 2528: 'felon', 2529: 'felt', 2530: 'female', 2531: 'feminist', 2532: 'feminists', 2533: 'fence', 2534: 'fencing', 2535: 'fennel', 2536: 'ferrari', 2537: 'ferry', 2538: 'fertilizer', 2539: 'fess', 2540: 'fetch', 2541: 'feud', 2542: 'fever', 2543: 'feverish', 2544: 'few', 2545: 'fewer', 2546: 'fiancé', 2547: 'fiancée', 2548: 'fiasco', 2549: 'fiddle', 2550: 'field', 2551: 'fields', 2552: 'fierce', 2553: 'fifties', 2554: 'fifty', 2555: 'fig', 2556: 'fight', 2557: 'fighter', 2558: 'fighting', 2559: 'figure', 2560: 'figured', 2561: 'figures', 2562: 'file', 2563: 'filed', 2564: 'files', 2565: 'fill', 2566: 'filled', 2567: 'filling', 2568: 'film', 2569: 'filming', 2570: 'filthy', 2571: 'final', 2572: 'finally', 2573: 'find', 2574: 'finds', 2575: 'fine', 2576: 'fined', 2577: 'finger', 2578: 'fingernail', 2579: 'fingernails', 2580: 'fingers', 2581: 'finicky', 2582: 'finish', 2583: 'finished', 2584: 'finishing', 2585: 'fir', 2586: 'fire', 2587: 'fired', 2588: 'firefighter', 2589: 'firefly', 2590: 'firefox', 2591: 'fireman', 2592: 'firewood', 2593: 'fireworks', 2594: 'firing', 2595: 'firm', 2596: 'first', 2597: 'firstborn', 2598: 'fish', 2599: 'fisherman', 2600: 'fishing', 2601: 'fishy', 2602: 'fist', 2603: 'fists', 2604: 'fit', 2605: 'fits', 2606: 'five', 2607: 'fix', 2608: 'fixable', 2609: 'fixed', 2610: 'fixes', 2611: 'fixing', 2612: 'flabby', 2613: 'flag', 2614: 'flamboyant', 2615: 'flame', 2616: 'flammable', 2617: 'flashlight', 2618: 'flashy', 2619: 'flat', 2620: 'flatly', 2621: 'flatter', 2622: 'flattered', 2623: 'flattering', 2624: 'flaw', 2625: 'flaws', 2626: 'fleas', 2627: 'fleeced', 2628: 'flew', 2629: 'flexed', 2630: 'flexibility', 2631: 'flexible', 2632: 'flies', 2633: 'flight', 2634: 'flights', 2635: 'flinch', 2636: 'flinched', 2637: 'flip', 2638: 'flipped', 2639: 'flirt', 2640: 'flirted', 2641: 'flirting', 2642: 'float', 2643: 'floats', 2644: 'flock', 2645: 'floor', 2646: 'flop', 2647: 'florist', 2648: 'florists', 2649: 'floss', 2650: 'flour', 2651: 'flow', 2652: 'flower', 2653: 'flowers', 2654: 'flown', 2655: 'flu', 2656: 'fluent', 2657: 'fluently', 2658: 'fluffy', 2659: 'fluids', 2660: 'flushed', 2661: 'flute', 2662: 'fly', 2663: 'flying', 2664: 'flys', 2665: 'focus', 2666: 'focused', 2667: 'fog', 2668: 'foggy', 2669: 'foiled', 2670: 'fold', 2671: 'folded', 2672: 'folder', 2673: 'folk', 2674: 'folks', 2675: 'follow', 2676: 'followed', 2677: 'following', 2678: 'follows', 2679: 'folly', 2680: 'fond', 2681: 'font', 2682: 'food', 2683: 'foods', 2684: 'fool', 2685: 'fooled', 2686: 'foolish', 2687: 'foolishly', 2688: 'fools', 2689: 'foot', 2690: 'football', 2691: 'footsteps', 2692: 'for', 2693: 'forbid', 2694: 'forbidden', 2695: 'force', 2696: 'forced', 2697: 'forces', 2698: 'ford', 2699: 'forehead', 2700: 'foreign', 2701: 'foreigner', 2702: 'foreigners', 2703: 'foresee', 2704: 'forest', 2705: 'forever', 2706: 'forfeited', 2707: 'forgave', 2708: 'forget', 2709: 'forgetful', 2710: 'forgetting', 2711: 'forgive', 2712: 'forgiven', 2713: 'forgives', 2714: 'forgot', 2715: 'forgotten', 2716: 'fork', 2717: 'forks', 2718: 'form', 2719: 'formality', 2720: 'former', 2721: 'forsake', 2722: 'fortunate', 2723: 'fortune', 2724: 'forty', 2725: 'forward', 2726: 'fossil', 2727: 'foster', 2728: 'fought', 2729: 'foul', 2730: 'found', 2731: 'four', 2732: 'fox', 2733: 'foxes', 2734: 'fractured', 2735: 'fragile', 2736: 'framed', 2737: 'france', 2738: 'frank', 2739: 'frankly', 2740: 'frankness', 2741: 'frantic', 2742: 'fraud', 2743: 'frazzled', 2744: 'freak', 2745: 'freaked', 2746: 'freaking', 2747: 'freaks', 2748: 'freckles', 2749: 'free', 2750: 'freed', 2751: 'freedom', 2752: 'freely', 2753: 'freeze', 2754: 'freezer', 2755: 'freezing', 2756: 'french', 2757: 'frequently', 2758: 'fresh', 2759: 'freshman', 2760: 'freshmen', 2761: 'fret', 2762: 'friday', 2763: 'fridge', 2764: 'fried', 2765: 'friend', 2766: 'friendly', 2767: 'friends', 2768: 'fries', 2769: 'fright', 2770: 'frighten', 2771: 'frightened', 2772: 'frightening', 2773: 'frightens', 2774: 'frivolous', 2775: 'frizzy', 2776: 'frog', 2777: 'frogs', 2778: 'from', 2779: 'front', 2780: 'frowned', 2781: 'frowning', 2782: 'froze', 2783: 'frozen', 2784: 'frugal', 2785: 'frugally', 2786: 'fruit', 2787: 'frustrated', 2788: 'frustrating', 2789: 'fry', 2790: 'frying', 2791: 'fuel', 2792: 'fugitive', 2793: 'fuji', 2794: 'full', 2795: 'fulltime', 2796: 'fully', 2797: 'fun', 2798: 'funeral', 2799: 'funerals', 2800: 'funnel', 2801: 'funny', 2802: 'furious', 2803: 'furniture', 2804: 'further', 2805: 'fuse', 2806: 'fuss', 2807: 'fussy', 2808: 'futile', 2809: 'futon', 2810: 'future', 2811: 'fuzzy', 2812: 'gadget', 2813: 'gain', 2814: 'gained', 2815: 'gaining', 2816: 'gains', 2817: 'gal', 2818: 'gallant', 2819: 'gamble', 2820: 'gambler', 2821: 'gambling', 2822: 'game', 2823: 'games', 2824: 'gander', 2825: 'gang', 2826: 'gangster', 2827: 'garage', 2828: 'garbage', 2829: 'garden', 2830: 'gardener', 2831: 'gardeners', 2832: 'gardening', 2833: 'gargled', 2834: 'garlic', 2835: 'gas', 2836: 'gasoline', 2837: 'gasp', 2838: 'gasped', 2839: 'gate', 2840: 'gates', 2841: 'gathering', 2842: 'gave', 2843: 'gawking', 2844: 'gazed', 2845: 'gear', 2846: 'geese', 2847: 'gemini', 2848: 'generates', 2849: 'generous', 2850: 'geneva', 2851: 'genius', 2852: 'geniuses', 2853: 'gentleman', 2854: 'gentlemen', 2855: 'gently', 2856: 'genuine', 2857: 'geography', 2858: 'geologist', 2859: 'georgia', 2860: 'geraniums', 2861: 'german', 2862: 'germany', 2863: 'get', 2864: 'gets', 2865: 'getting', 2866: 'ghost', 2867: 'ghosts', 2868: 'ghostwriter', 2869: 'gibberish', 2870: 'giddy', 2871: 'gift', 2872: 'gifted', 2873: 'gifts', 2874: 'giggle', 2875: 'giggled', 2876: 'giggling', 2877: 'gimmick', 2878: 'ginger', 2879: 'giraffe', 2880: 'girl', 2881: 'girlfriend', 2882: 'girlishly', 2883: 'girls', 2884: 'give', 2885: 'given', 2886: 'gives', 2887: 'giving', 2888: 'glad', 2889: 'gladly', 2890: 'glanced', 2891: 'glances', 2892: 'glared', 2893: 'glass', 2894: 'glassblower', 2895: 'glasses', 2896: 'glaucoma', 2897: 'glitch', 2898: 'gloat', 2899: 'gloated', 2900: 'gloomy', 2901: 'glossy', 2902: 'gloves', 2903: 'glows', 2904: 'glue', 2905: 'glum', 2906: 'go', 2907: 'goal', 2908: 'goals', 2909: 'goat', 2910: 'goats', 2911: 'gobetween', 2912: 'god', 2913: 'godmother', 2914: 'godparents', 2915: 'gods', 2916: 'goes', 2917: 'goggles', 2918: 'going', 2919: 'gold', 2920: 'golden', 2921: 'goldfish', 2922: 'golf', 2923: 'golfer', 2924: 'gone', 2925: 'goner', 2926: 'gonna', 2927: 'good', 2928: 'goodbye', 2929: 'goodbyes', 2930: 'goodnatured', 2931: 'goodnight', 2932: 'goofed', 2933: 'google', 2934: 'googled', 2935: 'goose', 2936: 'goosebumps', 2937: 'gorgeous', 2938: 'gossip', 2939: 'gossiping', 2940: 'gossips', 2941: 'got', 2942: 'gotten', 2943: 'gout', 2944: 'grab', 2945: 'grabbed', 2946: 'graceful', 2947: 'gracefully', 2948: 'grade', 2949: 'grader', 2950: 'grades', 2951: 'graduate', 2952: 'graduated', 2953: 'grammar', 2954: 'gramophone', 2955: 'grandchildren', 2956: 'grandfather', 2957: 'grandfathers', 2958: 'grandkids', 2959: 'grandma', 2960: 'grandmother', 2961: 'grandson', 2962: 'granola', 2963: 'grape', 2964: 'grapefruit', 2965: 'grapes', 2966: 'grapevine', 2967: 'grass', 2968: 'grateful', 2969: 'gratefully', 2970: 'gratifying', 2971: 'grave', 2972: 'gravely', 2973: 'gravity', 2974: 'gravy', 2975: 'gray', 2976: 'graying', 2977: 'grazing', 2978: 'greasy', 2979: 'great', 2980: 'greatly', 2981: 'greece', 2982: 'greedy', 2983: 'greek', 2984: 'green', 2985: 'greeted', 2986: 'gregarious', 2987: 'grenade', 2988: 'grew', 2989: 'grief', 2990: 'grieving', 2991: 'grilling', 2992: 'grim', 2993: 'grimly', 2994: 'grin', 2995: 'grinned', 2996: 'grinning', 2997: 'grip', 2998: 'gripped', 2999: 'gripping', 3000: 'grit', 3001: 'gritted', 3002: 'gritty', 3003: 'groan', 3004: 'groaned', 3005: 'groceries', 3006: 'groggy', 3007: 'groom', 3008: 'gross', 3009: 'grotesque', 3010: 'grouch', 3011: 'grouchy', 3012: 'ground', 3013: 'grounded', 3014: 'group', 3015: 'grouse', 3016: 'grow', 3017: 'growing', 3018: 'growled', 3019: 'grown', 3020: 'grownup', 3021: 'grows', 3022: 'grudges', 3023: 'grumbled', 3024: 'grumbling', 3025: 'grunted', 3026: 'guacamole', 3027: 'guarantee', 3028: 'guard', 3029: 'guardian', 3030: 'guarding', 3031: 'guards', 3032: 'guess', 3033: 'guessed', 3034: 'guessing', 3035: 'guest', 3036: 'guests', 3037: 'guidance', 3038: 'guide', 3039: 'guided', 3040: 'guillotine', 3041: 'guilt', 3042: 'guiltily', 3043: 'guilty', 3044: 'guinea', 3045: 'guitar', 3046: 'guitars', 3047: 'gullible', 3048: 'gum', 3049: 'gums', 3050: 'gun', 3051: 'gunfire', 3052: 'gunned', 3053: 'guns', 3054: 'gunshot', 3055: 'gunshots', 3056: 'guts', 3057: 'gutsy', 3058: 'guy', 3059: 'guys', 3060: 'gym', 3061: 'gymnast', 3062: 'habit', 3063: 'habits', 3064: 'had', 3065: 'hadnt', 3066: 'haggling', 3067: 'hailing', 3068: 'hair', 3069: 'hairbrush', 3070: 'haircut', 3071: 'hairdresser', 3072: 'hairs', 3073: 'hairstyle', 3074: 'hairy', 3075: 'half', 3076: 'halfbrother', 3077: 'halfsister', 3078: 'halfway', 3079: 'halfwit', 3080: 'hall', 3081: 'halloween', 3082: 'hallucinating', 3083: 'hallway', 3084: 'ham', 3085: 'hamburger', 3086: 'hamburgers', 3087: 'hamlet', 3088: 'hammer', 3089: 'hammered', 3090: 'hamster', 3091: 'hand', 3092: 'handbag', 3093: 'handcrafted', 3094: 'handcuffed', 3095: 'handcuffs', 3096: 'handed', 3097: 'handful', 3098: 'handgun', 3099: 'handicapped', 3100: 'handkerchief', 3101: 'handle', 3102: 'handled', 3103: 'handmade', 3104: 'handout', 3105: 'handrail', 3106: 'hands', 3107: 'handsome', 3108: 'handstand', 3109: 'handwriting', 3110: 'handy', 3111: 'hang', 3112: 'hanged', 3113: 'hanging', 3114: 'hangover', 3115: 'hangzhou', 3116: 'happen', 3117: 'happened', 3118: 'happening', 3119: 'happens', 3120: 'happier', 3121: 'happily', 3122: 'happiness', 3123: 'happy', 3124: 'harassed', 3125: 'harassing', 3126: 'harassment', 3127: 'hard', 3128: 'hardboiled', 3129: 'harder', 3130: 'hardheaded', 3131: 'hardly', 3132: 'hardworking', 3133: 'harm', 3134: 'harmed', 3135: 'harmless', 3136: 'harp', 3137: 'harpist', 3138: 'harpoon', 3139: 'harsh', 3140: 'harvard', 3141: 'has', 3142: 'hash', 3143: 'hasnt', 3144: 'haste', 3145: 'hasty', 3146: 'hat', 3147: 'hatch', 3148: 'hate', 3149: 'hated', 3150: 'hater', 3151: 'hates', 3152: 'hatred', 3153: 'hats', 3154: 'haunted', 3155: 'have', 3156: 'havent', 3157: 'having', 3158: 'hawk', 3159: 'hay', 3160: 'hazel', 3161: 'he', 3162: 'head', 3163: 'headache', 3164: 'headaches', 3165: 'headed', 3166: 'heading', 3167: 'heads', 3168: 'headstand', 3169: 'headstrong', 3170: 'heal', 3171: 'healed', 3172: 'healing', 3173: 'health', 3174: 'healths', 3175: 'healthy', 3176: 'hear', 3177: 'heard', 3178: 'hearing', 3179: 'heart', 3180: 'heartbreaking', 3181: 'heartbroken', 3182: 'heartburn', 3183: 'heartless', 3184: 'hearts', 3185: 'heat', 3186: 'heated', 3187: 'heater', 3188: 'heating', 3189: 'heats', 3190: 'heaven', 3191: 'heavier', 3192: 'heavily', 3193: 'heavy', 3194: 'hectic', 3195: 'hed', 3196: 'hedgehogs', 3197: 'heed', 3198: 'heel', 3199: 'heels', 3200: 'height', 3201: 'heir', 3202: 'held', 3203: 'helicopter', 3204: 'helicopters', 3205: 'helium', 3206: 'hell', 3207: 'hello', 3208: 'hellos', 3209: 'helmet', 3210: 'help', 3211: 'helped', 3212: 'helpful', 3213: 'helping', 3214: 'helpless', 3215: 'helplessly', 3216: 'helps', 3217: 'hemoglobin', 3218: 'hens', 3219: 'her', 3220: 'herbal', 3221: 'here', 3222: 'heres', 3223: 'hermit', 3224: 'hermits', 3225: 'hero', 3226: 'heroes', 3227: 'heroic', 3228: 'heroin', 3229: 'herring', 3230: 'hers', 3231: 'herself', 3232: 'hes', 3233: 'hesitant', 3234: 'hesitantly', 3235: 'hesitate', 3236: 'hesitated', 3237: 'hesitating', 3238: 'hey', 3239: 'hi', 3240: 'hibernate', 3241: 'hiccup', 3242: 'hiccuping', 3243: 'hiccups', 3244: 'hid', 3245: 'hidden', 3246: 'hide', 3247: 'hideous', 3248: 'hiding', 3249: 'high', 3250: 'higher', 3251: 'highly', 3252: 'hiking', 3253: 'hilarious', 3254: 'hill', 3255: 'hillbilly', 3256: 'him', 3257: 'himself', 3258: 'hindsight', 3259: 'hint', 3260: 'hip', 3261: 'hippie', 3262: 'hippy', 3263: 'hipster', 3264: 'hire', 3265: 'hired', 3266: 'hiring', 3267: 'his', 3268: 'hiss', 3269: 'hissed', 3270: 'historian', 3271: 'historians', 3272: 'history', 3273: 'hit', 3274: 'hitting', 3275: 'hives', 3276: 'hmm', 3277: 'hoax', 3278: 'hobbies', 3279: 'hobby', 3280: 'hockey', 3281: 'hoe', 3282: 'hog', 3283: 'hogwash', 3284: 'hoist', 3285: 'hoisted', 3286: 'hold', 3287: 'holding', 3288: 'hole', 3289: 'holes', 3290: 'holiday', 3291: 'holidays', 3292: 'hollered', 3293: 'hollow', 3294: 'hollywood', 3295: 'holster', 3296: 'holy', 3297: 'home', 3298: 'homeless', 3299: 'homely', 3300: 'homemade', 3301: 'homes', 3302: 'homeschooled', 3303: 'homesick', 3304: 'hometown', 3305: 'homework', 3306: 'honda', 3307: 'honest', 3308: 'honestly', 3309: 'honesty', 3310: 'honey', 3311: 'honeymoon', 3312: 'honeymooning', 3313: 'honked', 3314: 'honor', 3315: 'honored', 3316: 'hood', 3317: 'hook', 3318: 'hooky', 3319: 'hop', 3320: 'hope', 3321: 'hoped', 3322: 'hopeful', 3323: 'hopefully', 3324: 'hopeless', 3325: 'hopes', 3326: 'hoping', 3327: 'hopped', 3328: 'hops', 3329: 'hopscotch', 3330: 'horn', 3331: 'horrendous', 3332: 'horrible', 3333: 'horrified', 3334: 'horror', 3335: 'horse', 3336: 'horses', 3337: 'hose', 3338: 'hospital', 3339: 'hospitalized', 3340: 'hospitals', 3341: 'hostage', 3342: 'hostages', 3343: 'hostile', 3344: 'hot', 3345: 'hotdogs', 3346: 'hotel', 3347: 'hotheaded', 3348: 'hotter', 3349: 'hottie', 3350: 'hour', 3351: 'hours', 3352: 'house', 3353: 'househusband', 3354: 'houses', 3355: 'housewife', 3356: 'how', 3357: 'howd', 3358: 'howl', 3359: 'howled', 3360: 'howling', 3361: 'howre', 3362: 'hows', 3363: 'huddled', 3364: 'hug', 3365: 'huge', 3366: 'hugged', 3367: 'hugging', 3368: 'huh', 3369: 'human', 3370: 'humans', 3371: 'humble', 3372: 'humbly', 3373: 'humid', 3374: 'humiliated', 3375: 'humiliating', 3376: 'hummed', 3377: 'humming', 3378: 'humor', 3379: 'hunch', 3380: 'hunchbacked', 3381: 'hundred', 3382: 'hundreds', 3383: 'hung', 3384: 'hungarian', 3385: 'hunger', 3386: 'hungover', 3387: 'hungrier', 3388: 'hungry', 3389: 'hunk', 3390: 'hunt', 3391: 'hunted', 3392: 'hunter', 3393: 'hunters', 3394: 'hunting', 3395: 'hurried', 3396: 'hurriedly', 3397: 'hurry', 3398: 'hurt', 3399: 'hurtful', 3400: 'hurting', 3401: 'hurts', 3402: 'husband', 3403: 'hybrid', 3404: 'hype', 3405: 'hyperactive', 3406: 'hypnotism', 3407: 'hypocrisy', 3408: 'hypocrite', 3409: 'hypocrites', 3410: 'hypocritical', 3411: 'hysterical', 3412: 'i', 3413: 'ice', 3414: 'iceland', 3415: 'icon', 3416: 'icy', 3417: 'id', 3418: 'idea', 3419: 'ideal', 3420: 'idealist', 3421: 'idealistic', 3422: 'ideas', 3423: 'identical', 3424: 'identify', 3425: 'idioms', 3426: 'idiot', 3427: 'idiots', 3428: 'idle', 3429: 'idol', 3430: 'idolized', 3431: 'if', 3432: 'ignition', 3433: 'ignorance', 3434: 'ignorant', 3435: 'ignore', 3436: 'ignored', 3437: 'ignores', 3438: 'ignoring', 3439: 'ill', 3440: 'illegal', 3441: 'illiterate', 3442: 'illness', 3443: 'illogical', 3444: 'illusion', 3445: 'im', 3446: 'imagination', 3447: 'imaginative', 3448: 'imagine', 3449: 'imam', 3450: 'imbecile', 3451: 'imho', 3452: 'imitated', 3453: 'imitates', 3454: 'imitation', 3455: 'imitations', 3456: 'immature', 3457: 'immediately', 3458: 'immigrants', 3459: 'imminent', 3460: 'immoral', 3461: 'immortal', 3462: 'immune', 3463: 'immunity', 3464: 'impartial', 3465: 'impatient', 3466: 'impertinent', 3467: 'implying', 3468: 'impolite', 3469: 'impolitely', 3470: 'importance', 3471: 'important', 3472: 'impose', 3473: 'impossible', 3474: 'imposter', 3475: 'impractical', 3476: 'impress', 3477: 'impressed', 3478: 'impressive', 3479: 'imprisoned', 3480: 'improbable', 3481: 'improved', 3482: 'improving', 3483: 'improvisation', 3484: 'improvise', 3485: 'improvised', 3486: 'improviser', 3487: 'impulse', 3488: 'impulsive', 3489: 'in', 3490: 'inbox', 3491: 'inch', 3492: 'inclined', 3493: 'include', 3494: 'included', 3495: 'income', 3496: 'incompetent', 3497: 'inconsistent', 3498: 'inconvenient', 3499: 'incorrect', 3500: 'incorrectly', 3501: 'incorrigible', 3502: 'increase', 3503: 'increasing', 3504: 'incredible', 3505: 'incredibly', 3506: 'incurable', 3507: 'indebted', 3508: 'indecisive', 3509: 'indeed', 3510: 'independent', 3511: 'india', 3512: 'indian', 3513: 'indifferent', 3514: 'indignant', 3515: 'indiscreet', 3516: 'indispensable', 3517: 'indoors', 3518: 'inefficient', 3519: 'ineligible', 3520: 'inevitable', 3521: 'inexcusable', 3522: 'infected', 3523: 'infection', 3524: 'inflation', 3525: 'influenced', 3526: 'influential', 3527: 'info', 3528: 'inform', 3529: 'information', 3530: 'informed', 3531: 'infuriated', 3532: 'infuriating', 3533: 'inhaled', 3534: 'inherited', 3535: 'inhumane', 3536: 'initiative', 3537: 'injured', 3538: 'ink', 3539: 'innocent', 3540: 'innocently', 3541: 'inquiries', 3542: 'insane', 3543: 'insanely', 3544: 'insanity', 3545: 'insatiable', 3546: 'insects', 3547: 'insecure', 3548: 'inseparable', 3549: 'insert', 3550: 'inserted', 3551: 'inside', 3552: 'insightful', 3553: 'insincere', 3554: 'insist', 3555: 'insisted', 3556: 'insistent', 3557: 'insolent', 3558: 'insomnia', 3559: 'inspector', 3560: 'inspiration', 3561: 'inspired', 3562: 'inspires', 3563: 'install', 3564: 'instant', 3565: 'instantly', 3566: 'instead', 3567: 'instigated', 3568: 'instinct', 3569: 'instincts', 3570: 'instructed', 3571: 'instructions', 3572: 'insufferable', 3573: 'insult', 3574: 'insulted', 3575: 'insulting', 3576: 'insurance', 3577: 'insure', 3578: 'insured', 3579: 'intelligent', 3580: 'intend', 3581: 'intended', 3582: 'intense', 3583: 'intentional', 3584: 'intently', 3585: 'interest', 3586: 'interested', 3587: 'interesting', 3588: 'interfere', 3589: 'interfering', 3590: 'intern', 3591: 'internet', 3592: 'interpreted', 3593: 'interpreter', 3594: 'interrupt', 3595: 'interrupted', 3596: 'interrupting', 3597: 'intervene', 3598: 'intervened', 3599: 'interview', 3600: 'interviewed', 3601: 'interviews', 3602: 'intimidate', 3603: 'intimidated', 3604: 'into', 3605: 'intolerable', 3606: 'intolerant', 3607: 'intrigued', 3608: 'intriguing', 3609: 'introduce', 3610: 'introduced', 3611: 'introvert', 3612: 'introverted', 3613: 'intruding', 3614: 'intrusion', 3615: 'intuition', 3616: 'invalid', 3617: 'invented', 3618: 'inventive', 3619: 'inventor', 3620: 'investigate', 3621: 'investigating', 3622: 'investment', 3623: 'investors', 3624: 'invincible', 3625: 'invisible', 3626: 'invitation', 3627: 'invite', 3628: 'invited', 3629: 'inviting', 3630: 'involve', 3631: 'involved', 3632: 'inwardly', 3633: 'ipad', 3634: 'iphone', 3635: 'iq', 3636: 'irate', 3637: 'ireland', 3638: 'irish', 3639: 'irked', 3640: 'iron', 3641: 'ironed', 3642: 'ironic', 3643: 'ironing', 3644: 'irrational', 3645: 'irrelevant', 3646: 'irreplaceable', 3647: 'irresistible', 3648: 'irresponsible', 3649: 'irritable', 3650: 'irritated', 3651: 'irritating', 3652: 'irs', 3653: 'is', 3654: 'island', 3655: 'islander', 3656: 'isnt', 3657: 'issue', 3658: 'issued', 3659: 'it', 3660: 'italian', 3661: 'italy', 3662: 'itch', 3663: 'itches', 3664: 'itchy', 3665: 'itd', 3666: 'item', 3667: 'itll', 3668: 'its', 3669: 'itself', 3670: 'ive', 3671: 'i’ll', 3672: 'jack', 3673: 'jacket', 3674: 'jackpot', 3675: 'jackson', 3676: 'jacksons', 3677: 'jade', 3678: 'jaguar', 3679: 'jail', 3680: 'jam', 3681: 'jammed', 3682: 'janitor', 3683: 'january', 3684: 'japan', 3685: 'japanese', 3686: 'jar', 3687: 'jars', 3688: 'jasmine', 3689: 'jaw', 3690: 'jazz', 3691: 'jealous', 3692: 'jeans', 3693: 'jelly', 3694: 'jellyfish', 3695: 'jerk', 3696: 'jest', 3697: 'jesuit', 3698: 'jesus', 3699: 'jet', 3700: 'jittery', 3701: 'job', 3702: 'jobs', 3703: 'jog', 3704: 'jogging', 3705: 'jogs', 3706: 'john', 3707: 'johns', 3708: 'join', 3709: 'joined', 3710: 'joining', 3711: 'joints', 3712: 'joke', 3713: 'joker', 3714: 'jokes', 3715: 'joking', 3716: 'journal', 3717: 'journalist', 3718: 'journey', 3719: 'joy', 3720: 'joystick', 3721: 'judge', 3722: 'judgement', 3723: 'judges', 3724: 'judging', 3725: 'judo', 3726: 'juggle', 3727: 'juggler', 3728: 'juice', 3729: 'juicy', 3730: 'jump', 3731: 'jumped', 3732: 'jumping', 3733: 'jumpy', 3734: 'junkman', 3735: 'jupiter', 3736: 'just', 3737: 'justice', 3738: 'justified', 3739: 'justify', 3740: 'kanji', 3741: 'karaoke', 3742: 'keep', 3743: 'keeper', 3744: 'keeping', 3745: 'keeps', 3746: 'kept', 3747: 'ketchup', 3748: 'kettle', 3749: 'key', 3750: 'keyboard', 3751: 'keys', 3752: 'kick', 3753: 'kicked', 3754: 'kicking', 3755: 'kid', 3756: 'kidding', 3757: 'kidnap', 3758: 'kidnapped', 3759: 'kidney', 3760: 'kidneys', 3761: 'kids', 3762: 'kill', 3763: 'killed', 3764: 'killer', 3765: 'killers', 3766: 'killing', 3767: 'killjoy', 3768: 'kills', 3769: 'kilograms', 3770: 'kilos', 3771: 'kimono', 3772: 'kind', 3773: 'kindness', 3774: 'king', 3775: 'kings', 3776: 'kiss', 3777: 'kissed', 3778: 'kisser', 3779: 'kisses', 3780: 'kissing', 3781: 'kit', 3782: 'kitchen', 3783: 'kite', 3784: 'kitten', 3785: 'kleptomaniac', 3786: 'klutz', 3787: 'knapsack', 3788: 'knead', 3789: 'knee', 3790: 'kneeled', 3791: 'kneeling', 3792: 'knees', 3793: 'knelt', 3794: 'knew', 3795: 'knife', 3796: 'knit', 3797: 'knits', 3798: 'knitted', 3799: 'knitting', 3800: 'knives', 3801: 'knob', 3802: 'knock', 3803: 'knocked', 3804: 'knocking', 3805: 'knot', 3806: 'knots', 3807: 'know', 3808: 'knowingly', 3809: 'knowitall', 3810: 'knowledge', 3811: 'known', 3812: 'knows', 3813: 'koalas', 3814: 'korea', 3815: 'korean', 3816: 'kyoto', 3817: 'la', 3818: 'lab', 3819: 'label', 3820: 'labor', 3821: 'laced', 3822: 'lack', 3823: 'lacks', 3824: 'lacrosse', 3825: 'lad', 3826: 'ladder', 3827: 'ladies', 3828: 'lady', 3829: 'lagged', 3830: 'laid', 3831: 'lake', 3832: 'lakes', 3833: 'lambs', 3834: 'lame', 3835: 'lamp', 3836: 'lance', 3837: 'land', 3838: 'landed', 3839: 'language', 3840: 'languages', 3841: 'lap', 3842: 'laptop', 3843: 'large', 3844: 'larger', 3845: 'largest', 3846: 'lasagna', 3847: 'last', 3848: 'lasts', 3849: 'late', 3850: 'lately', 3851: 'later', 3852: 'latin', 3853: 'laugh', 3854: 'laughed', 3855: 'laughing', 3856: 'laughs', 3857: 'laughter', 3858: 'launders', 3859: 'laundry', 3860: 'law', 3861: 'lawn', 3862: 'laws', 3863: 'lawyer', 3864: 'lawyers', 3865: 'lay', 3866: 'laying', 3867: 'lays', 3868: 'lazier', 3869: 'lazy', 3870: 'lead', 3871: 'leader', 3872: 'leads', 3873: 'leaf', 3874: 'leak', 3875: 'leaking', 3876: 'leaks', 3877: 'lean', 3878: 'leaned', 3879: 'leaning', 3880: 'leaped', 3881: 'learn', 3882: 'learned', 3883: 'learner', 3884: 'learning', 3885: 'learns', 3886: 'leased', 3887: 'least', 3888: 'leather', 3889: 'leave', 3890: 'leaves', 3891: 'leaving', 3892: 'lecherous', 3893: 'lecture', 3894: 'led', 3895: 'left', 3896: 'lefthanded', 3897: 'leftovers', 3898: 'lefty', 3899: 'leg', 3900: 'legacy', 3901: 'legal', 3902: 'legend', 3903: 'legs', 3904: 'legwork', 3905: 'lemon', 3906: 'lemonade', 3907: 'lemons', 3908: 'lend', 3909: 'lenient', 3910: 'lenses', 3911: 'lent', 3912: 'lentil', 3913: 'leopard', 3914: 'less', 3915: 'lesson', 3916: 'lessons', 3917: 'let', 3918: 'lethargic', 3919: 'lets', 3920: 'letter', 3921: 'letters', 3922: 'letting', 3923: 'leukemia', 3924: 'lever', 3925: 'liar', 3926: 'liars', 3927: 'liberal', 3928: 'libertarian', 3929: 'liberty', 3930: 'librarian', 3931: 'library', 3932: 'license', 3933: 'licked', 3934: 'licorice', 3935: 'lid', 3936: 'lie', 3937: 'lied', 3938: 'lies', 3939: 'lieutenant', 3940: 'life', 3941: 'lifeguard', 3942: 'lifeguards', 3943: 'lifes', 3944: 'lifesaver', 3945: 'lift', 3946: 'lifted', 3947: 'lifts', 3948: 'light', 3949: 'lightbulbs', 3950: 'lighten', 3951: 'lighter', 3952: 'lighters', 3953: 'lightly', 3954: 'lightning', 3955: 'lights', 3956: 'likable', 3957: 'like', 3958: 'likeable', 3959: 'liked', 3960: 'likely', 3961: 'likes', 3962: 'limbs', 3963: 'limit', 3964: 'limited', 3965: 'limitless', 3966: 'limits', 3967: 'limp', 3968: 'limping', 3969: 'limps', 3970: 'lincoln', 3971: 'line', 3972: 'lines', 3973: 'linguist', 3974: 'link', 3975: 'lion', 3976: 'lions', 3977: 'lip', 3978: 'lips', 3979: 'liquid', 3980: 'liquids', 3981: 'lisa', 3982: 'lisbon', 3983: 'lisp', 3984: 'list', 3985: 'listed', 3986: 'listen', 3987: 'listened', 3988: 'listener', 3989: 'listeners', 3990: 'listening', 3991: 'listens', 3992: 'lit', 3993: 'literally', 3994: 'literate', 3995: 'litter', 3996: 'little', 3997: 'live', 3998: 'lived', 3999: 'lives', 4000: 'livid', 4001: 'living', 4002: 'liz', 4003: 'lizards', 4004: 'load', 4005: 'loaded', 4006: 'loan', 4007: 'lobby', 4008: 'lobotomized', 4009: 'lobster', 4010: 'local', 4011: 'located', 4012: 'location', 4013: 'lock', 4014: 'locked', 4015: 'locker', 4016: 'locks', 4017: 'locksmith', 4018: 'log', 4019: 'logged', 4020: 'logical', 4021: 'logs', 4022: 'london', 4023: 'lone', 4024: 'lonely', 4025: 'loner', 4026: 'lonesome', 4027: 'long', 4028: 'longer', 4029: 'look', 4030: 'looked', 4031: 'looking', 4032: 'looks', 4033: 'loop', 4034: 'loose', 4035: 'loosen', 4036: 'loosened', 4037: 'lose', 4038: 'loser', 4039: 'losers', 4040: 'loses', 4041: 'losing', 4042: 'loss', 4043: 'lost', 4044: 'lot', 4045: 'lotion', 4046: 'lots', 4047: 'lottery', 4048: 'loud', 4049: 'louder', 4050: 'loudly', 4051: 'lousy', 4052: 'lovable', 4053: 'love', 4054: 'loved', 4055: 'lovely', 4056: 'lover', 4057: 'lovers', 4058: 'loves', 4059: 'loving', 4060: 'low', 4061: 'lower', 4062: 'lowered', 4063: 'loyal', 4064: 'luck', 4065: 'lucked', 4066: 'luckiest', 4067: 'luckily', 4068: 'lucky', 4069: 'ludicrous', 4070: 'luggage', 4071: 'lukewarm', 4072: 'lullaby', 4073: 'lumberjack', 4074: 'lunatic', 4075: 'lunch', 4076: 'lunchtime', 4077: 'lung', 4078: 'lupus', 4079: 'lush', 4080: 'luxury', 4081: 'lying', 4082: 'lynx', 4083: 'lyrics', 4084: 'maam', 4085: 'macaroni', 4086: 'machines', 4087: 'mad', 4088: 'made', 4089: 'madman', 4090: 'magazine', 4091: 'magazines', 4092: 'magic', 4093: 'magician', 4094: 'magicians', 4095: 'magnet', 4096: 'magnetic', 4097: 'magnets', 4098: 'magnificent', 4099: 'mahjong', 4100: 'maid', 4101: 'mail', 4102: 'mailbox', 4103: 'main', 4104: 'major', 4105: 'majored', 4106: 'make', 4107: 'makes', 4108: 'makeup', 4109: 'making', 4110: 'male', 4111: 'mall', 4112: 'mama', 4113: 'mamas', 4114: 'mammal', 4115: 'mammals', 4116: 'man', 4117: 'manage', 4118: 'managed', 4119: 'manager', 4120: 'manages', 4121: 'managing', 4122: 'manbun', 4123: 'mandatory', 4124: 'mango', 4125: 'mangoes', 4126: 'maniac', 4127: 'manipulated', 4128: 'manipulative', 4129: 'mankind', 4130: 'manly', 4131: 'manners', 4132: 'mans', 4133: 'manually', 4134: 'many', 4135: 'map', 4136: 'marathon', 4137: 'marbles', 4138: 'march', 4139: 'mark', 4140: 'marker', 4141: 'market', 4142: 'marks', 4143: 'marmalade', 4144: 'marriage', 4145: 'married', 4146: 'marry', 4147: 'mars', 4148: 'marshmallows', 4149: 'marsupials', 4150: 'martini', 4151: 'martyr', 4152: 'marvelous', 4153: 'mary', 4154: 'marys', 4155: 'mashed', 4156: 'mask', 4157: 'masks', 4158: 'masochist', 4159: 'mass', 4160: 'massage', 4161: 'master', 4162: 'mastercard', 4163: 'mastermind', 4164: 'masterpiece', 4165: 'mat', 4166: 'match', 4167: 'matches', 4168: 'materialistic', 4169: 'mates', 4170: 'math', 4171: 'mathematics', 4172: 'matter', 4173: 'mattered', 4174: 'matters', 4175: 'mattress', 4176: 'mature', 4177: 'mauled', 4178: 'maximum', 4179: 'may', 4180: 'maybe', 4181: 'mayor', 4182: 'maze', 4183: 'me', 4184: 'meal', 4185: 'meals', 4186: 'mean', 4187: 'meaningless', 4188: 'means', 4189: 'meant', 4190: 'measles', 4191: 'measure', 4192: 'measured', 4193: 'meat', 4194: 'meatballs', 4195: 'mechanic', 4196: 'medal', 4197: 'medals', 4198: 'medic', 4199: 'medical', 4200: 'medication', 4201: 'medicine', 4202: 'meditate', 4203: 'meditating', 4204: 'meek', 4205: 'meet', 4206: 'meeting', 4207: 'meetings', 4208: 'megaphone', 4209: 'melodramatic', 4210: 'melon', 4211: 'melted', 4212: 'melting', 4213: 'melts', 4214: 'member', 4215: 'memorize', 4216: 'memorized', 4217: 'memory', 4218: 'men', 4219: 'mended', 4220: 'mentally', 4221: 'mention', 4222: 'mentioned', 4223: 'mentor', 4224: 'menu', 4225: 'meowed', 4226: 'meowing', 4227: 'meows', 4228: 'mercenary', 4229: 'merchant', 4230: 'merciful', 4231: 'merciless', 4232: 'mercury', 4233: 'mercy', 4234: 'mere', 4235: 'merlin', 4236: 'merrier', 4237: 'merry', 4238: 'mesmerized', 4239: 'mesmerizing', 4240: 'mess', 4241: 'message', 4242: 'messages', 4243: 'messed', 4244: 'messenger', 4245: 'messing', 4246: 'messy', 4247: 'met', 4248: 'metal', 4249: 'metals', 4250: 'metaphor', 4251: 'meteor', 4252: 'meteorite', 4253: 'meteorologist', 4254: 'meter', 4255: 'meters', 4256: 'method', 4257: 'mexican', 4258: 'mexico', 4259: 'mic', 4260: 'mice', 4261: 'microphone', 4262: 'microscope', 4263: 'middle', 4264: 'midnight', 4265: 'midwife', 4266: 'might', 4267: 'mightve', 4268: 'migraine', 4269: 'mike', 4270: 'mild', 4271: 'mile', 4272: 'miles', 4273: 'milk', 4274: 'milked', 4275: 'milkman', 4276: 'milky', 4277: 'million', 4278: 'millionaire', 4279: 'millionaires', 4280: 'milton', 4281: 'mime', 4282: 'mince', 4283: 'mind', 4284: 'minds', 4285: 'mine', 4286: 'miner', 4287: 'mineral', 4288: 'mines', 4289: 'minimal', 4290: 'minimalist', 4291: 'minimized', 4292: 'miniskirts', 4293: 'minister', 4294: 'mink', 4295: 'minor', 4296: 'minority', 4297: 'minors', 4298: 'mint', 4299: 'minus', 4300: 'minute', 4301: 'minutes', 4302: 'miracle', 4303: 'miracles', 4304: 'mirror', 4305: 'mirrors', 4306: 'misbehave', 4307: 'misbehaving', 4308: 'miserable', 4309: 'miserably', 4310: 'miserly', 4311: 'misery', 4312: 'misfired', 4313: 'mishap', 4314: 'misinformed', 4315: 'misjudged', 4316: 'mislead', 4317: 'misleading', 4318: 'misled', 4319: 'misquoted', 4320: 'misread', 4321: 'miss', 4322: 'missed', 4323: 'misses', 4324: 'missing', 4325: 'mission', 4326: 'misspelled', 4327: 'mist', 4328: 'mistake', 4329: 'mistaken', 4330: 'mistakes', 4331: 'mistook', 4332: 'misunderstand', 4333: 'misunderstood', 4334: 'mitt', 4335: 'mittens', 4336: 'mix', 4337: 'mixed', 4338: 'moan', 4339: 'moaned', 4340: 'moaning', 4341: 'mobile', 4342: 'mock', 4343: 'mocked', 4344: 'model', 4345: 'models', 4346: 'moderator', 4347: 'modern', 4348: 'modest', 4349: 'modestly', 4350: 'moist', 4351: 'moldy', 4352: 'mole', 4353: 'mom', 4354: 'moment', 4355: 'momentum', 4356: 'mommy', 4357: 'moms', 4358: 'mona', 4359: 'monday', 4360: 'mondays', 4361: 'money', 4362: 'monitor', 4363: 'monk', 4364: 'monkey', 4365: 'monkeys', 4366: 'monks', 4367: 'monster', 4368: 'month', 4369: 'months', 4370: 'mood', 4371: 'moody', 4372: 'mooed', 4373: 'mooing', 4374: 'moon', 4375: 'moons', 4376: 'moose', 4377: 'moped', 4378: 'moral', 4379: 'more', 4380: 'morgue', 4381: 'morning', 4382: 'morocco', 4383: 'moron', 4384: 'morons', 4385: 'morse', 4386: 'mortal', 4387: 'mortgaged', 4388: 'mosquito', 4389: 'mosquitoes', 4390: 'most', 4391: 'mostly', 4392: 'mother', 4393: 'mothers', 4394: 'motion', 4395: 'motivated', 4396: 'motivates', 4397: 'motivation', 4398: 'motor', 4399: 'motorboat', 4400: 'motorcycle', 4401: 'motto', 4402: 'mountain', 4403: 'mountains', 4404: 'mourning', 4405: 'mouse', 4406: 'moustache', 4407: 'mouth', 4408: 'mouthing', 4409: 'mouthwash', 4410: 'move', 4411: 'moved', 4412: 'moves', 4413: 'movie', 4414: 'movies', 4415: 'moving', 4416: 'mow', 4417: 'mowed', 4418: 'mowing', 4419: 'mozart', 4420: 'mp', 4421: 'mr', 4422: 'mt', 4423: 'much', 4424: 'mud', 4425: 'muddy', 4426: 'muffins', 4427: 'mug', 4428: 'mugged', 4429: 'mumble', 4430: 'mumbles', 4431: 'mumbling', 4432: 'mums', 4433: 'murder', 4434: 'murdered', 4435: 'murderer', 4436: 'murderers', 4437: 'murky', 4438: 'muscle', 4439: 'museum', 4440: 'museums', 4441: 'mushrooms', 4442: 'music', 4443: 'musician', 4444: 'musicians', 4445: 'musicologist', 4446: 'muslim', 4447: 'mussels', 4448: 'must', 4449: 'mustache', 4450: 'mustnt', 4451: 'mustve', 4452: 'mute', 4453: 'mutt', 4454: 'muttering', 4455: 'mutton', 4456: 'mutual', 4457: 'my', 4458: 'myself', 4459: 'mysteries', 4460: 'mysterious', 4461: 'mystery', 4462: 'mystifying', 4463: 'myth', 4464: 'nagasaki', 4465: 'nail', 4466: 'nails', 4467: 'naive', 4468: 'naked', 4469: 'name', 4470: 'named', 4471: 'names', 4472: 'nanny', 4473: 'nanotechnology', 4474: 'nap', 4475: 'nara', 4476: 'narrow', 4477: 'narrowly', 4478: 'narrowminded', 4479: 'nasa', 4480: 'nasty', 4481: 'native', 4482: 'natto', 4483: 'natural', 4484: 'naturally', 4485: 'nature', 4486: 'naughty', 4487: 'nauseous', 4488: 'navy', 4489: 'naïve', 4490: 'nda', 4491: 'near', 4492: 'nearby', 4493: 'nearer', 4494: 'nearly', 4495: 'nearsighted', 4496: 'neat', 4497: 'neatly', 4498: 'necessary', 4499: 'neck', 4500: 'necklace', 4501: 'necks', 4502: 'need', 4503: 'needed', 4504: 'needle', 4505: 'needs', 4506: 'needy', 4507: 'negative', 4508: 'negligent', 4509: 'negotiate', 4510: 'neighbor', 4511: 'neighbors', 4512: 'neither', 4513: 'nephew', 4514: 'nephews', 4515: 'nerd', 4516: 'nerve', 4517: 'nerves', 4518: 'nervous', 4519: 'nervously', 4520: 'nest', 4521: 'nests', 4522: 'net', 4523: 'neurologist', 4524: 'neutral', 4525: 'never', 4526: 'new', 4527: 'newbie', 4528: 'newcomer', 4529: 'newcomers', 4530: 'newly', 4531: 'newlyweds', 4532: 'news', 4533: 'newspaper', 4534: 'newspapers', 4535: 'newts', 4536: 'next', 4537: 'nice', 4538: 'nicely', 4539: 'nicer', 4540: 'nickname', 4541: 'nicotine', 4542: 'niece', 4543: 'nieces', 4544: 'night', 4545: 'nightclub', 4546: 'nightmare', 4547: 'nightmares', 4548: 'nights', 4549: 'nile', 4550: 'nimble', 4551: 'nine', 4552: 'ninety', 4553: 'ninja', 4554: 'no', 4555: 'noahs', 4556: 'nobody', 4557: 'nobodyll', 4558: 'nobodys', 4559: 'nobrainer', 4560: 'nod', 4561: 'nodded', 4562: 'nodding', 4563: 'noggin', 4564: 'noise', 4565: 'noises', 4566: 'noisy', 4567: 'none', 4568: 'nonplussed', 4569: 'nonrefundable', 4570: 'nonsense', 4571: 'nonsmoker', 4572: 'nonsmokers', 4573: 'nonstop', 4574: 'noodles', 4575: 'noon', 4576: 'normal', 4577: 'normally', 4578: 'north', 4579: 'norway', 4580: 'nose', 4581: 'nosebleed', 4582: 'nosey', 4583: 'nosy', 4584: 'not', 4585: 'note', 4586: 'notebook', 4587: 'notebooks', 4588: 'notes', 4589: 'nothing', 4590: 'nothingll', 4591: 'nothings', 4592: 'notice', 4593: 'noticed', 4594: 'noticing', 4595: 'notified', 4596: 'notify', 4597: 'notorious', 4598: 'novel', 4599: 'novels', 4600: 'now', 4601: 'nowhere', 4602: 'nows', 4603: 'nuclear', 4604: 'nude', 4605: 'nudged', 4606: 'nuggets', 4607: 'nuisance', 4608: 'numb', 4609: 'number', 4610: 'numbered', 4611: 'numbers', 4612: 'numbs', 4613: 'nun', 4614: 'nurse', 4615: 'nursery', 4616: 'nut', 4617: 'nutritious', 4618: 'nuts', 4619: 'oak', 4620: 'oar', 4621: 'oars', 4622: 'oath', 4623: 'oatmeal', 4624: 'obedient', 4625: 'obediently', 4626: 'obese', 4627: 'obey', 4628: 'obeyed', 4629: 'obeys', 4630: 'object', 4631: 'objected', 4632: 'objection', 4633: 'objections', 4634: 'objective', 4635: 'obliged', 4636: 'obnoxious', 4637: 'oboe', 4638: 'obscene', 4639: 'observant', 4640: 'observer', 4641: 'observing', 4642: 'obsolete', 4643: 'obstinate', 4644: 'obvious', 4645: 'obviously', 4646: 'occupied', 4647: 'occur', 4648: 'occurred', 4649: 'ocean', 4650: 'oceanographer', 4651: 'oclock', 4652: 'octagon', 4653: 'october', 4654: 'octopus', 4655: 'odd', 4656: 'oddly', 4657: 'of', 4658: 'off', 4659: 'offduty', 4660: 'offend', 4661: 'offended', 4662: 'offensive', 4663: 'offer', 4664: 'offered', 4665: 'offering', 4666: 'office', 4667: 'officer', 4668: 'official', 4669: 'often', 4670: 'oh', 4671: 'ohio', 4672: 'oil', 4673: 'oiled', 4674: 'oily', 4675: 'ok', 4676: 'okay', 4677: 'old', 4678: 'older', 4679: 'oldest', 4680: 'oldfashioned', 4681: 'olds', 4682: 'olive', 4683: 'olives', 4684: 'omelet', 4685: 'omelette', 4686: 'omen', 4687: 'ominous', 4688: 'on', 4689: 'once', 4690: 'one', 4691: 'onerous', 4692: 'ones', 4693: 'onetime', 4694: 'onion', 4695: 'onions', 4696: 'online', 4697: 'only', 4698: 'onto', 4699: 'oops', 4700: 'open', 4701: 'opened', 4702: 'opener', 4703: 'openminded', 4704: 'opens', 4705: 'opera', 4706: 'operate', 4707: 'operation', 4708: 'opinion', 4709: 'opossum', 4710: 'opportunistic', 4711: 'oppose', 4712: 'opposed', 4713: 'opposite', 4714: 'opposites', 4715: 'optimism', 4716: 'optimist', 4717: 'optimistic', 4718: 'optimists', 4719: 'option', 4720: 'optional', 4721: 'options', 4722: 'or', 4723: 'oral', 4724: 'orange', 4725: 'oranges', 4726: 'orchids', 4727: 'order', 4728: 'ordered', 4729: 'ordering', 4730: 'orders', 4731: 'ordinary', 4732: 'organ', 4733: 'organized', 4734: 'origin', 4735: 'original', 4736: 'orphan', 4737: 'orphans', 4738: 'orthodontist', 4739: 'orthopedist', 4740: 'osaka', 4741: 'ostracized', 4742: 'ostrich', 4743: 'ostriches', 4744: 'other', 4745: 'others', 4746: 'otherwise', 4747: 'ought', 4748: 'our', 4749: 'ours', 4750: 'ourselves', 4751: 'out', 4752: 'outcast', 4753: 'outdated', 4754: 'outdoors', 4755: 'outgoing', 4756: 'outlaw', 4757: 'outlive', 4758: 'outlived', 4759: 'outnumbered', 4760: 'outrage', 4761: 'outraged', 4762: 'outrageous', 4763: 'outrank', 4764: 'outside', 4765: 'outsider', 4766: 'outsmarted', 4767: 'outwitted', 4768: 'oven', 4769: 'over', 4770: 'overanalyzing', 4771: 'overbite', 4772: 'overboard', 4773: 'overcast', 4774: 'overconfident', 4775: 'overcooked', 4776: 'overdo', 4777: 'overdoing', 4778: 'overdone', 4779: 'overdosed', 4780: 'overestimate', 4781: 'overflowed', 4782: 'overheard', 4783: 'overheats', 4784: 'overjoyed', 4785: 'overlap', 4786: 'overlooked', 4787: 'overnight', 4788: 'overpaid', 4789: 'overpowered', 4790: 'overqualified', 4791: 'overrated', 4792: 'overreacted', 4793: 'overreacting', 4794: 'oversight', 4795: 'oversleep', 4796: 'overslept', 4797: 'overtime', 4798: 'overtook', 4799: 'overweight', 4800: 'overwhelmed', 4801: 'overwork', 4802: 'overworked', 4803: 'ow', 4804: 'owe', 4805: 'owed', 4806: 'owes', 4807: 'owl', 4808: 'owls', 4809: 'own', 4810: 'owned', 4811: 'owner', 4812: 'owners', 4813: 'owns', 4814: 'oxygen', 4815: 'oysters', 4816: 'pace', 4817: 'pacemaker', 4818: 'pacifist', 4819: 'pacifists', 4820: 'pack', 4821: 'package', 4822: 'packed', 4823: 'packing', 4824: 'pact', 4825: 'pad', 4826: 'paddling', 4827: 'page', 4828: 'paged', 4829: 'pagoda', 4830: 'paid', 4831: 'pain', 4832: 'painful', 4833: 'painfully', 4834: 'painkiller', 4835: 'painless', 4836: 'pains', 4837: 'paint', 4838: 'painted', 4839: 'painter', 4840: 'painting', 4841: 'paintings', 4842: 'paints', 4843: 'pair', 4844: 'pajamas', 4845: 'pal', 4846: 'pale', 4847: 'paled', 4848: 'palms', 4849: 'pan', 4850: 'pancake', 4851: 'pancakes', 4852: 'pandas', 4853: 'pandemic', 4854: 'panel', 4855: 'pangs', 4856: 'panic', 4857: 'panicked', 4858: 'panicking', 4859: 'panicky', 4860: 'pans', 4861: 'panting', 4862: 'pantry', 4863: 'pants', 4864: 'paper', 4865: 'papers', 4866: 'paperwork', 4867: 'paradise', 4868: 'paradox', 4869: 'parallel', 4870: 'paralyzed', 4871: 'paranoid', 4872: 'paraplegic', 4873: 'pardon', 4874: 'pardoned', 4875: 'parent', 4876: 'parents', 4877: 'paris', 4878: 'park', 4879: 'parked', 4880: 'parking', 4881: 'parody', 4882: 'parole', 4883: 'parrot', 4884: 'parrots', 4885: 'part', 4886: 'participate', 4887: 'participated', 4888: 'particular', 4889: 'parties', 4890: 'partly', 4891: 'partner', 4892: 'partners', 4893: 'parttime', 4894: 'party', 4895: 'partying', 4896: 'partys', 4897: 'pass', 4898: 'passed', 4899: 'passenger', 4900: 'passengers', 4901: 'passing', 4902: 'passion', 4903: 'passport', 4904: 'password', 4905: 'past', 4906: 'pasta', 4907: 'pastor', 4908: 'pastry', 4909: 'path', 4910: 'pathetic', 4911: 'patience', 4912: 'patient', 4913: 'patiently', 4914: 'patients', 4915: 'patriot', 4916: 'patriotic', 4917: 'patriots', 4918: 'patrol', 4919: 'pattern', 4920: 'paused', 4921: 'pawnbroker', 4922: 'paws', 4923: 'pay', 4924: 'payback', 4925: 'payday', 4926: 'paying', 4927: 'pays', 4928: 'peace', 4929: 'peaceful', 4930: 'peacefully', 4931: 'peach', 4932: 'peaches', 4933: 'peanut', 4934: 'peanuts', 4935: 'pear', 4936: 'pears', 4937: 'peas', 4938: 'pedestrian', 4939: 'pediatrician', 4940: 'pedometer', 4941: 'peek', 4942: 'peel', 4943: 'peeled', 4944: 'peeling', 4945: 'pelicans', 4946: 'pen', 4947: 'pencil', 4948: 'pencils', 4949: 'peninsula', 4950: 'penniless', 4951: 'penny', 4952: 'penpal', 4953: 'pens', 4954: 'pensive', 4955: 'peonies', 4956: 'people', 4957: 'pepper', 4958: 'peppers', 4959: 'per', 4960: 'perceptive', 4961: 'perfect', 4962: 'perfectionist', 4963: 'perfectionists', 4964: 'perfectly', 4965: 'perfume', 4966: 'perhaps', 4967: 'perish', 4968: 'perjured', 4969: 'perk', 4970: 'perky', 4971: 'permanent', 4972: 'permission', 4973: 'permit', 4974: 'permitted', 4975: 'perplexed', 4976: 'persist', 4977: 'persistence', 4978: 'persistent', 4979: 'person', 4980: 'personal', 4981: 'personally', 4982: 'persuaded', 4983: 'persuasive', 4984: 'perth', 4985: 'perused', 4986: 'perverse', 4987: 'pervert', 4988: 'pesos', 4989: 'pessimist', 4990: 'pessimistic', 4991: 'pestering', 4992: 'pet', 4993: 'petition', 4994: 'petrified', 4995: 'pets', 4996: 'petty', 4997: 'pharmacist', 4998: 'pharmacy', 4999: 'phd', 5000: 'pheasant', 5001: 'phenomenal', 5002: 'phew', 5003: 'philosopher', 5004: 'phone', 5005: 'phoned', 5006: 'phones', 5007: 'photo', 5008: 'photogenic', 5009: 'photographer', 5010: 'photography', 5011: 'photos', 5012: 'physician', 5013: 'physicist', 5014: 'physics', 5015: 'pianist', 5016: 'piano', 5017: 'picasso', 5018: 'picassos', 5019: 'pick', 5020: 'picked', 5021: 'picking', 5022: 'pickle', 5023: 'pickpockets', 5024: 'picky', 5025: 'picnics', 5026: 'picture', 5027: 'pictures', 5028: 'pie', 5029: 'piece', 5030: 'pieces', 5031: 'pier', 5032: 'pierced', 5033: 'pies', 5034: 'pig', 5035: 'pigeon', 5036: 'pigeons', 5037: 'pigeontoed', 5038: 'pigs', 5039: 'pigsty', 5040: 'pilgrimage', 5041: 'pill', 5042: 'pillow', 5043: 'pills', 5044: 'pilot', 5045: 'pilots', 5046: 'pinch', 5047: 'pinched', 5048: 'pinching', 5049: 'pine', 5050: 'pineapple', 5051: 'pink', 5052: 'pioneer', 5053: 'pious', 5054: 'pipe', 5055: 'pipes', 5056: 'pirate', 5057: 'pistol', 5058: 'pit', 5059: 'pitch', 5060: 'pitchblack', 5061: 'pitcher', 5062: 'pitchers', 5063: 'pitied', 5064: 'pity', 5065: 'pizza', 5066: 'pizzas', 5067: 'pizzeria', 5068: 'place', 5069: 'placebo', 5070: 'places', 5071: 'plagiarism', 5072: 'plain', 5073: 'plan', 5074: 'plane', 5075: 'planes', 5076: 'planet', 5077: 'planned', 5078: 'planning', 5079: 'plans', 5080: 'plant', 5081: 'planted', 5082: 'planting', 5083: 'plants', 5084: 'plastered', 5085: 'plastic', 5086: 'plate', 5087: 'plates', 5088: 'plausible', 5089: 'play', 5090: 'played', 5091: 'player', 5092: 'players', 5093: 'playing', 5094: 'plays', 5095: 'playwright', 5096: 'plead', 5097: 'pleaded', 5098: 'pleasant', 5099: 'pleasantly', 5100: 'please', 5101: 'pleased', 5102: 'pleases', 5103: 'pleasure', 5104: 'plenty', 5105: 'plowed', 5106: 'plug', 5107: 'plugged', 5108: 'plum', 5109: 'plumber', 5110: 'plums', 5111: 'plus', 5112: 'pm', 5113: 'pneumonia', 5114: 'pocket', 5115: 'pocketed', 5116: 'pockets', 5117: 'poem', 5118: 'poems', 5119: 'poet', 5120: 'poetry', 5121: 'poets', 5122: 'point', 5123: 'pointed', 5124: 'pointing', 5125: 'pointless', 5126: 'points', 5127: 'pointy', 5128: 'poise', 5129: 'poison', 5130: 'poisoned', 5131: 'poisoning', 5132: 'poisonous', 5133: 'poker', 5134: 'poking', 5135: 'polar', 5136: 'police', 5137: 'policeman', 5138: 'policemen', 5139: 'policy', 5140: 'polished', 5141: 'polite', 5142: 'politely', 5143: 'politician', 5144: 'politicians', 5145: 'politics', 5146: 'polluted', 5147: 'polo', 5148: 'pomegranate', 5149: 'pompous', 5150: 'pond', 5151: 'ponies', 5152: 'pony', 5153: 'pool', 5154: 'poor', 5155: 'poorer', 5156: 'pop', 5157: 'popcorn', 5158: 'popular', 5159: 'porch', 5160: 'pork', 5161: 'portion', 5162: 'portraits', 5163: 'portugal', 5164: 'portuguese', 5165: 'posed', 5166: 'position', 5167: 'positions', 5168: 'positive', 5169: 'possessive', 5170: 'possible', 5171: 'possibly', 5172: 'post', 5173: 'postal', 5174: 'postcard', 5175: 'postcards', 5176: 'posted', 5177: 'postman', 5178: 'postponed', 5179: 'pot', 5180: 'potato', 5181: 'potatoes', 5182: 'potential', 5183: 'potter', 5184: 'potters', 5185: 'poultry', 5186: 'pounds', 5187: 'pour', 5188: 'poured', 5189: 'pouring', 5190: 'pouting', 5191: 'poverty', 5192: 'power', 5193: 'powerful', 5194: 'powerless', 5195: 'powers', 5196: 'practical', 5197: 'practically', 5198: 'practice', 5199: 'practiced', 5200: 'practices', 5201: 'practicing', 5202: 'practising', 5203: 'praise', 5204: 'praised', 5205: 'prank', 5206: 'prankster', 5207: 'pray', 5208: 'prayed', 5209: 'prayers', 5210: 'praying', 5211: 'preacher', 5212: 'precautions', 5213: 'precedent', 5214: 'precious', 5215: 'precisely', 5216: 'predictable', 5217: 'predicted', 5218: 'prefer', 5219: 'prefers', 5220: 'pregnant', 5221: 'prejudiced', 5222: 'premonition', 5223: 'prenup', 5224: 'prepaid', 5225: 'prepare', 5226: 'prepared', 5227: 'preparing', 5228: 'present', 5229: 'presentable', 5230: 'presented', 5231: 'president', 5232: 'press', 5233: 'pressed', 5234: 'pressure', 5235: 'pressuring', 5236: 'presumptuous', 5237: 'pretend', 5238: 'pretended', 5239: 'pretending', 5240: 'pretends', 5241: 'prettier', 5242: 'pretty', 5243: 'pretzels', 5244: 'prevail', 5245: 'prevent', 5246: 'preventable', 5247: 'price', 5248: 'priceless', 5249: 'prices', 5250: 'pricey', 5251: 'pride', 5252: 'priest', 5253: 'prime', 5254: 'prince', 5255: 'princess', 5256: 'principles', 5257: 'print', 5258: 'printer', 5259: 'prioritize', 5260: 'priority', 5261: 'prison', 5262: 'prisoner', 5263: 'prisoners', 5264: 'prisons', 5265: 'privacy', 5266: 'private', 5267: 'prize', 5268: 'prizes', 5269: 'pro', 5270: 'probably', 5271: 'problem', 5272: 'problems', 5273: 'procedure', 5274: 'proceed', 5275: 'procrastinate', 5276: 'productive', 5277: 'professional', 5278: 'professor', 5279: 'professors', 5280: 'profile', 5281: 'profit', 5282: 'profoundly', 5283: 'profusely', 5284: 'prognosis', 5285: 'program', 5286: 'programmer', 5287: 'progress', 5288: 'progressing', 5289: 'prohibited', 5290: 'project', 5291: 'prolific', 5292: 'prom', 5293: 'promise', 5294: 'promised', 5295: 'promises', 5296: 'promising', 5297: 'promoted', 5298: 'promotion', 5299: 'promptly', 5300: 'pronounced', 5301: 'proof', 5302: 'properly', 5303: 'property', 5304: 'prophecy', 5305: 'prophet', 5306: 'proposal', 5307: 'propose', 5308: 'proposed', 5309: 'pros', 5310: 'protect', 5311: 'protected', 5312: 'protecting', 5313: 'protection', 5314: 'protector', 5315: 'protege', 5316: 'protest', 5317: 'protested', 5318: 'proud', 5319: 'prouder', 5320: 'prove', 5321: 'proved', 5322: 'proven', 5323: 'proverb', 5324: 'proverbs', 5325: 'proves', 5326: 'provide', 5327: 'provided', 5328: 'provoke', 5329: 'prude', 5330: 'prudent', 5331: 'pruned', 5332: 'pry', 5333: 'pseudoscience', 5334: 'psyched', 5335: 'psychiatrist', 5336: 'psychic', 5337: 'psychologist', 5338: 'psychology', 5339: 'psychopath', 5340: 'pub', 5341: 'public', 5342: 'publish', 5343: 'pudding', 5344: 'pudgy', 5345: 'pull', 5346: 'pulled', 5347: 'pulling', 5348: 'pullover', 5349: 'pulse', 5350: 'pump', 5351: 'pumped', 5352: 'pumpkin', 5353: 'pumps', 5354: 'pun', 5355: 'punch', 5356: 'punched', 5357: 'punching', 5358: 'punctual', 5359: 'punctuality', 5360: 'punished', 5361: 'punishment', 5362: 'punk', 5363: 'pupil', 5364: 'puppets', 5365: 'puppy', 5366: 'purchase', 5367: 'purchases', 5368: 'pure', 5369: 'purebred', 5370: 'purist', 5371: 'purple', 5372: 'purpose', 5373: 'purr', 5374: 'purring', 5375: 'purse', 5376: 'push', 5377: 'pushed', 5378: 'pushing', 5379: 'pushover', 5380: 'pushups', 5381: 'pushy', 5382: 'put', 5383: 'puts', 5384: 'putting', 5385: 'puzzle', 5386: 'puzzled', 5387: 'puzzles', 5388: 'puzzling', 5389: 'quadriplegic', 5390: 'qualified', 5391: 'quality', 5392: 'quarantine', 5393: 'quarrel', 5394: 'quarreled', 5395: 'quarter', 5396: 'quavered', 5397: 'queasy', 5398: 'queen', 5399: 'quesadilla', 5400: 'question', 5401: 'questioned', 5402: 'questions', 5403: 'queue', 5404: 'quibble', 5405: 'quibbling', 5406: 'quick', 5407: 'quickened', 5408: 'quicker', 5409: 'quickly', 5410: 'quiet', 5411: 'quieter', 5412: 'quietly', 5413: 'quills', 5414: 'quit', 5415: 'quite', 5416: 'quitter', 5417: 'quitting', 5418: 'quiz', 5419: 'quote', 5420: 'quotes', 5421: 'quoting', 5422: 'rabbi', 5423: 'rabbit', 5424: 'rabbits', 5425: 'raccoon', 5426: 'race', 5427: 'races', 5428: 'racist', 5429: 'racists', 5430: 'racket', 5431: 'radar', 5432: 'radiant', 5433: 'radio', 5434: 'radios', 5435: 'radium', 5436: 'raft', 5437: 'rag', 5438: 'rage', 5439: 'rags', 5440: 'rail', 5441: 'rain', 5442: 'raincoat', 5443: 'rained', 5444: 'raining', 5445: 'rains', 5446: 'rainy', 5447: 'raise', 5448: 'raised', 5449: 'raises', 5450: 'rake', 5451: 'raking', 5452: 'rallied', 5453: 'rambling', 5454: 'ramen', 5455: 'ran', 5456: 'ranch', 5457: 'rancid', 5458: 'rang', 5459: 'ransom', 5460: 'rap', 5461: 'rapidly', 5462: 'rapper', 5463: 'rare', 5464: 'rarely', 5465: 'rash', 5466: 'raspberries', 5467: 'rat', 5468: 'rather', 5469: 'ratings', 5470: 'rational', 5471: 'rats', 5472: 'ratted', 5473: 'ravioli', 5474: 'raw', 5475: 'rb', 5476: 'rd', 5477: 'reach', 5478: 'reached', 5479: 'react', 5480: 'reacted', 5481: 'read', 5482: 'reader', 5483: 'readily', 5484: 'reading', 5485: 'reads', 5486: 'ready', 5487: 'real', 5488: 'realist', 5489: 'realistic', 5490: 'reality', 5491: 'realize', 5492: 'really', 5493: 'realtor', 5494: 'reap', 5495: 'reason', 5496: 'reasonable', 5497: 'reasons', 5498: 'reassured', 5499: 'rebel', 5500: 'rebels', 5501: 'reborn', 5502: 'recall', 5503: 'receipt', 5504: 'received', 5505: 'recently', 5506: 'recess', 5507: 'rechecked', 5508: 'recipe', 5509: 'reckless', 5510: 'recognize', 5511: 'recognized', 5512: 'recognizes', 5513: 'recommend', 5514: 'recommended', 5515: 'reconcile', 5516: 'reconsider', 5517: 'record', 5518: 'recording', 5519: 'recount', 5520: 'recover', 5521: 'recovered', 5522: 'recovering', 5523: 'recycle', 5524: 'red', 5525: 'redhead', 5526: 'redheads', 5527: 'redneck', 5528: 'redundant', 5529: 'reek', 5530: 'reeked', 5531: 'reelected', 5532: 'referee', 5533: 'reflects', 5534: 'reflexes', 5535: 'reformed', 5536: 'refresh', 5537: 'refreshing', 5538: 'refrigerator', 5539: 'refugee', 5540: 'refund', 5541: 'refuse', 5542: 'refused', 5543: 'refuses', 5544: 'regards', 5545: 'reggae', 5546: 'regime', 5547: 'register', 5548: 'registered', 5549: 'regret', 5550: 'regrets', 5551: 'regretted', 5552: 'regularly', 5553: 'regulars', 5554: 'rehearse', 5555: 'reindeer', 5556: 'rejected', 5557: 'related', 5558: 'relative', 5559: 'relatively', 5560: 'relatives', 5561: 'relax', 5562: 'relaxed', 5563: 'relaxes', 5564: 'relaxing', 5565: 'relearning', 5566: 'release', 5567: 'released', 5568: 'relented', 5569: 'relentless', 5570: 'relevant', 5571: 'reliable', 5572: 'relied', 5573: 'relief', 5574: 'relies', 5575: 'relieved', 5576: 'religious', 5577: 'reloaded', 5578: 'reluctant', 5579: 'reluctantly', 5580: 'rely', 5581: 'remain', 5582: 'remained', 5583: 'remarkable', 5584: 'remarried', 5585: 'rematch', 5586: 'remember', 5587: 'remembered', 5588: 'remembers', 5589: 'remind', 5590: 'reminded', 5591: 'reminding', 5592: 'reminds', 5593: 'remorse', 5594: 'remote', 5595: 'remotely', 5596: 'remove', 5597: 'removed', 5598: 'renamed', 5599: 'rent', 5600: 'rental', 5601: 'rented', 5602: 'repaid', 5603: 'repair', 5604: 'repaired', 5605: 'repay', 5606: 'repeat', 5607: 'repeated', 5608: 'repeats', 5609: 'rephrase', 5610: 'replace', 5611: 'replaceable', 5612: 'replaced', 5613: 'replacing', 5614: 'replied', 5615: 'reply', 5616: 'report', 5617: 'reporter', 5618: 'reptiles', 5619: 'republican', 5620: 'repulses', 5621: 'repulsive', 5622: 'request', 5623: 'requested', 5624: 'require', 5625: 'required', 5626: 'reread', 5627: 'reschedule', 5628: 'rescheduled', 5629: 'rescue', 5630: 'rescued', 5631: 'research', 5632: 'resemblance', 5633: 'resemble', 5634: 'resentful', 5635: 'reservation', 5636: 'reserved', 5637: 'resign', 5638: 'resigned', 5639: 'resigning', 5640: 'resigns', 5641: 'resilient', 5642: 'resist', 5643: 'resistance', 5644: 'resisted', 5645: 'resisting', 5646: 'resourceful', 5647: 'resources', 5648: 'respect', 5649: 'respected', 5650: 'respectful', 5651: 'respects', 5652: 'respond', 5653: 'responded', 5654: 'responding', 5655: 'response', 5656: 'responsible', 5657: 'rest', 5658: 'restart', 5659: 'restaurant', 5660: 'rested', 5661: 'resting', 5662: 'restless', 5663: 'restlessly', 5664: 'restored', 5665: 'restroom', 5666: 'rests', 5667: 'result', 5668: 'results', 5669: 'resumed', 5670: 'resuscitated', 5671: 'retail', 5672: 'retaliate', 5673: 'retire', 5674: 'retired', 5675: 'retires', 5676: 'retiring', 5677: 'retreat', 5678: 'retreated', 5679: 'retreating', 5680: 'return', 5681: 'returned', 5682: 'returning', 5683: 'returns', 5684: 'revelation', 5685: 'revenge', 5686: 'review', 5687: 'reviewed', 5688: 'reviews', 5689: 'revised', 5690: 'revolt', 5691: 'reward', 5692: 'rewarded', 5693: 'rewound', 5694: 'rewrote', 5695: 'rhubarb', 5696: 'rib', 5697: 'ribbon', 5698: 'ribs', 5699: 'rice', 5700: 'rich', 5701: 'richer', 5702: 'rid', 5703: 'riddle', 5704: 'riddles', 5705: 'ride', 5706: 'rides', 5707: 'ridiculous', 5708: 'riding', 5709: 'rifle', 5710: 'rigged', 5711: 'right', 5712: 'righthanded', 5713: 'rights', 5714: 'ring', 5715: 'ringing', 5716: 'rings', 5717: 'rinse', 5718: 'rinsed', 5719: 'riot', 5720: 'rip', 5721: 'ripe', 5722: 'ripped', 5723: 'rise', 5724: 'risen', 5725: 'riser', 5726: 'risers', 5727: 'rising', 5728: 'risk', 5729: 'risked', 5730: 'risks', 5731: 'risky', 5732: 'risotto', 5733: 'ritual', 5734: 'rituals', 5735: 'rival', 5736: 'rivals', 5737: 'river', 5738: 'riveting', 5739: 'road', 5740: 'roads', 5741: 'roast', 5742: 'rob', 5743: 'robbed', 5744: 'robbery', 5745: 'robe', 5746: 'robot', 5747: 'robots', 5748: 'rock', 5749: 'rocker', 5750: 'rocks', 5751: 'rode', 5752: 'role', 5753: 'roll', 5754: 'rolled', 5755: 'roller', 5756: 'rolls', 5757: 'romance', 5758: 'romantic', 5759: 'rome', 5760: 'roof', 5761: 'rookie', 5762: 'room', 5763: 'roomed', 5764: 'roommate', 5765: 'rooms', 5766: 'rooster', 5767: 'roosters', 5768: 'rooting', 5769: 'roots', 5770: 'rope', 5771: 'ropes', 5772: 'rose', 5773: 'roses', 5774: 'rotates', 5775: 'rotten', 5776: 'rough', 5777: 'round', 5778: 'route', 5779: 'routine', 5780: 'row', 5781: 'rowboat', 5782: 'rowing', 5783: 'rub', 5784: 'rubbed', 5785: 'rubbish', 5786: 'ruckus', 5787: 'rude', 5788: 'rudeness', 5789: 'ruffian', 5790: 'rug', 5791: 'rugby', 5792: 'rugs', 5793: 'ruin', 5794: 'ruined', 5795: 'rule', 5796: 'ruler', 5797: 'rules', 5798: 'rum', 5799: 'rumor', 5800: 'rumors', 5801: 'run', 5802: 'runaway', 5803: 'rundown', 5804: 'rung', 5805: 'runner', 5806: 'runners', 5807: 'running', 5808: 'runny', 5809: 'runs', 5810: 'rural', 5811: 'rush', 5812: 'rushed', 5813: 'russia', 5814: 'ruthless', 5815: 'rye', 5816: 'sabotage', 5817: 'sack', 5818: 'sacred', 5819: 'sacrifice', 5820: 'sacrificed', 5821: 'sad', 5822: 'safari', 5823: 'safe', 5824: 'safely', 5825: 'safer', 5826: 'safety', 5827: 'said', 5828: 'sail', 5829: 'sailboat', 5830: 'sailed', 5831: 'sailing', 5832: 'sailor', 5833: 'sailors', 5834: 'sails', 5835: 'saint', 5836: 'saitama', 5837: 'sake', 5838: 'salad', 5839: 'salary', 5840: 'sale', 5841: 'sales', 5842: 'salesman', 5843: 'salesperson', 5844: 'salmon', 5845: 'salsa', 5846: 'salt', 5847: 'salted', 5848: 'salty', 5849: 'same', 5850: 'sample', 5851: 'samurai', 5852: 'sand', 5853: 'sandals', 5854: 'sandwich', 5855: 'sandwiches', 5856: 'sane', 5857: 'sang', 5858: 'sank', 5859: 'santa', 5860: 'sarcasm', 5861: 'sarcastic', 5862: 'sashimi', 5863: 'sass', 5864: 'sat', 5865: 'satisfaction', 5866: 'satisfied', 5867: 'satisfy', 5868: 'saturday', 5869: 'saturdays', 5870: 'saturn', 5871: 'sauce', 5872: 'sauerkraut', 5873: 'sauna', 5874: 'save', 5875: 'saved', 5876: 'saver', 5877: 'saves', 5878: 'saving', 5879: 'savings', 5880: 'savior', 5881: 'saw', 5882: 'saxophone', 5883: 'say', 5884: 'saying', 5885: 'says', 5886: 'scale', 5887: 'scales', 5888: 'scalpel', 5889: 'scam', 5890: 'scammer', 5891: 'scandal', 5892: 'scantily', 5893: 'scapegoat', 5894: 'scar', 5895: 'scarce', 5896: 'scarcely', 5897: 'scare', 5898: 'scared', 5899: 'scares', 5900: 'scarf', 5901: 'scaring', 5902: 'scarlet', 5903: 'scars', 5904: 'scary', 5905: 'scene', 5906: 'schedule', 5907: 'scheme', 5908: 'schemer', 5909: 'schizophrenic', 5910: 'school', 5911: 'schools', 5912: 'science', 5913: 'scientist', 5914: 'scissors', 5915: 'scold', 5916: 'scolded', 5917: 'scoot', 5918: 'scooter', 5919: 'score', 5920: 'scored', 5921: 'scorned', 5922: 'scoundrel', 5923: 'scout', 5924: 'scowled', 5925: 'scowling', 5926: 'scraped', 5927: 'scratch', 5928: 'scratched', 5929: 'scrawny', 5930: 'scream', 5931: 'screamed', 5932: 'screaming', 5933: 'screams', 5934: 'screen', 5935: 'screenwriter', 5936: 'screw', 5937: 'screwball', 5938: 'screwed', 5939: 'screws', 5940: 'scribbling', 5941: 'scriptwriter', 5942: 'scrolling', 5943: 'scrubbed', 5944: 'sculptor', 5945: 'scum', 5946: 'scurvy', 5947: 'sea', 5948: 'seafood', 5949: 'seagull', 5950: 'seagulls', 5951: 'seal', 5952: 'sealed', 5953: 'seals', 5954: 'search', 5955: 'searched', 5956: 'searching', 5957: 'seasick', 5958: 'season', 5959: 'seat', 5960: 'seatbelt', 5961: 'seatbelts', 5962: 'seated', 5963: 'seats', 5964: 'sec', 5965: 'second', 5966: 'secondhand', 5967: 'seconds', 5968: 'secrecy', 5969: 'secret', 5970: 'secretary', 5971: 'secretive', 5972: 'secrets', 5973: 'section', 5974: 'secure', 5975: 'security', 5976: 'sedative', 5977: 'see', 5978: 'seeds', 5979: 'seeing', 5980: 'seek', 5981: 'seem', 5982: 'seemed', 5983: 'seems', 5984: 'seen', 5985: 'sees', 5986: 'seismologist', 5987: 'seize', 5988: 'seizure', 5989: 'seldom', 5990: 'selected', 5991: 'self', 5992: 'selfcentered', 5993: 'selfconscious', 5994: 'selfevident', 5995: 'selfish', 5996: 'selfmade', 5997: 'selftaught', 5998: 'sell', 5999: 'selling', 6000: 'sells', 6001: 'seminar', 6002: 'send', 6003: 'sending', 6004: 'sends', 6005: 'senile', 6006: 'seniority', 6007: 'sensation', 6008: 'sensational', 6009: 'sense', 6010: 'sensed', 6011: 'sensible', 6012: 'sensitive', 6013: 'sent', 6014: 'sentence', 6015: 'sentences', 6016: 'sentimental', 6017: 'sentry', 6018: 'separated', 6019: 'separately', 6020: 'serious', 6021: 'seriously', 6022: 'serum', 6023: 'servant', 6024: 'serve', 6025: 'served', 6026: 'server', 6027: 'servers', 6028: 'serves', 6029: 'service', 6030: 'set', 6031: 'setting', 6032: 'settle', 6033: 'settled', 6034: 'seven', 6035: 'seventeen', 6036: 'seventh', 6037: 'several', 6038: 'sew', 6039: 'sewing', 6040: 'sexist', 6041: 'sexy', 6042: 'shade', 6043: 'shadow', 6044: 'shadows', 6045: 'shaggy', 6046: 'shake', 6047: 'shaken', 6048: 'shaking', 6049: 'shall', 6050: 'shallow', 6051: 'shalt', 6052: 'shame', 6053: 'shameless', 6054: 'shampoo', 6055: 'shape', 6056: 'share', 6057: 'shared', 6058: 'shareholder', 6059: 'sharing', 6060: 'shark', 6061: 'sharks', 6062: 'sharp', 6063: 'sharpen', 6064: 'sharpened', 6065: 'sharply', 6066: 'sharpshooter', 6067: 'sharpwitted', 6068: 'shave', 6069: 'shaved', 6070: 'shaves', 6071: 'shaving', 6072: 'shawl', 6073: 'she', 6074: 'sheared', 6075: 'shed', 6076: 'sheep', 6077: 'sheer', 6078: 'sheets', 6079: 'shelf', 6080: 'shell', 6081: 'shelter', 6082: 'shelves', 6083: 'sheriff', 6084: 'shes', 6085: 'shifted', 6086: 'shikoku', 6087: 'shine', 6088: 'shined', 6089: 'shiner', 6090: 'shining', 6091: 'ship', 6092: 'shirt', 6093: 'shirtless', 6094: 'shirts', 6095: 'shiver', 6096: 'shivered', 6097: 'shivering', 6098: 'shock', 6099: 'shocked', 6100: 'shocking', 6101: 'shoddy', 6102: 'shoe', 6103: 'shoehorn', 6104: 'shoelaces', 6105: 'shoes', 6106: 'shook', 6107: 'shoot', 6108: 'shooting', 6109: 'shop', 6110: 'shopping', 6111: 'shops', 6112: 'shore', 6113: 'short', 6114: 'shortcut', 6115: 'shorter', 6116: 'shorthand', 6117: 'shorthanded', 6118: 'shortly', 6119: 'shorts', 6120: 'shot', 6121: 'shotgun', 6122: 'shots', 6123: 'should', 6124: 'shoulder', 6125: 'shoulders', 6126: 'shouldnt', 6127: 'shouldve', 6128: 'shout', 6129: 'shouted', 6130: 'shouting', 6131: 'shouts', 6132: 'shove', 6133: 'shovel', 6134: 'shoveling', 6135: 'show', 6136: 'showed', 6137: 'shower', 6138: 'showered', 6139: 'showering', 6140: 'showers', 6141: 'showing', 6142: 'showoff', 6143: 'shows', 6144: 'shrank', 6145: 'shrieked', 6146: 'shrimp', 6147: 'shrugged', 6148: 'shrunk', 6149: 'shuddered', 6150: 'shuffle', 6151: 'shuffled', 6152: 'shut', 6153: 'shutterbug', 6154: 'shutters', 6155: 'shy', 6156: 'shyly', 6157: 'siblings', 6158: 'sick', 6159: 'sickness', 6160: 'side', 6161: 'sided', 6162: 'sides', 6163: 'sidetracked', 6164: 'siding', 6165: 'sighed', 6166: 'sight', 6167: 'sign', 6168: 'signal', 6169: 'signature', 6170: 'signed', 6171: 'significant', 6172: 'silence', 6173: 'silenced', 6174: 'silent', 6175: 'silently', 6176: 'silk', 6177: 'silly', 6178: 'silver', 6179: 'similar', 6180: 'simple', 6181: 'simplicity', 6182: 'simply', 6183: 'sin', 6184: 'sincere', 6185: 'sincerely', 6186: 'sing', 6187: 'singapore', 6188: 'singer', 6189: 'singers', 6190: 'singing', 6191: 'single', 6192: 'sings', 6193: 'sinister', 6194: 'sink', 6195: 'sinking', 6196: 'sinned', 6197: 'sinner', 6198: 'sip', 6199: 'sipped', 6200: 'sir', 6201: 'sirens', 6202: 'sister', 6203: 'sisters', 6204: 'sit', 6205: 'site', 6206: 'sits', 6207: 'sitting', 6208: 'situation', 6209: 'situps', 6210: 'six', 6211: 'sixteen', 6212: 'sixty', 6213: 'size', 6214: 'skate', 6215: 'skateboard', 6216: 'skated', 6217: 'skating', 6218: 'skedaddle', 6219: 'skeptic', 6220: 'skeptical', 6221: 'sketched', 6222: 'ski', 6223: 'skied', 6224: 'skies', 6225: 'skiing', 6226: 'skills', 6227: 'skim', 6228: 'skimmed', 6229: 'skin', 6230: 'skincare', 6231: 'skinned', 6232: 'skinny', 6233: 'skip', 6234: 'skipped', 6235: 'skipping', 6236: 'skirt', 6237: 'skis', 6238: 'skull', 6239: 'skunk', 6240: 'sky', 6241: 'skyhigh', 6242: 'skys', 6243: 'slack', 6244: 'slacker', 6245: 'slain', 6246: 'slam', 6247: 'slammed', 6248: 'slander', 6249: 'slap', 6250: 'slapped', 6251: 'slave', 6252: 'sled', 6253: 'sledding', 6254: 'sleep', 6255: 'sleeper', 6256: 'sleeping', 6257: 'sleeps', 6258: 'sleepwalker', 6259: 'sleepy', 6260: 'sleeve', 6261: 'sleeves', 6262: 'slept', 6263: 'slice', 6264: 'sliced', 6265: 'sliding', 6266: 'slight', 6267: 'slightly', 6268: 'slim', 6269: 'slip', 6270: 'slipped', 6271: 'slippers', 6272: 'slippery', 6273: 'slit', 6274: 'slob', 6275: 'slogan', 6276: 'sloppy', 6277: 'sloshed', 6278: 'sloths', 6279: 'slow', 6280: 'slowed', 6281: 'slower', 6282: 'slowing', 6283: 'slowly', 6284: 'slowpoke', 6285: 'slugged', 6286: 'slum', 6287: 'sly', 6288: 'small', 6289: 'smaller', 6290: 'smart', 6291: 'smarter', 6292: 'smartly', 6293: 'smash', 6294: 'smashed', 6295: 'smashing', 6296: 'smell', 6297: 'smelled', 6298: 'smells', 6299: 'smile', 6300: 'smiled', 6301: 'smiles', 6302: 'smiling', 6303: 'smirked', 6304: 'smog', 6305: 'smoke', 6306: 'smoked', 6307: 'smoker', 6308: 'smokes', 6309: 'smoking', 6310: 'smooth', 6311: 'smoothie', 6312: 'smoothly', 6313: 'sms', 6314: 'smugly', 6315: 'snack', 6316: 'snag', 6317: 'snail', 6318: 'snails', 6319: 'snake', 6320: 'snakes', 6321: 'snap', 6322: 'snapped', 6323: 'snappy', 6324: 'sneaky', 6325: 'sneered', 6326: 'sneeze', 6327: 'sneezed', 6328: 'sneezes', 6329: 'sneezing', 6330: 'snickered', 6331: 'sniffle', 6332: 'sniffling', 6333: 'sniveling', 6334: 'snob', 6335: 'snobbish', 6336: 'snooze', 6337: 'snore', 6338: 'snored', 6339: 'snores', 6340: 'snoring', 6341: 'snow', 6342: 'snowboard', 6343: 'snowboarding', 6344: 'snowed', 6345: 'snowing', 6346: 'snowman', 6347: 'snowmobile', 6348: 'snows', 6349: 'so', 6350: 'soaked', 6351: 'soaking', 6352: 'soap', 6353: 'soared', 6354: 'sobbing', 6355: 'sober', 6356: 'sobered', 6357: 'soccer', 6358: 'sociable', 6359: 'social', 6360: 'socialist', 6361: 'sociologist', 6362: 'sociopath', 6363: 'sock', 6364: 'socks', 6365: 'sofa', 6366: 'soft', 6367: 'softly', 6368: 'soil', 6369: 'solar', 6370: 'sold', 6371: 'soldier', 6372: 'soldiers', 6373: 'solid', 6374: 'soloist', 6375: 'solution', 6376: 'solve', 6377: 'solved', 6378: 'solving', 6379: 'sombrero', 6380: 'some', 6381: 'somebody', 6382: 'somebodys', 6383: 'someday', 6384: 'somehow', 6385: 'someone', 6386: 'someones', 6387: 'someplace', 6388: 'somersault', 6389: 'something', 6390: 'somethings', 6391: 'sometime', 6392: 'sometimes', 6393: 'somewhat', 6394: 'somewhere', 6395: 'son', 6396: 'sonata', 6397: 'song', 6398: 'songs', 6399: 'songwriter', 6400: 'sonnet', 6401: 'sons', 6402: 'soon', 6403: 'sooty', 6404: 'sophomore', 6405: 'sophomores', 6406: 'soprano', 6407: 'sorcerer', 6408: 'sore', 6409: 'sorrow', 6410: 'sorrows', 6411: 'sorry', 6412: 'sort', 6413: 'sorted', 6414: 'sorting', 6415: 'soul', 6416: 'soulmates', 6417: 'sound', 6418: 'sounded', 6419: 'sounds', 6420: 'soup', 6421: 'soups', 6422: 'sour', 6423: 'source', 6424: 'south', 6425: 'southpaw', 6426: 'sow', 6427: 'soy', 6428: 'space', 6429: 'spaceship', 6430: 'spaghetti', 6431: 'spain', 6432: 'spam', 6433: 'spaniard', 6434: 'spanish', 6435: 'spare', 6436: 'spared', 6437: 'sparkled', 6438: 'speak', 6439: 'speaker', 6440: 'speakerphone', 6441: 'speaking', 6442: 'speaks', 6443: 'spear', 6444: 'special', 6445: 'specialist', 6446: 'specialty', 6447: 'specific', 6448: 'spectacular', 6449: 'speculating', 6450: 'sped', 6451: 'speech', 6452: 'speeches', 6453: 'speechless', 6454: 'speechwriter', 6455: 'speed', 6456: 'spell', 6457: 'spend', 6458: 'spender', 6459: 'spent', 6460: 'spice', 6461: 'spicy', 6462: 'spider', 6463: 'spiders', 6464: 'spies', 6465: 'spill', 6466: 'spilled', 6467: 'spin', 6468: 'spinach', 6469: 'spinning', 6470: 'spirit', 6471: 'spirits', 6472: 'spit', 6473: 'spitting', 6474: 'splash', 6475: 'splendid', 6476: 'split', 6477: 'spoil', 6478: 'spoiled', 6479: 'spoiling', 6480: 'spoils', 6481: 'spoilsport', 6482: 'spoke', 6483: 'spoken', 6484: 'sponge', 6485: 'spongy', 6486: 'spooky', 6487: 'spoon', 6488: 'spoons', 6489: 'sport', 6490: 'sports', 6491: 'spot', 6492: 'spotted', 6493: 'sprained', 6494: 'sprang', 6495: 'spread', 6496: 'spreading', 6497: 'spring', 6498: 'sprinkling', 6499: 'spun', 6500: 'spy', 6501: 'spying', 6502: 'squabbling', 6503: 'square', 6504: 'squash', 6505: 'squashed', 6506: 'squatted', 6507: 'squatting', 6508: 'squeak', 6509: 'squeaked', 6510: 'squeaky', 6511: 'squeeze', 6512: 'squeezed', 6513: 'squid', 6514: 'squinted', 6515: 'squirrel', 6516: 'squirrels', 6517: 'stab', 6518: 'stabbed', 6519: 'stable', 6520: 'stables', 6521: 'stage', 6522: 'staggered', 6523: 'stain', 6524: 'stairs', 6525: 'stake', 6526: 'stakes', 6527: 'stale', 6528: 'stalking', 6529: 'stalled', 6530: 'stalling', 6531: 'stammered', 6532: 'stamp', 6533: 'stamps', 6534: 'stand', 6535: 'standard', 6536: 'standing', 6537: 'standoff', 6538: 'stands', 6539: 'standup', 6540: 'stank', 6541: 'stapler', 6542: 'star', 6543: 'stare', 6544: 'stared', 6545: 'staring', 6546: 'stark', 6547: 'stars', 6548: 'start', 6549: 'started', 6550: 'starting', 6551: 'startled', 6552: 'starts', 6553: 'starve', 6554: 'starved', 6555: 'starving', 6556: 'state', 6557: 'statement', 6558: 'station', 6559: 'statistics', 6560: 'statue', 6561: 'status', 6562: 'stay', 6563: 'stayed', 6564: 'staying', 6565: 'stays', 6566: 'steady', 6567: 'steak', 6568: 'steaks', 6569: 'steal', 6570: 'stealing', 6571: 'steals', 6572: 'steam', 6573: 'steel', 6574: 'steep', 6575: 'stem', 6576: 'stenographer', 6577: 'step', 6578: 'stepbrother', 6579: 'stepdad', 6580: 'stepfather', 6581: 'stepped', 6582: 'steps', 6583: 'stepsister', 6584: 'stepson', 6585: 'stereotypes', 6586: 'stern', 6587: 'stewardess', 6588: 'stick', 6589: 'sticking', 6590: 'sticks', 6591: 'sticky', 6592: 'stiff', 6593: 'stifled', 6594: 'stiflingly', 6595: 'still', 6596: 'stilts', 6597: 'sting', 6598: 'stingy', 6599: 'stink', 6600: 'stinks', 6601: 'stir', 6602: 'stirred', 6603: 'stirring', 6604: 'stitches', 6605: 'stock', 6606: 'stole', 6607: 'stolen', 6608: 'stomach', 6609: 'stomachache', 6610: 'stone', 6611: 'stoned', 6612: 'stonemason', 6613: 'stones', 6614: 'stood', 6615: 'stop', 6616: 'stopped', 6617: 'stopping', 6618: 'stops', 6619: 'storage', 6620: 'store', 6621: 'stores', 6622: 'stories', 6623: 'storm', 6624: 'stormy', 6625: 'story', 6626: 'stove', 6627: 'straight', 6628: 'straighten', 6629: 'stranded', 6630: 'strange', 6631: 'strangely', 6632: 'stranger', 6633: 'strangers', 6634: 'strangle', 6635: 'strangled', 6636: 'strap', 6637: 'strategy', 6638: 'straw', 6639: 'strawberries', 6640: 'straws', 6641: 'stray', 6642: 'street', 6643: 'streets', 6644: 'strength', 6645: 'stressed', 6646: 'stretch', 6647: 'stretched', 6648: 'strict', 6649: 'strike', 6650: 'string', 6651: 'stroke', 6652: 'stroked', 6653: 'strong', 6654: 'stronger', 6655: 'strongest', 6656: 'strongly', 6657: 'strongminded', 6658: 'strongwilled', 6659: 'struck', 6660: 'struggle', 6661: 'struggled', 6662: 'struggling', 6663: 'stubbed', 6664: 'stubborn', 6665: 'stuck', 6666: 'student', 6667: 'students', 6668: 'studied', 6669: 'studies', 6670: 'study', 6671: 'studying', 6672: 'stuff', 6673: 'stuffed', 6674: 'stuffy', 6675: 'stumbled', 6676: 'stumped', 6677: 'stung', 6678: 'stunned', 6679: 'stunning', 6680: 'stuntman', 6681: 'stupid', 6682: 'stutter', 6683: 'stuttering', 6684: 'stutters', 6685: 'style', 6686: 'stylist', 6687: 'subject', 6688: 'subjective', 6689: 'submarine', 6690: 'subpoenaed', 6691: 'subsided', 6692: 'substitute', 6693: 'subtitles', 6694: 'subway', 6695: 'succeed', 6696: 'succeeded', 6697: 'success', 6698: 'successful', 6699: 'such', 6700: 'sudden', 6701: 'suddenly', 6702: 'sue', 6703: 'sued', 6704: 'suey', 6705: 'suffer', 6706: 'suffered', 6707: 'suffering', 6708: 'suffers', 6709: 'suffice', 6710: 'sufficient', 6711: 'suffocating', 6712: 'sugar', 6713: 'sugary', 6714: 'suggest', 6715: 'suggested', 6716: 'suggesting', 6717: 'suggestion', 6718: 'suggestions', 6719: 'suicidal', 6720: 'suicide', 6721: 'suit', 6722: 'suitcase', 6723: 'suits', 6724: 'sulking', 6725: 'summer', 6726: 'summers', 6727: 'summoned', 6728: 'summons', 6729: 'sun', 6730: 'sunburn', 6731: 'sunburned', 6732: 'sunday', 6733: 'sundays', 6734: 'sunflower', 6735: 'sunflowers', 6736: 'sunglasses', 6737: 'sunny', 6738: 'sunrise', 6739: 'sunset', 6740: 'sunsets', 6741: 'suntan', 6742: 'super', 6743: 'superior', 6744: 'superman', 6745: 'supermodel', 6746: 'superstar', 6747: 'superstitious', 6748: 'supervisor', 6749: 'supper', 6750: 'suppers', 6751: 'suppliers', 6752: 'supplies', 6753: 'support', 6754: 'supported', 6755: 'supporting', 6756: 'supports', 6757: 'suppose', 6758: 'supposed', 6759: 'suppressed', 6760: 'sure', 6761: 'surely', 6762: 'surfer', 6763: 'surfing', 6764: 'surgeon', 6765: 'surgery', 6766: 'surprise', 6767: 'surprised', 6768: 'surprises', 6769: 'surprising', 6770: 'surrender', 6771: 'surrendered', 6772: 'surrounded', 6773: 'survive', 6774: 'survived', 6775: 'survives', 6776: 'surviving', 6777: 'survivors', 6778: 'sushi', 6779: 'suspect', 6780: 'suspected', 6781: 'suspects', 6782: 'suspicion', 6783: 'suspicions', 6784: 'suspicious', 6785: 'swallowed', 6786: 'swam', 6787: 'swamped', 6788: 'swans', 6789: 'swatted', 6790: 'swear', 6791: 'swearing', 6792: 'swears', 6793: 'sweat', 6794: 'sweated', 6795: 'sweater', 6796: 'sweating', 6797: 'sweaty', 6798: 'swedish', 6799: 'sweep', 6800: 'sweet', 6801: 'sweets', 6802: 'sweettooth', 6803: 'sweltering', 6804: 'swept', 6805: 'swig', 6806: 'swim', 6807: 'swimmer', 6808: 'swimming', 6809: 'swims', 6810: 'swimsuit', 6811: 'swindled', 6812: 'swing', 6813: 'swiped', 6814: 'swiss', 6815: 'switch', 6816: 'switched', 6817: 'switzerland', 6818: 'swollen', 6819: 'sword', 6820: 'swords', 6821: 'swore', 6822: 'swum', 6823: 'sympathize', 6824: 'sympathy', 6825: 'symptoms', 6826: 'synagogue', 6827: 'syria', 6828: 'syrup', 6829: 'system', 6830: 'systems', 6831: 'tab', 6832: 'table', 6833: 'tables', 6834: 'taboo', 6835: 'tackle', 6836: 'tact', 6837: 'tactful', 6838: 'tactfully', 6839: 'tactic', 6840: 'tactless', 6841: 'tadpoles', 6842: 'tag', 6843: 'tagged', 6844: 'tail', 6845: 'tailor', 6846: 'tails', 6847: 'take', 6848: 'taken', 6849: 'takeout', 6850: 'taker', 6851: 'takes', 6852: 'taking', 6853: 'talent', 6854: 'talented', 6855: 'talents', 6856: 'tales', 6857: 'talk', 6858: 'talkative', 6859: 'talked', 6860: 'talking', 6861: 'talks', 6862: 'tall', 6863: 'taller', 6864: 'tallest', 6865: 'tambourine', 6866: 'tame', 6867: 'tamed', 6868: 'tan', 6869: 'tangled', 6870: 'tango', 6871: 'tank', 6872: 'tantrum', 6873: 'tap', 6874: 'tape', 6875: 'tapped', 6876: 'tardy', 6877: 'target', 6878: 'tarts', 6879: 'task', 6880: 'tasmania', 6881: 'taste', 6882: 'tasted', 6883: 'tasteless', 6884: 'tastes', 6885: 'tasty', 6886: 'tattoo', 6887: 'tattoos', 6888: 'taught', 6889: 'taunting', 6890: 'taurus', 6891: 'tautology', 6892: 'tax', 6893: 'taxes', 6894: 'taxi', 6895: 'taxis', 6896: 'taxpayers', 6897: 'tb', 6898: 'tchaikovsky', 6899: 'tea', 6900: 'teach', 6901: 'teacher', 6902: 'teachers', 6903: 'teaches', 6904: 'teaching', 6905: 'team', 6906: 'tear', 6907: 'tears', 6908: 'tease', 6909: 'teased', 6910: 'teases', 6911: 'teasing', 6912: 'teddy', 6913: 'tedious', 6914: 'teen', 6915: 'teenager', 6916: 'teenagers', 6917: 'teeth', 6918: 'teething', 6919: 'teetotaler', 6920: 'teetotaller', 6921: 'telepathic', 6922: 'telephone', 6923: 'telescope', 6924: 'television', 6925: 'tell', 6926: 'telling', 6927: 'tells', 6928: 'temp', 6929: 'temper', 6930: 'temperamental', 6931: 'temperature', 6932: 'tempers', 6933: 'temple', 6934: 'temporary', 6935: 'tempt', 6936: 'tempted', 6937: 'tempting', 6938: 'ten', 6939: 'tenacious', 6940: 'tenacity', 6941: 'tenant', 6942: 'tend', 6943: 'tender', 6944: 'tends', 6945: 'tennis', 6946: 'tenor', 6947: 'tense', 6948: 'tent', 6949: 'tents', 6950: 'tenure', 6951: 'tequila', 6952: 'terminally', 6953: 'termites', 6954: 'terms', 6955: 'terrace', 6956: 'terrible', 6957: 'terribly', 6958: 'terrific', 6959: 'terrified', 6960: 'terrify', 6961: 'terrifying', 6962: 'terrorism', 6963: 'terrorist', 6964: 'terrorists', 6965: 'test', 6966: 'tested', 6967: 'testify', 6968: 'testing', 6969: 'tests', 6970: 'tetris', 6971: 'text', 6972: 'textbook', 6973: 'texted', 6974: 'texting', 6975: 'th', 6976: 'thai', 6977: 'than', 6978: 'thank', 6979: 'thanked', 6980: 'thankless', 6981: 'thanks', 6982: 'thanksgiving', 6983: 'that', 6984: 'thatd', 6985: 'thatll', 6986: 'thats', 6987: 'the', 6988: 'theater', 6989: 'their', 6990: 'theirs', 6991: 'them', 6992: 'then', 6993: 'theology', 6994: 'theory', 6995: 'therapist', 6996: 'therapy', 6997: 'there', 6998: 'therell', 6999: 'theres', 7000: 'these', 7001: 'they', 7002: 'theyd', 7003: 'theyll', 7004: 'theyre', 7005: 'theyve', 7006: 'thick', 7007: 'thickheaded', 7008: 'thief', 7009: 'thieves', 7010: 'thimble', 7011: 'thin', 7012: 'thing', 7013: 'things', 7014: 'think', 7015: 'thinker', 7016: 'thinking', 7017: 'thinks', 7018: 'thinner', 7019: 'third', 7020: 'thirst', 7021: 'thirsty', 7022: 'thirteen', 7023: 'thirty', 7024: 'thirtyish', 7025: 'thirtyone', 7026: 'thirtythree', 7027: 'this', 7028: 'thisll', 7029: 'thorns', 7030: 'thorough', 7031: 'those', 7032: 'thou', 7033: 'though', 7034: 'thought', 7035: 'thoughtful', 7036: 'thoughtless', 7037: 'thoughts', 7038: 'thousand', 7039: 'threat', 7040: 'threaten', 7041: 'threatened', 7042: 'threatening', 7043: 'three', 7044: 'threw', 7045: 'thrilled', 7046: 'thrilling', 7047: 'throat', 7048: 'through', 7049: 'throw', 7050: 'throwing', 7051: 'thrust', 7052: 'thud', 7053: 'thursday', 7054: 'ticked', 7055: 'ticket', 7056: 'tickets', 7057: 'ticking', 7058: 'tickle', 7059: 'tickled', 7060: 'tickles', 7061: 'ticklish', 7062: 'tidied', 7063: 'tidy', 7064: 'tie', 7065: 'tied', 7066: 'ties', 7067: 'tiger', 7068: 'tigers', 7069: 'tight', 7070: 'tighten', 7071: 'tightened', 7072: 'tighter', 7073: 'tightly', 7074: 'tights', 7075: 'till', 7076: 'time', 7077: 'timeconsuming', 7078: 'timer', 7079: 'times', 7080: 'timetable', 7081: 'timid', 7082: 'timing', 7083: 'tin', 7084: 'tiny', 7085: 'tip', 7086: 'tipped', 7087: 'tips', 7088: 'tipsy', 7089: 'tiptoes', 7090: 'tire', 7091: 'tired', 7092: 'tireless', 7093: 'tires', 7094: 'tissue', 7095: 'to', 7096: 'toast', 7097: 'toaster', 7098: 'tobacco', 7099: 'today', 7100: 'todays', 7101: 'toe', 7102: 'toes', 7103: 'tofu', 7104: 'together', 7105: 'toilet', 7106: 'toilets', 7107: 'tokyo', 7108: 'told', 7109: 'tolerant', 7110: 'tolerate', 7111: 'tom', 7112: 'tomato', 7113: 'tomatoes', 7114: 'tomboy', 7115: 'tomcat', 7116: 'tomll', 7117: 'tomorrow', 7118: 'tomorrows', 7119: 'toms', 7120: 'tone', 7121: 'tonedeaf', 7122: 'tongue', 7123: 'tonight', 7124: 'tons', 7125: 'tonsillitis', 7126: 'too', 7127: 'took', 7128: 'tool', 7129: 'tools', 7130: 'tooth', 7131: 'toothache', 7132: 'toothbrush', 7133: 'toothpick', 7134: 'top', 7135: 'topic', 7136: 'torch', 7137: 'tore', 7138: 'torn', 7139: 'tortellini', 7140: 'torture', 7141: 'tortured', 7142: 'toss', 7143: 'tossed', 7144: 'total', 7145: 'totaled', 7146: 'totally', 7147: 'touch', 7148: 'touched', 7149: 'touching', 7150: 'touchy', 7151: 'tough', 7152: 'tourist', 7153: 'tourists', 7154: 'tow', 7155: 'toward', 7156: 'towards', 7157: 'towel', 7158: 'towels', 7159: 'tower', 7160: 'town', 7161: 'towns', 7162: 'toy', 7163: 'toyota', 7164: 'toys', 7165: 'track', 7166: 'tracking', 7167: 'tractor', 7168: 'tradition', 7169: 'traffic', 7170: 'tragedy', 7171: 'tragic', 7172: 'trailer', 7173: 'train', 7174: 'trained', 7175: 'trainee', 7176: 'trainees', 7177: 'training', 7178: 'trains', 7179: 'traitor', 7180: 'traitors', 7181: 'tram', 7182: 'trance', 7183: 'transfer', 7184: 'translate', 7185: 'translating', 7186: 'translation', 7187: 'translator', 7188: 'translators', 7189: 'trap', 7190: 'trapped', 7191: 'trash', 7192: 'travel', 7193: 'traveled', 7194: 'traveling', 7195: 'travels', 7196: 'travesty', 7197: 'treason', 7198: 'treasure', 7199: 'treat', 7200: 'treated', 7201: 'treatment', 7202: 'treats', 7203: 'treaty', 7204: 'tree', 7205: 'treehouse', 7206: 'trees', 7207: 'trembled', 7208: 'trembling', 7209: 'trendy', 7210: 'triathlon', 7211: 'trick', 7212: 'tricked', 7213: 'tricks', 7214: 'tricky', 7215: 'tricycle', 7216: 'tried', 7217: 'tries', 7218: 'trigger', 7219: 'trimmed', 7220: 'trip', 7221: 'triple', 7222: 'tripped', 7223: 'trips', 7224: 'trivial', 7225: 'trophy', 7226: 'trouble', 7227: 'troubled', 7228: 'trousers', 7229: 'trout', 7230: 'truck', 7231: 'trucker', 7232: 'true', 7233: 'truly', 7234: 'trumpet', 7235: 'trunk', 7236: 'trust', 7237: 'trusted', 7238: 'trusting', 7239: 'trusts', 7240: 'trustworthy', 7241: 'truth', 7242: 'truthful', 7243: 'try', 7244: 'trying', 7245: 'tshirt', 7246: 'tubes', 7247: 'tubs', 7248: 'tuck', 7249: 'tuesday', 7250: 'tugged', 7251: 'tulips', 7252: 'tumor', 7253: 'tune', 7254: 'tuned', 7255: 'tuner', 7256: 'turkey', 7257: 'turn', 7258: 'turned', 7259: 'turning', 7260: 'turnips', 7261: 'turns', 7262: 'turtle', 7263: 'turtles', 7264: 'tutor', 7265: 'tux', 7266: 'tuxedo', 7267: 'tv', 7268: 'tvs', 7269: 'twelve', 7270: 'twenty', 7271: 'twice', 7272: 'twig', 7273: 'twin', 7274: 'twinkle', 7275: 'twinkled', 7276: 'twins', 7277: 'twisted', 7278: 'twitches', 7279: 'twitter', 7280: 'two', 7281: 'twofaced', 7282: 'tycoon', 7283: 'type', 7284: 'types', 7285: 'typhoons', 7286: 'typhus', 7287: 'typical', 7288: 'typing', 7289: 'typist', 7290: 'typo', 7291: 'tyson', 7292: 'ufo', 7293: 'ufos', 7294: 'ugly', 7295: 'ulcer', 7296: 'umbrella', 7297: 'umbrellas', 7298: 'unable', 7299: 'unacceptable', 7300: 'unambitious', 7301: 'unanimous', 7302: 'unapproachable', 7303: 'unarmed', 7304: 'unattractive', 7305: 'unauthorized', 7306: 'unavailable', 7307: 'unavoidable', 7308: 'unbearable', 7309: 'unbearably', 7310: 'unbeatable', 7311: 'unbelievable', 7312: 'unbiased', 7313: 'unbuckled', 7314: 'uncalled', 7315: 'uncertain', 7316: 'unchained', 7317: 'uncle', 7318: 'unclear', 7319: 'uncles', 7320: 'uncomfortable', 7321: 'uncommon', 7322: 'unconscious', 7323: 'uncooperative', 7324: 'uncorked', 7325: 'undamaged', 7326: 'undecided', 7327: 'undefeated', 7328: 'undeniable', 7329: 'undependable', 7330: 'under', 7331: 'underage', 7332: 'underestimate', 7333: 'underestimated', 7334: 'undergrad', 7335: 'understand', 7336: 'understandable', 7337: 'understands', 7338: 'understood', 7339: 'underwear', 7340: 'underwent', 7341: 'undone', 7342: 'undress', 7343: 'undressed', 7344: 'undressing', 7345: 'uneasy', 7346: 'unemployed', 7347: 'unemployment', 7348: 'unethical', 7349: 'uneven', 7350: 'unexpected', 7351: 'unexpectedly', 7352: 'unfair', 7353: 'unfaithful', 7354: 'unfazed', 7355: 'unfit', 7356: 'unfolded', 7357: 'unforgettable', 7358: 'unforgivable', 7359: 'unfortunate', 7360: 'unfriendly', 7361: 'ungrateful', 7362: 'unhappy', 7363: 'unharmed', 7364: 'unhealthy', 7365: 'unheard', 7366: 'unhurt', 7367: 'uniform', 7368: 'unimaginative', 7369: 'unimportant', 7370: 'uninsured', 7371: 'uninterested', 7372: 'uninteresting', 7373: 'unique', 7374: 'universe', 7375: 'unjust', 7376: 'unkind', 7377: 'unknown', 7378: 'unlaced', 7379: 'unleashed', 7380: 'unlike', 7381: 'unlikely', 7382: 'unloaded', 7383: 'unlock', 7384: 'unlocked', 7385: 'unlucky', 7386: 'unmade', 7387: 'unmarried', 7388: 'unmerciful', 7389: 'unnatural', 7390: 'unnecessary', 7391: 'unnerved', 7392: 'unpacking', 7393: 'unpardonable', 7394: 'unpleasant', 7395: 'unplugged', 7396: 'unpopular', 7397: 'unpredictable', 7398: 'unprejudiced', 7399: 'unprepared', 7400: 'unprofessional', 7401: 'unreal', 7402: 'unreasonable', 7403: 'unreliable', 7404: 'unruly', 7405: 'unsafe', 7406: 'unscrewed', 7407: 'unscrupulous', 7408: 'unshaven', 7409: 'unsociable', 7410: 'unstable', 7411: 'unstoppable', 7412: 'unsung', 7413: 'unsure', 7414: 'untalented', 7415: 'unthinkable', 7416: 'untidy', 7417: 'untie', 7418: 'untied', 7419: 'until', 7420: 'untrustworthy', 7421: 'unusual', 7422: 'unusually', 7423: 'unwanted', 7424: 'unwell', 7425: 'unwind', 7426: 'unwise', 7427: 'unwrap', 7428: 'unzipped', 7429: 'up', 7430: 'upbeat', 7431: 'update', 7432: 'updated', 7433: 'upfront', 7434: 'upon', 7435: 'upset', 7436: 'upsets', 7437: 'upsetting', 7438: 'upside', 7439: 'upstairs', 7440: 'uranus', 7441: 'urgency', 7442: 'urgent', 7443: 'urgently', 7444: 'urn', 7445: 'us', 7446: 'usa', 7447: 'usable', 7448: 'usb', 7449: 'use', 7450: 'used', 7451: 'useful', 7452: 'useless', 7453: 'username', 7454: 'uses', 7455: 'using', 7456: 'usual', 7457: 'usually', 7458: 'utter', 7459: 'uturn', 7460: 'vacancy', 7461: 'vacant', 7462: 'vacation', 7463: 'vaccine', 7464: 'vacuum', 7465: 'vacuumed', 7466: 'vague', 7467: 'vain', 7468: 'valuable', 7469: 'value', 7470: 'vampire', 7471: 'vampires', 7472: 'van', 7473: 'vanished', 7474: 'vary', 7475: 'vase', 7476: 'vcr', 7477: 'veal', 7478: 'vegan', 7479: 'vegans', 7480: 'vegetable', 7481: 'vegetables', 7482: 'vegetarian', 7483: 'vegetarians', 7484: 'vehicle', 7485: 'vengeance', 7486: 'venison', 7487: 'vent', 7488: 'venus', 7489: 'verdict', 7490: 'verifiable', 7491: 'verify', 7492: 'version', 7493: 'very', 7494: 'vet', 7495: 'veteran', 7496: 'veterinarian', 7497: 'vibrated', 7498: 'vibrating', 7499: 'vice', 7500: 'vicious', 7501: 'victim', 7502: 'victims', 7503: 'victorious', 7504: 'victory', 7505: 'video', 7506: 'videos', 7507: 'vietnam', 7508: 'view', 7509: 'views', 7510: 'vigilant', 7511: 'villa', 7512: 'village', 7513: 'vindicated', 7514: 'violated', 7515: 'violence', 7516: 'violent', 7517: 'violently', 7518: 'violet', 7519: 'violin', 7520: 'violinist', 7521: 'vip', 7522: 'virtue', 7523: 'virtuoso', 7524: 'virus', 7525: 'visa', 7526: 'visibly', 7527: 'vision', 7528: 'visionary', 7529: 'visit', 7530: 'visited', 7531: 'visiting', 7532: 'visitor', 7533: 'visitors', 7534: 'visits', 7535: 'vitamins', 7536: 'vivaldi', 7537: 'vividly', 7538: 'vodka', 7539: 'voice', 7540: 'voices', 7541: 'volleyball', 7542: 'volume', 7543: 'voluntarily', 7544: 'volunteer', 7545: 'volunteered', 7546: 'volunteering', 7547: 'volunteers', 7548: 'vomited', 7549: 'vomiting', 7550: 'vote', 7551: 'voted', 7552: 'voting', 7553: 'vouch', 7554: 'voucher', 7555: 'vowed', 7556: 'vowel', 7557: 'vulnerable', 7558: 'waffle', 7559: 'waffles', 7560: 'waist', 7561: 'wait', 7562: 'waited', 7563: 'waiter', 7564: 'waiting', 7565: 'waitress', 7566: 'waits', 7567: 'waived', 7568: 'waiver', 7569: 'wake', 7570: 'wakes', 7571: 'waking', 7572: 'wales', 7573: 'walk', 7574: 'walked', 7575: 'walker', 7576: 'walking', 7577: 'walks', 7578: 'wall', 7579: 'wallet', 7580: 'wallets', 7581: 'walls', 7582: 'wand', 7583: 'wandered', 7584: 'wanna', 7585: 'want', 7586: 'wanted', 7587: 'wants', 7588: 'war', 7589: 'warm', 7590: 'warmed', 7591: 'warmer', 7592: 'warmly', 7593: 'warms', 7594: 'warmup', 7595: 'warn', 7596: 'warned', 7597: 'warning', 7598: 'warnings', 7599: 'warrant', 7600: 'warrior', 7601: 'wars', 7602: 'was', 7603: 'wash', 7604: 'washed', 7605: 'washes', 7606: 'washing', 7607: 'washroom', 7608: 'wasnt', 7609: 'waste', 7610: 'wasted', 7611: 'wasteful', 7612: 'wastes', 7613: 'wasting', 7614: 'watch', 7615: 'watchdog', 7616: 'watched', 7617: 'watches', 7618: 'watchful', 7619: 'watching', 7620: 'water', 7621: 'waterbed', 7622: 'watered', 7623: 'watering', 7624: 'watermelon', 7625: 'waters', 7626: 'wave', 7627: 'waved', 7628: 'waves', 7629: 'waving', 7630: 'wavy', 7631: 'wax', 7632: 'waxing', 7633: 'way', 7634: 'ways', 7635: 'we', 7636: 'weak', 7637: 'weakening', 7638: 'weakling', 7639: 'weaknesses', 7640: 'wealth', 7641: 'wealthy', 7642: 'weapon', 7643: 'weapons', 7644: 'wear', 7645: 'wearing', 7646: 'wears', 7647: 'weather', 7648: 'weathers', 7649: 'web', 7650: 'webcam', 7651: 'webpage', 7652: 'webs', 7653: 'website', 7654: 'wed', 7655: 'wedding', 7656: 'weddings', 7657: 'wednesday', 7658: 'weeded', 7659: 'week', 7660: 'weekend', 7661: 'weekends', 7662: 'weeks', 7663: 'weigh', 7664: 'weighed', 7665: 'weighs', 7666: 'weight', 7667: 'weights', 7668: 'weird', 7669: 'weirdo', 7670: 'welcome', 7671: 'welfare', 7672: 'well', 7673: 'wellbehaved', 7674: 'welldressed', 7675: 'went', 7676: 'wept', 7677: 'were', 7678: 'werent', 7679: 'west', 7680: 'western', 7681: 'westerns', 7682: 'westward', 7683: 'wet', 7684: 'wets', 7685: 'weve', 7686: 'whale', 7687: 'whales', 7688: 'what', 7689: 'whatd', 7690: 'whatever', 7691: 'whatll', 7692: 'whatre', 7693: 'whats', 7694: 'whatve', 7695: 'wheel', 7696: 'wheelchair', 7697: 'wheelie', 7698: 'wheels', 7699: 'wheezing', 7700: 'when', 7701: 'whenever', 7702: 'whens', 7703: 'where', 7704: 'wherere', 7705: 'wheres', 7706: 'whereve', 7707: 'wherever', 7708: 'which', 7709: 'while', 7710: 'whimpering', 7711: 'whining', 7712: 'whipped', 7713: 'whirl', 7714: 'whiskey', 7715: 'whisky', 7716: 'whispered', 7717: 'whispering', 7718: 'whistle', 7719: 'whistled', 7720: 'whistling', 7721: 'white', 7722: 'who', 7723: 'whod', 7724: 'whole', 7725: 'wholl', 7726: 'whos', 7727: 'whose', 7728: 'why', 7729: 'whys', 7730: 'wicked', 7731: 'wide', 7732: 'widened', 7733: 'widow', 7734: 'widower', 7735: 'wife', 7736: 'wifes', 7737: 'wifi', 7738: 'wig', 7739: 'wild', 7740: 'will', 7741: 'willingly', 7742: 'willpower', 7743: 'wilted', 7744: 'wimp', 7745: 'win', 7746: 'winced', 7747: 'wind', 7748: 'winded', 7749: 'window', 7750: 'windows', 7751: 'windsurfing', 7752: 'windy', 7753: 'wine', 7754: 'winery', 7755: 'wines', 7756: 'wings', 7757: 'wink', 7758: 'winked', 7759: 'winner', 7760: 'winners', 7761: 'winning', 7762: 'wins', 7763: 'winter', 7764: 'wipe', 7765: 'wiped', 7766: 'wipers', 7767: 'wiping', 7768: 'wire', 7769: 'wisdom', 7770: 'wise', 7771: 'wisecrack', 7772: 'wisely', 7773: 'wiser', 7774: 'wish', 7775: 'wishes', 7776: 'wit', 7777: 'witch', 7778: 'witchcraft', 7779: 'witches', 7780: 'with', 7781: 'withdraw', 7782: 'withered', 7783: 'without', 7784: 'witness', 7785: 'witnesses', 7786: 'wits', 7787: 'witty', 7788: 'wives', 7789: 'wizard', 7790: 'wobbling', 7791: 'wobbly', 7792: 'woke', 7793: 'woken', 7794: 'wolf', 7795: 'wolves', 7796: 'woman', 7797: 'womanizer', 7798: 'womans', 7799: 'women', 7800: 'won', 7801: 'wonder', 7802: 'wonderful', 7803: 'wont', 7804: 'wood', 7805: 'wooden', 7806: 'woodpecker', 7807: 'wool', 7808: 'woozy', 7809: 'word', 7810: 'words', 7811: 'wore', 7812: 'work', 7813: 'workaholic', 7814: 'workaholics', 7815: 'worked', 7816: 'worker', 7817: 'workers', 7818: 'working', 7819: 'workrelated', 7820: 'works', 7821: 'world', 7822: 'worlds', 7823: 'wormy', 7824: 'worn', 7825: 'worried', 7826: 'worries', 7827: 'worry', 7828: 'worrying', 7829: 'worse', 7830: 'worships', 7831: 'worst', 7832: 'worth', 7833: 'worthless', 7834: 'worthy', 7835: 'would', 7836: 'wouldnt', 7837: 'wouldve', 7838: 'wound', 7839: 'wounded', 7840: 'wounds', 7841: 'wow', 7842: 'wrap', 7843: 'wreck', 7844: 'wrecked', 7845: 'wrench', 7846: 'wrestle', 7847: 'wrestlers', 7848: 'wriggle', 7849: 'wrinkled', 7850: 'wrinkles', 7851: 'wrist', 7852: 'wrists', 7853: 'write', 7854: 'writer', 7855: 'writers', 7856: 'writes', 7857: 'writing', 7858: 'written', 7859: 'wrong', 7860: 'wrote', 7861: 'yacht', 7862: 'yard', 7863: 'yawn', 7864: 'yawned', 7865: 'yawning', 7866: 'yeah', 7867: 'year', 7868: 'yearold', 7869: 'years', 7870: 'yell', 7871: 'yelled', 7872: 'yelling', 7873: 'yellow', 7874: 'yells', 7875: 'yen', 7876: 'yes', 7877: 'yesman', 7878: 'yesterday', 7879: 'yet', 7880: 'yielded', 7881: 'yodeler', 7882: 'yoga', 7883: 'yogurt', 7884: 'yolks', 7885: 'york', 7886: 'you', 7887: 'youd', 7888: 'youll', 7889: 'young', 7890: 'younger', 7891: 'youngest', 7892: 'your', 7893: 'youre', 7894: 'yours', 7895: 'yourself', 7896: 'yourselves', 7897: 'youthful', 7898: 'youve', 7899: 'you’re', 7900: 'zero', 7901: 'zinc', 7902: 'zip', 7903: 'zipped', 7904: 'zipper', 7905: 'zippers', 7906: 'zombie', 7907: 'zoned', 7908: 'zoo', 7909: 'zoomed', 7910: 'zucchinis', 7911: '€'}\n"
          ]
        }
      ],
      "source": [
        "source_word2idx= dict([(word, i) for i, word in enumerate(eng_words)])\n",
        "target_word2idx=dict([(word, i) for i, word in enumerate(rus_words)])\n",
        "source_idx2word= dict([(i, word) for word, i in  source_word2idx.items()])\n",
        "target_idx2word =dict([(i, word) for word, i in target_word2idx.items()])\n",
        "\n",
        "print(source_idx2word)"
      ]
    },
    {
      "cell_type": "code",
      "execution_count": 12,
      "metadata": {
        "colab": {
          "base_uri": "https://localhost:8080/"
        },
        "id": "BHdhg0zPpGQ5",
        "outputId": "8f5ce383-5a57-43e4-96b4-d049b801053f"
      },
      "outputs": [
        {
          "output_type": "stream",
          "name": "stdout",
          "text": [
            "(99898,) (17630,)\n"
          ]
        }
      ],
      "source": [
        "df.eng = df.eng.apply(lambda x: ' '.join([str(elem) for elem in x]))\n",
        "df.rus = df.rus.apply(lambda x: ' '.join([str(elem) for elem in x]))\n",
        "\n",
        "X, y = df.eng, df.rus\n",
        "X_train, X_test, y_train, y_test = train_test_split(X, y, shuffle = True, test_size = 0.15)\n",
        "print( X_train.shape, X_test.shape)"
      ]
    },
    {
      "cell_type": "code",
      "execution_count": 15,
      "metadata": {
        "id": "rI5lpCiP1qyG"
      },
      "outputs": [],
      "source": [
        "def generate_batch(X = X_train, y = y_train, batch_size = 128):\n",
        "    ''' \n",
        "    Generate a batch of data \n",
        "    One Hot Encoding implementation\n",
        "    '''\n",
        "    while True:\n",
        "        for j in range(0, len(X), batch_size):\n",
        "            encoder_input_data = np.zeros((batch_size, max_eng_len),dtype='float32')\n",
        "            decoder_input_data = np.zeros((batch_size, max_rus_len),dtype='float32')\n",
        "            decoder_target_data = np.zeros((batch_size, max_rus_len, num_decoder_tokens),dtype='float32')\n",
        "            for i, (input_text, target_text) in enumerate(zip(X[j:j+batch_size], y[j:j+batch_size])):\n",
        "                for t, word in enumerate(input_text.split()):\n",
        "                  encoder_input_data[i, t] = source_word2idx.get(word, 0) #improved, was source_word2idx[word]\n",
        "                for t, word in enumerate(target_text.split()):\n",
        "                  if t<len(target_text.split())-1:\n",
        "                      decoder_input_data[i, t] = target_word2idx.get(word, 0) #improved, was source_word2idx[word]\n",
        "                  if t>0:\n",
        "                      decoder_target_data[i, t - 1, target_word2idx[word]] = 1.\n",
        "                    \n",
        "            yield([encoder_input_data, decoder_input_data], decoder_target_data)"
      ]
    },
    {
      "cell_type": "code",
      "execution_count": 16,
      "metadata": {
        "id": "29P47RPa2mme"
      },
      "outputs": [],
      "source": [
        "train_samples = len(X_train)\n",
        "val_samples = len(X_test)\n",
        "batch_size = 80\n",
        "epochs = 15\n",
        "latent_dim=256"
      ]
    },
    {
      "cell_type": "code",
      "execution_count": 26,
      "metadata": {
        "colab": {
          "base_uri": "https://localhost:8080/"
        },
        "id": "vQU2mufQpRoi",
        "outputId": "c9c9e747-fe35-4272-ec23-d0079eeeba1d"
      },
      "outputs": [
        {
          "output_type": "stream",
          "name": "stdout",
          "text": [
            "Model: \"model_4\"\n",
            "__________________________________________________________________________________________________\n",
            " Layer (type)                   Output Shape         Param #     Connected to                     \n",
            "==================================================================================================\n",
            " input_7 (InputLayer)           [(None, None)]       0           []                               \n",
            "                                                                                                  \n",
            " embedding_4 (Embedding)        (None, None, 256)    2025472     ['input_7[0][0]']                \n",
            "                                                                                                  \n",
            " input_8 (InputLayer)           [(None, None)]       0           []                               \n",
            "                                                                                                  \n",
            " lstm_5 (LSTM)                  (None, None, 256)    525312      ['embedding_4[0][0]']            \n",
            "                                                                                                  \n",
            " embedding_5 (Embedding)        (None, None, 256)    5848320     ['input_8[0][0]']                \n",
            "                                                                                                  \n",
            " lstm_6 (LSTM)                  [(None, 256),        525312      ['lstm_5[0][0]']                 \n",
            "                                 (None, 256),                                                     \n",
            "                                 (None, 256)]                                                     \n",
            "                                                                                                  \n",
            " lstm_7 (LSTM)                  [(None, None, 256),  525312      ['embedding_5[0][0]',            \n",
            "                                 (None, 256),                     'lstm_6[0][1]',                 \n",
            "                                 (None, 256)]                     'lstm_6[0][2]']                 \n",
            "                                                                                                  \n",
            " dense_2 (Dense)                (None, None, 22845)  5871165     ['lstm_7[0][0]']                 \n",
            "                                                                                                  \n",
            "==================================================================================================\n",
            "Total params: 15,320,893\n",
            "Trainable params: 15,320,893\n",
            "Non-trainable params: 0\n",
            "__________________________________________________________________________________________________\n"
          ]
        }
      ],
      "source": [
        "encoder_inputs = Input(shape=(None,))\n",
        "enc_emb =  Embedding(num_encoder_tokens, latent_dim, mask_zero = True)(encoder_inputs)\n",
        "encoder_lstm1 = LSTM(latent_dim, return_state=False, return_sequences = True)\n",
        "encoder_lstm2 = LSTM(latent_dim, return_state=True)\n",
        "encoder_outputs, state_h, state_c = encoder_lstm2(encoder_lstm1(enc_emb))\n",
        "encoder_states = [state_h, state_c]\n",
        "\n",
        "decoder_inputs = Input(shape=(None,))\n",
        "dec_emb_layer = Embedding(num_decoder_tokens, latent_dim, mask_zero = True)\n",
        "dec_emb = dec_emb_layer(decoder_inputs)\n",
        "\n",
        "decoder_lstm = LSTM(latent_dim, return_sequences=True, return_state=True)\n",
        "decoder_outputs, _, _ = decoder_lstm(dec_emb,\n",
        "                                     initial_state=encoder_states)\n",
        "decoder_dense = Dense(num_decoder_tokens, activation='softmax')\n",
        "decoder_outputs = decoder_dense(decoder_outputs)\n",
        "model = Model([encoder_inputs, decoder_inputs], decoder_outputs)\n",
        "model.compile(optimizer='rmsprop', loss='categorical_crossentropy', metrics=['acc'])\n",
        "model.summary()"
      ]
    },
    {
      "cell_type": "code",
      "execution_count": null,
      "metadata": {
        "colab": {
          "base_uri": "https://localhost:8080/"
        },
        "id": "CifUcXXG4gTj",
        "outputId": "bdf615d7-457c-47ea-e324-0a4b6ab851b9"
      },
      "outputs": [
        {
          "output_type": "stream",
          "name": "stderr",
          "text": [
            "/usr/local/lib/python3.7/dist-packages/ipykernel_launcher.py:7: UserWarning: `Model.fit_generator` is deprecated and will be removed in a future version. Please use `Model.fit`, which supports generators.\n",
            "  import sys\n"
          ]
        },
        {
          "output_type": "stream",
          "name": "stdout",
          "text": [
            "Epoch 1/15\n",
            "1248/1248 [==============================] - 332s 254ms/step - loss: 1.2507 - acc: 0.1415 - val_loss: 1.0697 - val_acc: 0.2431\n",
            "Epoch 2/15\n",
            "1248/1248 [==============================] - 317s 254ms/step - loss: 0.9646 - acc: 0.3030 - val_loss: 0.9180 - val_acc: 0.3466\n",
            "Epoch 3/15\n",
            "1248/1248 [==============================] - 313s 251ms/step - loss: 0.8343 - acc: 0.3852 - val_loss: 0.8462 - val_acc: 0.4025\n",
            "Epoch 4/15\n",
            "1248/1248 [==============================] - 315s 253ms/step - loss: 0.7540 - acc: 0.4403 - val_loss: 0.8010 - val_acc: 0.4387\n",
            "Epoch 5/15\n",
            "1248/1248 [==============================] - 313s 251ms/step - loss: 0.7043 - acc: 0.4815 - val_loss: 0.7707 - val_acc: 0.4653\n",
            "Epoch 6/15\n",
            "1248/1248 [==============================] - 320s 256ms/step - loss: 0.6785 - acc: 0.5100 - val_loss: 0.7648 - val_acc: 0.4802\n",
            "Epoch 7/15\n",
            "1248/1248 [==============================] - 309s 248ms/step - loss: 0.6675 - acc: 0.5307 - val_loss: 0.7621 - val_acc: 0.4888\n",
            "Epoch 8/15\n",
            "1248/1248 [==============================] - 308s 247ms/step - loss: 0.6546 - acc: 0.5462 - val_loss: 0.7480 - val_acc: 0.4977\n",
            "Epoch 9/15\n",
            "1248/1248 [==============================] - 305s 244ms/step - loss: 0.6425 - acc: 0.5613 - val_loss: 0.7480 - val_acc: 0.5050\n",
            "Epoch 10/15\n",
            "1248/1248 [==============================] - 300s 241ms/step - loss: 0.6350 - acc: 0.5731 - val_loss: 0.7468 - val_acc: 0.5073\n",
            "Epoch 11/15\n",
            "1248/1248 [==============================] - 300s 240ms/step - loss: 0.6276 - acc: 0.5817 - val_loss: 0.7448 - val_acc: 0.5098\n",
            "Epoch 12/15\n",
            " 285/1248 [=====>........................] - ETA: 3:41 - loss: 0.6242 - acc: 0.5870"
          ]
        }
      ],
      "source": [
        "model.fit_generator(\n",
        "    generator = generate_batch(X_train, y_train, batch_size = batch_size),\n",
        "    steps_per_epoch = train_samples//batch_size,\n",
        "    epochs = epochs,\n",
        "    # validation_split=0.2,\n",
        "    validation_data = generate_batch(X_test, y_test, batch_size = batch_size),\n",
        "    validation_steps = val_samples//batch_size\n",
        "    )"
      ]
    },
    {
      "cell_type": "code",
      "source": [
        "model.save_weights('/my_model1.h5')"
      ],
      "metadata": {
        "id": "Q-CEPtB9RoWg"
      },
      "execution_count": null,
      "outputs": []
    },
    {
      "cell_type": "code",
      "source": [
        "model.load_weights('/my_model1.h5')"
      ],
      "metadata": {
        "id": "j2yTcoQoRyoj"
      },
      "execution_count": 20,
      "outputs": []
    },
    {
      "cell_type": "code",
      "execution_count": 21,
      "metadata": {
        "id": "Za8Bk2uA40AP"
      },
      "outputs": [],
      "source": [
        "# Encode the input sequence to get the \"Context vectors\"\n",
        "encoder_model = Model(encoder_inputs, encoder_states)\n",
        "# Decoder setup\n",
        "# Below tensors will hold the states of the previous time step\n",
        "decoder_state_input_h = Input(shape=(latent_dim,))\n",
        "decoder_state_input_c = Input(shape=(latent_dim,))\n",
        "decoder_state_input = [decoder_state_input_h, decoder_state_input_c]\n",
        "# Get the embeddings of the decoder sequence\n",
        "dec_emb2= dec_emb_layer(decoder_inputs)\n",
        "# To predict the next word in the sequence, set the initial states to the states from the previous time step\n",
        "decoder_outputs2, state_h2, state_c2 = decoder_lstm(dec_emb2, initial_state=decoder_state_input)\n",
        "decoder_states2 = [state_h2, state_c2]\n",
        "# A dense softmax layer to generate prob dist. over the target vocabulary\n",
        "decoder_outputs2 = decoder_dense(decoder_outputs2)\n",
        "# Final decoder model\n",
        "decoder_model = Model(\n",
        "    [decoder_inputs] + decoder_state_input,\n",
        "    [decoder_outputs2] + decoder_states2)"
      ]
    },
    {
      "cell_type": "code",
      "execution_count": 22,
      "metadata": {
        "id": "_ic3poUM49-5"
      },
      "outputs": [],
      "source": [
        "def decode_sequence(input_seq):\n",
        "  # Encode the input as state vectors.\n",
        "  states_value = encoder_model.predict(input_seq)\n",
        "  # Generate empty target sequence of length 1.\n",
        "  target_seq = np.zeros((1,1))\n",
        "  # Populate the first character of \n",
        "  #target sequence with the start character.\n",
        "  target_seq[0, 0] = target_word2idx['\\t']\n",
        "# Sampling loop for a batch of sequences\n",
        "  # (to simplify, here we assume a batch of size 1).\n",
        "  stop_condition = False\n",
        "  decoded_sentence = ''\n",
        "  while not stop_condition:\n",
        "      output_tokens, h, c = decoder_model.predict([target_seq] + states_value)\n",
        "# Sample a token\n",
        "      sampled_token_index = np.argmax(output_tokens[0, -1, :])\n",
        "      sampled_word =target_idx2word[sampled_token_index]\n",
        "      decoded_sentence += ' '+ sampled_word\n",
        "# Exit condition: either hit max length\n",
        "      # or find stop character.\n",
        "      if (sampled_word == '\\n' or\n",
        "          len(decoded_sentence) > 50):\n",
        "          stop_condition = True\n",
        "# Update the target sequence (of length 1).\n",
        "      target_seq = np.zeros((1,1))\n",
        "      target_seq[0, 0] = sampled_token_index\n",
        "# Update states\n",
        "      states_value = [h, c]\n",
        "  return decoded_sentence"
      ]
    },
    {
      "cell_type": "code",
      "execution_count": 23,
      "metadata": {
        "id": "MCuStkhy5AX_"
      },
      "outputs": [],
      "source": [
        "train_gen = generate_batch(X_train, y_train, batch_size = 1)\n",
        "k=-1"
      ]
    },
    {
      "cell_type": "code",
      "execution_count": 24,
      "metadata": {
        "colab": {
          "base_uri": "https://localhost:8080/"
        },
        "id": "6Lwl2VNK5NSg",
        "outputId": "aebed956-00ec-4c3a-e508-f2ffc98af015"
      },
      "outputs": [
        {
          "output_type": "stream",
          "name": "stdout",
          "text": [
            "Input Source sentence: i dont need anybody\n",
            "Actual Target Translation: никто не нуж\n",
            "Predicted Target Translation:  не надо мне нужна была нужна так том люблю есть\n"
          ]
        }
      ],
      "source": [
        "k+=1\n",
        "(input_seq, actual_output), _ = next(train_gen)\n",
        "decoded_sentence = decode_sequence(input_seq)\n",
        "print('Input Source sentence:', X_train[k:k+1].values[0])\n",
        "print('Actual Target Translation:', y_train[k:k+1].values[0][6:-4])\n",
        "print('Predicted Target Translation:', decoded_sentence[:-4])"
      ]
    },
    {
      "cell_type": "code",
      "execution_count": 25,
      "metadata": {
        "colab": {
          "base_uri": "https://localhost:8080/"
        },
        "id": "Xlo8dDGk5TF7",
        "outputId": "3e9951af-5d91-49b3-81aa-190335b15be6"
      },
      "outputs": [
        {
          "output_type": "stream",
          "name": "stdout",
          "text": [
            "Input Source sentence: i owe tom my life\n",
            "Actual Target Translation: язан тому жизн\n",
            "Predicted Target Translation:  не могу есть тома внимания с томом в это видел в\n"
          ]
        }
      ],
      "source": [
        "test_gen = generate_batch(X_test, y_test, batch_size = 1)\n",
        "k=10\n",
        "k+=1\n",
        "(input_seq, actual_output), _ = next(test_gen)\n",
        "decoded_sentence = decode_sequence(input_seq)\n",
        "print('Input Source sentence:', X_test[k:k+1].values[0])\n",
        "print('Actual Target Translation:', y_test[k:k+1].values[0][6:-4])\n",
        "print('Predicted Target Translation:', decoded_sentence[:-4])"
      ]
    },
    {
      "cell_type": "code",
      "execution_count": null,
      "metadata": {
        "id": "L7pYywrd5T-S"
      },
      "outputs": [],
      "source": [
        ""
      ]
    }
  ],
  "metadata": {
    "colab": {
      "collapsed_sections": [],
      "name": "Lab5_1_translation_gans.ipynb",
      "provenance": []
    },
    "kernelspec": {
      "display_name": "Python 3",
      "name": "python3"
    },
    "language_info": {
      "name": "python"
    },
    "accelerator": "GPU"
  },
  "nbformat": 4,
  "nbformat_minor": 0
}