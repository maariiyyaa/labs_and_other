{
 "cells": [
  {
   "cell_type": "code",
   "execution_count": 1,
   "metadata": {},
   "outputs": [],
   "source": [
    "import numpy as np\n",
    "import matplotlib.pyplot as plt\n",
    "from numpy import log, dot, e\n",
    "from numpy.random import rand, randint\n",
    "from sklearn.model_selection import train_test_split"
   ]
  },
  {
   "cell_type": "markdown",
   "metadata": {},
   "source": [
    "### task 1. linear regression"
   ]
  },
  {
   "cell_type": "code",
   "execution_count": 3,
   "metadata": {},
   "outputs": [
    {
     "data": {
      "image/png": "[encoded data removed]",
      "text/plain": [
       "<Figure size 432x288 with 1 Axes>"
      ]
     },
     "metadata": {
      "needs_background": "light"
     },
     "output_type": "display_data"
    }
   ],
   "source": [
    "#sample initialization\n",
    "#params\n",
    "a_true, b_true = -2, 3\n",
    "#sample size\n",
    "size = 30\n",
    "\n",
    "x = np.arange(size)\n",
    "y = a_true * x + b_true + np.random.uniform(-5, 5, size)\n",
    "\n",
    "plt.scatter(x,y, marker = '.', label='sample')\n",
    "plt.legend(loc='upper left')\n",
    "plt.show()"
   ]
  },
  {
   "cell_type": "code",
   "execution_count": 4,
   "metadata": {},
   "outputs": [],
   "source": [
    "class LineasRegression():\n",
    "    \n",
    "    def cost_function(self, x, a, b):                 \n",
    "        cost = (1/(2*len(x)))*sum((x*a+b - y)**2)\n",
    "        return cost\n",
    "    \n",
    "    def cost_dev(self, a,b, x, y):\n",
    "        dev_a = (1/len(x))*sum(x*(x*a+b - y))\n",
    "        dev_b = (1/len(x))*sum(x*a+b - y)\n",
    "        return (dev_a, dev_b)\n",
    "    \n",
    "    \n",
    "    def fit(self, x, y, epochs=50, lr=0.05):        \n",
    "        loss = []\n",
    "        a, b = 0, 1\n",
    "        for _ in range(epochs): \n",
    "            # Gradient Descent\n",
    "            a, b = map(lambda x,y : x-lr*y, (a,b), self.cost_dev(a, b, x, y))       \n",
    "            loss.append(self.cost_function(x, a, b)) \n",
    "            \n",
    "        self.weights = a, b\n",
    "        self.loss = loss\n",
    "        \n",
    "    \n",
    "    def predict(self, X):        \n",
    "        return self.weights[0]*X+self.weights[1]\n",
    "    "
   ]
  },
  {
   "cell_type": "code",
   "execution_count": 5,
   "metadata": {},
   "outputs": [
    {
     "name": "stdout",
     "output_type": "stream",
     "text": [
      "found a: -1.9619873803552235,\n",
      "found b: 2.553902402591504\n",
      "\n",
      "deviation a: 0.038012619644776535,\n",
      "deviation b: 0.44609759740849597\n"
     ]
    }
   ],
   "source": [
    "model = LineasRegression()\n",
    "model.fit(x, y, epochs=1000, lr=0.002)\n",
    "a, b = model.weights\n",
    "\n",
    "print(f'found a: {a},\\nfound b: {b}\\n')\n",
    "print(f'deviation a: {abs(a - a_true)},\\ndeviation b: {abs(b - b_true)}')"
   ]
  },
  {
   "cell_type": "code",
   "execution_count": 6,
   "metadata": {},
   "outputs": [
    {
     "data": {
      "image/png": "[encoded data removed]",
      "text/plain": [
       "<Figure size 432x288 with 1 Axes>"
      ]
     },
     "metadata": {
      "needs_background": "light"
     },
     "output_type": "display_data"
    }
   ],
   "source": [
    "plt.plot(range(len(model.loss)), model.loss, label='loss')\n",
    "plt.legend(loc='upper left')\n",
    "plt.show()"
   ]
  },
  {
   "cell_type": "code",
   "execution_count": 7,
   "metadata": {},
   "outputs": [
    {
     "data": {
      "image/png": "[encoded data removed]",
      "text/plain": [
       "<Figure size 432x288 with 1 Axes>"
      ]
     },
     "metadata": {
      "needs_background": "light"
     },
     "output_type": "display_data"
    }
   ],
   "source": [
    "plt.scatter(x, y, s=20, c='b', marker = '.', label='sample')\n",
    "plt.plot(range(size),a*x+b, c='r', label='line_plot')\n",
    "plt.legend(loc='upper left')\n",
    "plt.show()"
   ]
  },
  {
   "cell_type": "markdown",
   "metadata": {},
   "source": [
    "### task 2. logistic regression"
   ]
  },
  {
   "cell_type": "code",
   "execution_count": 8,
   "metadata": {},
   "outputs": [],
   "source": [
    "class LogisticRegression:\n",
    "    \n",
    "    def sigmoid(self, z): return 1 / (1 + e**(-z))\n",
    "    \n",
    "    \n",
    "    def cost_function(self, X, y, weights):                 \n",
    "        z = dot(X, weights)\n",
    "        predict_1 = y * log(self.sigmoid(z))\n",
    "        predict_0 = (1 - y) * log(1 - self.sigmoid(z))\n",
    "        return -sum(predict_1 + predict_0) / len(X)\n",
    "    \n",
    "    \n",
    "    def fit(self, X, y, epochs=25, lr=0.05):        \n",
    "        loss = []\n",
    "        weights = rand(X.shape[1])\n",
    "        N = len(X)\n",
    "                 \n",
    "        for _ in range(epochs):        \n",
    "            # Gradient Descent\n",
    "            y_ = self.sigmoid(dot(X, weights))\n",
    "            weights -= lr * dot(X.T,  y_ - y) / N            \n",
    "            loss.append(self.cost_function(X, y, weights)) \n",
    "            \n",
    "        self.weights = weights\n",
    "        self.loss = loss\n",
    "    \n",
    "    def predict(self, X):        \n",
    "        z = dot(X, self.weights)\n",
    "        return [1 if i > 0.5 else 0 for i in self.sigmoid(z)]\n",
    "    \n",
    "    \n",
    "\n",
    "def accuracy(preds, y_test):\n",
    "    return (len(preds) - sum(abs(preds - y_test)))/len(preds)"
   ]
  },
  {
   "cell_type": "code",
   "execution_count": 14,
   "metadata": {},
   "outputs": [
    {
     "data": {
      "image/png": "[encoded data removed]",
      "text/plain": [
       "<Figure size 432x288 with 1 Axes>"
      ]
     },
     "metadata": {
      "needs_background": "light"
     },
     "output_type": "display_data"
    }
   ],
   "source": [
    "#generate dataset\n",
    "size = 200\n",
    "dataset = np.zeros(shape = (size, 3))\n",
    "sigma = np.random.uniform(-9, 9, size)\n",
    "\n",
    "for i in range(0,int(size/2), 2):\n",
    "    dataset[i] = -5+sigma[i], -5+sigma[i+np.random.randint(0,3)], 0\n",
    "    dataset[i+1] = 5+sigma[i], 5+sigma[i+np.random.randint(0,3)], 1\n",
    "\n",
    "plt.scatter(dataset[:,0], dataset[:,1], c=dataset[:,2])\n",
    "plt.show()"
   ]
  },
  {
   "cell_type": "code",
   "execution_count": 15,
   "metadata": {},
   "outputs": [],
   "source": [
    "#spkit dataset for train/test\n",
    "sample = dataset[:, :-1]\n",
    "lable = dataset[:, -1]\n",
    "X_train, X_test, Y_train, Y_test = train_test_split(sample, lable, test_size = 0.3, random_state = 42)"
   ]
  },
  {
   "cell_type": "code",
   "execution_count": 16,
   "metadata": {},
   "outputs": [],
   "source": [
    "#trainig mmodel\n",
    "model = LogisticRegression()\n",
    "model.fit(X_train, Y_train)\n",
    "preds = model.predict(X_test)"
   ]
  },
  {
   "cell_type": "code",
   "execution_count": 17,
   "metadata": {},
   "outputs": [
    {
     "name": "stdout",
     "output_type": "stream",
     "text": [
      "model accuracy:  0.95\n"
     ]
    }
   ],
   "source": [
    "print(f'model accuracy:  {accuracy(preds, Y_test)}')"
   ]
  },
  {
   "cell_type": "code",
   "execution_count": null,
   "metadata": {},
   "outputs": [],
   "source": []
  }
 ],
 "metadata": {
  "kernelspec": {
   "display_name": "Python 3",
   "language": "python",
   "name": "python3"
  },
  "language_info": {
   "codemirror_mode": {
    "name": "ipython",
    "version": 3
   },
   "file_extension": ".py",
   "mimetype": "text/x-python",
   "name": "python",
   "nbconvert_exporter": "python",
   "pygments_lexer": "ipython3",
   "version": "3.8.6"
  }
 },
 "nbformat": 4,
 "nbformat_minor": 4
}
